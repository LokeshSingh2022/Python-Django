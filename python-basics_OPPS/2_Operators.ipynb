{
  "nbformat": 4,
  "nbformat_minor": 0,
  "metadata": {
    "kernelspec": {
      "display_name": "Python 3",
      "language": "python",
      "name": "python3"
    },
    "language_info": {
      "codemirror_mode": {
        "name": "ipython",
        "version": 3
      },
      "file_extension": ".py",
      "mimetype": "text/x-python",
      "name": "python",
      "nbconvert_exporter": "python",
      "pygments_lexer": "ipython3",
      "version": "3.7.6"
    },
    "colab": {
      "name": "2_Operators.ipynb",
      "provenance": []
    }
  },
  "cells": [
    {
      "cell_type": "markdown",
      "metadata": {
        "id": "rbVr65LslQtM",
        "colab_type": "text"
      },
      "source": [
        "# Operators in Python"
      ]
    },
    {
      "cell_type": "markdown",
      "metadata": {
        "id": "pI5DVDpnlQtN",
        "colab_type": "text"
      },
      "source": [
        "In python there are mainly 7 types of operators :-\n",
        "    \n",
        "    1. Arithmetic Operators\n",
        "    2. Comparison Operators\n",
        "    3. Assignment Operators\n",
        "    4. Logical Operators\n",
        "    5. Bitwise Operators\n",
        "    6. Membership Operators\n",
        "    7. Identity Operators"
      ]
    },
    {
      "cell_type": "markdown",
      "metadata": {
        "id": "Roh_z8KnlQtO",
        "colab_type": "text"
      },
      "source": [
        "## Arithmetic Operators"
      ]
    },
    {
      "cell_type": "code",
      "metadata": {
        "id": "r5upk7fMlQtO",
        "colab_type": "code",
        "colab": {}
      },
      "source": [
        "a = 10\n",
        "b = 5"
      ],
      "execution_count": null,
      "outputs": []
    },
    {
      "cell_type": "code",
      "metadata": {
        "id": "-RdEjHoxlQtS",
        "colab_type": "code",
        "colab": {},
        "outputId": "27ea6ff0-e1f6-4fb4-fd60-397a49684090"
      },
      "source": [
        "a+b"
      ],
      "execution_count": null,
      "outputs": [
        {
          "output_type": "execute_result",
          "data": {
            "text/plain": [
              "15"
            ]
          },
          "metadata": {
            "tags": []
          },
          "execution_count": 2
        }
      ]
    },
    {
      "cell_type": "code",
      "metadata": {
        "id": "LtAwtHmSlQtV",
        "colab_type": "code",
        "colab": {},
        "outputId": "42960e7c-3373-4cf0-975f-0f3d242ecbac"
      },
      "source": [
        "a-b"
      ],
      "execution_count": null,
      "outputs": [
        {
          "output_type": "execute_result",
          "data": {
            "text/plain": [
              "5"
            ]
          },
          "metadata": {
            "tags": []
          },
          "execution_count": 3
        }
      ]
    },
    {
      "cell_type": "code",
      "metadata": {
        "id": "xdAB3v42lQtX",
        "colab_type": "code",
        "colab": {},
        "outputId": "bfb7c7d8-2420-4e38-8314-07012b4f338c"
      },
      "source": [
        "a*b"
      ],
      "execution_count": null,
      "outputs": [
        {
          "output_type": "execute_result",
          "data": {
            "text/plain": [
              "50"
            ]
          },
          "metadata": {
            "tags": []
          },
          "execution_count": 4
        }
      ]
    },
    {
      "cell_type": "code",
      "metadata": {
        "id": "I7ZQBxY_lQta",
        "colab_type": "code",
        "colab": {},
        "outputId": "92e14ac8-e55e-4b34-eca8-62cbc225ceae"
      },
      "source": [
        "a/b"
      ],
      "execution_count": null,
      "outputs": [
        {
          "output_type": "execute_result",
          "data": {
            "text/plain": [
              "2.0"
            ]
          },
          "metadata": {
            "tags": []
          },
          "execution_count": 5
        }
      ]
    },
    {
      "cell_type": "code",
      "metadata": {
        "id": "BHXme6FzlQtc",
        "colab_type": "code",
        "colab": {},
        "outputId": "84624f88-b7b4-4fef-b8d1-8ed038ae3472"
      },
      "source": [
        "a//b"
      ],
      "execution_count": null,
      "outputs": [
        {
          "output_type": "execute_result",
          "data": {
            "text/plain": [
              "2"
            ]
          },
          "metadata": {
            "tags": []
          },
          "execution_count": 6
        }
      ]
    },
    {
      "cell_type": "code",
      "metadata": {
        "id": "aSvQrkoGlQtf",
        "colab_type": "code",
        "colab": {},
        "outputId": "ad687f5e-153b-48a2-f2b7-80bb2d526a27"
      },
      "source": [
        "a**3"
      ],
      "execution_count": null,
      "outputs": [
        {
          "output_type": "execute_result",
          "data": {
            "text/plain": [
              "1000"
            ]
          },
          "metadata": {
            "tags": []
          },
          "execution_count": 7
        }
      ]
    },
    {
      "cell_type": "code",
      "metadata": {
        "id": "cjDWz4xhlQth",
        "colab_type": "code",
        "colab": {},
        "outputId": "9657708e-1230-4908-f261-ada00c36ee25"
      },
      "source": [
        "b**2"
      ],
      "execution_count": null,
      "outputs": [
        {
          "output_type": "execute_result",
          "data": {
            "text/plain": [
              "25"
            ]
          },
          "metadata": {
            "tags": []
          },
          "execution_count": 8
        }
      ]
    },
    {
      "cell_type": "code",
      "metadata": {
        "id": "6YucDAbplQtk",
        "colab_type": "code",
        "colab": {},
        "outputId": "7fb92045-3a9a-401f-df63-0ec82777b5b5"
      },
      "source": [
        "a%3"
      ],
      "execution_count": null,
      "outputs": [
        {
          "output_type": "execute_result",
          "data": {
            "text/plain": [
              "1"
            ]
          },
          "metadata": {
            "tags": []
          },
          "execution_count": 9
        }
      ]
    },
    {
      "cell_type": "code",
      "metadata": {
        "id": "MwQZYNvRlQtm",
        "colab_type": "code",
        "colab": {},
        "outputId": "06ddc1e7-1a58-4513-92e2-0cb65715c83d"
      },
      "source": [
        "b%3"
      ],
      "execution_count": null,
      "outputs": [
        {
          "output_type": "execute_result",
          "data": {
            "text/plain": [
              "2"
            ]
          },
          "metadata": {
            "tags": []
          },
          "execution_count": 10
        }
      ]
    },
    {
      "cell_type": "markdown",
      "metadata": {
        "id": "Q3R2IPQXlQto",
        "colab_type": "text"
      },
      "source": [
        "## Comparison Operators"
      ]
    },
    {
      "cell_type": "code",
      "metadata": {
        "id": "UeA1it4flQto",
        "colab_type": "code",
        "colab": {},
        "outputId": "8a3d1d6c-90e9-4061-d9d6-1adbd919c5b9"
      },
      "source": [
        "a == b"
      ],
      "execution_count": null,
      "outputs": [
        {
          "output_type": "execute_result",
          "data": {
            "text/plain": [
              "False"
            ]
          },
          "metadata": {
            "tags": []
          },
          "execution_count": 11
        }
      ]
    },
    {
      "cell_type": "code",
      "metadata": {
        "id": "veM9r1RylQtr",
        "colab_type": "code",
        "colab": {},
        "outputId": "28c89e4e-74f5-4415-f84f-7488248ea97b"
      },
      "source": [
        "a != b"
      ],
      "execution_count": null,
      "outputs": [
        {
          "output_type": "execute_result",
          "data": {
            "text/plain": [
              "True"
            ]
          },
          "metadata": {
            "tags": []
          },
          "execution_count": 12
        }
      ]
    },
    {
      "cell_type": "code",
      "metadata": {
        "id": "CrwvJZfolQtt",
        "colab_type": "code",
        "colab": {},
        "outputId": "081cab0c-36de-483f-f457-41124f2a70e3"
      },
      "source": [
        "a >= b"
      ],
      "execution_count": null,
      "outputs": [
        {
          "output_type": "execute_result",
          "data": {
            "text/plain": [
              "True"
            ]
          },
          "metadata": {
            "tags": []
          },
          "execution_count": 13
        }
      ]
    },
    {
      "cell_type": "code",
      "metadata": {
        "id": "cCbiP-FClQty",
        "colab_type": "code",
        "colab": {},
        "outputId": "9deb0544-8420-4e3b-afd5-d99df96a7573"
      },
      "source": [
        "a>b"
      ],
      "execution_count": null,
      "outputs": [
        {
          "output_type": "execute_result",
          "data": {
            "text/plain": [
              "True"
            ]
          },
          "metadata": {
            "tags": []
          },
          "execution_count": 14
        }
      ]
    },
    {
      "cell_type": "code",
      "metadata": {
        "id": "LqlFXOuglQt1",
        "colab_type": "code",
        "colab": {},
        "outputId": "b7be23ea-e5c7-43dd-df48-61d6309a508e"
      },
      "source": [
        "a<=b"
      ],
      "execution_count": null,
      "outputs": [
        {
          "output_type": "execute_result",
          "data": {
            "text/plain": [
              "False"
            ]
          },
          "metadata": {
            "tags": []
          },
          "execution_count": 15
        }
      ]
    },
    {
      "cell_type": "code",
      "metadata": {
        "id": "VH3kmA5ulQt3",
        "colab_type": "code",
        "colab": {},
        "outputId": "c20a2b53-6f8f-4e84-b786-ff2d1173f2bc"
      },
      "source": [
        "a<b"
      ],
      "execution_count": null,
      "outputs": [
        {
          "output_type": "execute_result",
          "data": {
            "text/plain": [
              "False"
            ]
          },
          "metadata": {
            "tags": []
          },
          "execution_count": 16
        }
      ]
    },
    {
      "cell_type": "markdown",
      "metadata": {
        "id": "m0fdPYJ1lQt5",
        "colab_type": "text"
      },
      "source": [
        "## Assignment Operators"
      ]
    },
    {
      "cell_type": "code",
      "metadata": {
        "id": "__eMpqGxlQt6",
        "colab_type": "code",
        "colab": {}
      },
      "source": [
        "a = 5"
      ],
      "execution_count": null,
      "outputs": []
    },
    {
      "cell_type": "code",
      "metadata": {
        "id": "HvSItOuQlQt8",
        "colab_type": "code",
        "colab": {}
      },
      "source": [
        "a += 1"
      ],
      "execution_count": null,
      "outputs": []
    },
    {
      "cell_type": "code",
      "metadata": {
        "id": "CVTQFFLXlQt-",
        "colab_type": "code",
        "colab": {},
        "outputId": "06235f37-e170-4a3e-cd7c-8453b1616d41"
      },
      "source": [
        "a"
      ],
      "execution_count": null,
      "outputs": [
        {
          "output_type": "execute_result",
          "data": {
            "text/plain": [
              "6"
            ]
          },
          "metadata": {
            "tags": []
          },
          "execution_count": 20
        }
      ]
    },
    {
      "cell_type": "code",
      "metadata": {
        "id": "O0FUmUDplQuA",
        "colab_type": "code",
        "colab": {}
      },
      "source": [
        "a -= 1"
      ],
      "execution_count": null,
      "outputs": []
    },
    {
      "cell_type": "code",
      "metadata": {
        "id": "dCt5tbxQlQuC",
        "colab_type": "code",
        "colab": {},
        "outputId": "70efa8f4-366a-46f1-b30a-daa086b824c9"
      },
      "source": [
        "a"
      ],
      "execution_count": null,
      "outputs": [
        {
          "output_type": "execute_result",
          "data": {
            "text/plain": [
              "5"
            ]
          },
          "metadata": {
            "tags": []
          },
          "execution_count": 22
        }
      ]
    },
    {
      "cell_type": "code",
      "metadata": {
        "id": "dHQ1kmJylQuE",
        "colab_type": "code",
        "colab": {}
      },
      "source": [
        "a *= 2"
      ],
      "execution_count": null,
      "outputs": []
    },
    {
      "cell_type": "code",
      "metadata": {
        "id": "E81wclbflQuG",
        "colab_type": "code",
        "colab": {},
        "outputId": "eb4c6ddc-a75b-482d-9a72-f5d4b6348cc6"
      },
      "source": [
        "a"
      ],
      "execution_count": null,
      "outputs": [
        {
          "output_type": "execute_result",
          "data": {
            "text/plain": [
              "10"
            ]
          },
          "metadata": {
            "tags": []
          },
          "execution_count": 24
        }
      ]
    },
    {
      "cell_type": "code",
      "metadata": {
        "id": "Ve78Ti0RlQuI",
        "colab_type": "code",
        "colab": {}
      },
      "source": [
        "a /= 5"
      ],
      "execution_count": null,
      "outputs": []
    },
    {
      "cell_type": "code",
      "metadata": {
        "id": "Waq4j67ilQuL",
        "colab_type": "code",
        "colab": {},
        "outputId": "64a49b90-3f3b-4f8e-a51b-c9668616e973"
      },
      "source": [
        "a"
      ],
      "execution_count": null,
      "outputs": [
        {
          "output_type": "execute_result",
          "data": {
            "text/plain": [
              "2.0"
            ]
          },
          "metadata": {
            "tags": []
          },
          "execution_count": 26
        }
      ]
    },
    {
      "cell_type": "code",
      "metadata": {
        "id": "IkltlmJYlQuN",
        "colab_type": "code",
        "colab": {}
      },
      "source": [
        "a **= 4"
      ],
      "execution_count": null,
      "outputs": []
    },
    {
      "cell_type": "code",
      "metadata": {
        "id": "O2uudK1jlQuP",
        "colab_type": "code",
        "colab": {},
        "outputId": "0a398a7d-fee0-4073-ce6d-e1f496e77a6d"
      },
      "source": [
        "a"
      ],
      "execution_count": null,
      "outputs": [
        {
          "output_type": "execute_result",
          "data": {
            "text/plain": [
              "16.0"
            ]
          },
          "metadata": {
            "tags": []
          },
          "execution_count": 29
        }
      ]
    },
    {
      "cell_type": "code",
      "metadata": {
        "id": "2Dme85delQuR",
        "colab_type": "code",
        "colab": {}
      },
      "source": [
        "a %= 7"
      ],
      "execution_count": null,
      "outputs": []
    },
    {
      "cell_type": "code",
      "metadata": {
        "id": "lj3n3YPDlQuT",
        "colab_type": "code",
        "colab": {},
        "outputId": "438c2263-4bf4-46e8-b1e2-cdbf72ab7241"
      },
      "source": [
        "a"
      ],
      "execution_count": null,
      "outputs": [
        {
          "output_type": "execute_result",
          "data": {
            "text/plain": [
              "2.0"
            ]
          },
          "metadata": {
            "tags": []
          },
          "execution_count": 32
        }
      ]
    },
    {
      "cell_type": "markdown",
      "metadata": {
        "id": "MKqBrlH-lQuU",
        "colab_type": "text"
      },
      "source": [
        "## Logical Operators"
      ]
    },
    {
      "cell_type": "code",
      "metadata": {
        "id": "GD-Q4p2WlQuV",
        "colab_type": "code",
        "colab": {},
        "outputId": "c339a5c4-c62f-4bde-a100-c92e405720a3"
      },
      "source": [
        "1 and 0"
      ],
      "execution_count": null,
      "outputs": [
        {
          "output_type": "execute_result",
          "data": {
            "text/plain": [
              "0"
            ]
          },
          "metadata": {
            "tags": []
          },
          "execution_count": 33
        }
      ]
    },
    {
      "cell_type": "code",
      "metadata": {
        "id": "KnBOe8C9lQuY",
        "colab_type": "code",
        "colab": {},
        "outputId": "3fe4af13-3f10-41bf-951f-c7fb806d728e"
      },
      "source": [
        "1 or 0"
      ],
      "execution_count": null,
      "outputs": [
        {
          "output_type": "execute_result",
          "data": {
            "text/plain": [
              "1"
            ]
          },
          "metadata": {
            "tags": []
          },
          "execution_count": 34
        }
      ]
    },
    {
      "cell_type": "code",
      "metadata": {
        "id": "-x1hcbESlQuZ",
        "colab_type": "code",
        "colab": {},
        "outputId": "76e42eed-6b09-4a0a-bdc5-af0eed536cfa"
      },
      "source": [
        "~1 # Our computer gives twos complement"
      ],
      "execution_count": null,
      "outputs": [
        {
          "output_type": "execute_result",
          "data": {
            "text/plain": [
              "-2"
            ]
          },
          "metadata": {
            "tags": []
          },
          "execution_count": 39
        }
      ]
    },
    {
      "cell_type": "markdown",
      "metadata": {
        "id": "P5zTMaGSlQub",
        "colab_type": "text"
      },
      "source": [
        "## Membership Operators"
      ]
    },
    {
      "cell_type": "code",
      "metadata": {
        "id": "EeDGQEYklQuc",
        "colab_type": "code",
        "colab": {}
      },
      "source": [
        "a = [1,2,3]"
      ],
      "execution_count": null,
      "outputs": []
    },
    {
      "cell_type": "code",
      "metadata": {
        "id": "v-qDpIL4lQud",
        "colab_type": "code",
        "colab": {},
        "outputId": "ee2b9bbe-9b53-4d24-add7-af02a41d0368"
      },
      "source": [
        "2 in a"
      ],
      "execution_count": null,
      "outputs": [
        {
          "output_type": "execute_result",
          "data": {
            "text/plain": [
              "True"
            ]
          },
          "metadata": {
            "tags": []
          },
          "execution_count": 41
        }
      ]
    },
    {
      "cell_type": "code",
      "metadata": {
        "id": "j0ldDAmLlQuf",
        "colab_type": "code",
        "colab": {},
        "outputId": "df4e8039-02a5-4f11-ba69-f7e057c1f5b1"
      },
      "source": [
        "4 in a"
      ],
      "execution_count": null,
      "outputs": [
        {
          "output_type": "execute_result",
          "data": {
            "text/plain": [
              "False"
            ]
          },
          "metadata": {
            "tags": []
          },
          "execution_count": 42
        }
      ]
    },
    {
      "cell_type": "code",
      "metadata": {
        "id": "61cnUA8blQuh",
        "colab_type": "code",
        "colab": {},
        "outputId": "65e2f042-4f34-42e1-f969-f948719a7dcb"
      },
      "source": [
        "5 not in a"
      ],
      "execution_count": null,
      "outputs": [
        {
          "output_type": "execute_result",
          "data": {
            "text/plain": [
              "True"
            ]
          },
          "metadata": {
            "tags": []
          },
          "execution_count": 43
        }
      ]
    },
    {
      "cell_type": "markdown",
      "metadata": {
        "id": "VPGSTQ62lQuj",
        "colab_type": "text"
      },
      "source": [
        "## Identity Operator"
      ]
    },
    {
      "cell_type": "code",
      "metadata": {
        "id": "GaSD0oKulQuj",
        "colab_type": "code",
        "colab": {}
      },
      "source": [
        "a = [1,2,3]"
      ],
      "execution_count": null,
      "outputs": []
    },
    {
      "cell_type": "code",
      "metadata": {
        "id": "FWBiD-VWlQul",
        "colab_type": "code",
        "colab": {}
      },
      "source": [
        "b = [1,2,3]"
      ],
      "execution_count": null,
      "outputs": []
    },
    {
      "cell_type": "code",
      "metadata": {
        "id": "-Xar-9k7lQun",
        "colab_type": "code",
        "colab": {}
      },
      "source": [
        "c = a"
      ],
      "execution_count": null,
      "outputs": []
    },
    {
      "cell_type": "code",
      "metadata": {
        "id": "rUg29Va3lQuq",
        "colab_type": "code",
        "colab": {},
        "outputId": "b71f8f7f-bba8-439b-908e-92b5dd8d0957"
      },
      "source": [
        "a == b"
      ],
      "execution_count": null,
      "outputs": [
        {
          "output_type": "execute_result",
          "data": {
            "text/plain": [
              "True"
            ]
          },
          "metadata": {
            "tags": []
          },
          "execution_count": 47
        }
      ]
    },
    {
      "cell_type": "code",
      "metadata": {
        "id": "ia4JcGnclQus",
        "colab_type": "code",
        "colab": {},
        "outputId": "a053ae09-574e-46d2-cc86-09d57542a35f"
      },
      "source": [
        "a == c"
      ],
      "execution_count": null,
      "outputs": [
        {
          "output_type": "execute_result",
          "data": {
            "text/plain": [
              "True"
            ]
          },
          "metadata": {
            "tags": []
          },
          "execution_count": 48
        }
      ]
    },
    {
      "cell_type": "code",
      "metadata": {
        "id": "QmXQShKblQuu",
        "colab_type": "code",
        "colab": {},
        "outputId": "92097d7f-bf06-43c8-da08-1aebb9de3d09"
      },
      "source": [
        "a is b"
      ],
      "execution_count": null,
      "outputs": [
        {
          "output_type": "execute_result",
          "data": {
            "text/plain": [
              "False"
            ]
          },
          "metadata": {
            "tags": []
          },
          "execution_count": 49
        }
      ]
    },
    {
      "cell_type": "code",
      "metadata": {
        "id": "ek38p2_ClQuy",
        "colab_type": "code",
        "colab": {},
        "outputId": "de7d5732-c767-4f64-bfcd-698d50ae90e8"
      },
      "source": [
        "a is c"
      ],
      "execution_count": null,
      "outputs": [
        {
          "output_type": "execute_result",
          "data": {
            "text/plain": [
              "True"
            ]
          },
          "metadata": {
            "tags": []
          },
          "execution_count": 50
        }
      ]
    },
    {
      "cell_type": "code",
      "metadata": {
        "id": "EH3M4RU0lQuz",
        "colab_type": "code",
        "colab": {},
        "outputId": "89ce7ca5-876a-4f29-d3a7-27a526be65f1"
      },
      "source": [
        "a is not b"
      ],
      "execution_count": null,
      "outputs": [
        {
          "output_type": "execute_result",
          "data": {
            "text/plain": [
              "True"
            ]
          },
          "metadata": {
            "tags": []
          },
          "execution_count": 51
        }
      ]
    },
    {
      "cell_type": "code",
      "metadata": {
        "id": "HWJLXeU4lQu2",
        "colab_type": "code",
        "colab": {},
        "outputId": "c691d2e7-0282-4de4-ecd0-be92319ea7ef"
      },
      "source": [
        "a is not c"
      ],
      "execution_count": null,
      "outputs": [
        {
          "output_type": "execute_result",
          "data": {
            "text/plain": [
              "False"
            ]
          },
          "metadata": {
            "tags": []
          },
          "execution_count": 52
        }
      ]
    },
    {
      "cell_type": "markdown",
      "metadata": {
        "id": "LqGv25fLlQu4",
        "colab_type": "text"
      },
      "source": [
        "## Bitwise Operators"
      ]
    },
    {
      "cell_type": "code",
      "metadata": {
        "id": "nDqgg3A2lQu4",
        "colab_type": "code",
        "colab": {}
      },
      "source": [
        "a = 5 # 0101"
      ],
      "execution_count": null,
      "outputs": []
    },
    {
      "cell_type": "code",
      "metadata": {
        "id": "2ZTv3GqVlQu6",
        "colab_type": "code",
        "colab": {}
      },
      "source": [
        "b = 9 # 1001"
      ],
      "execution_count": null,
      "outputs": []
    },
    {
      "cell_type": "code",
      "metadata": {
        "id": "pLeTGlhVlQu8",
        "colab_type": "code",
        "colab": {},
        "outputId": "a64cf3f5-5f93-4c6e-8e17-d192e1de17b4"
      },
      "source": [
        "a|b"
      ],
      "execution_count": null,
      "outputs": [
        {
          "output_type": "execute_result",
          "data": {
            "text/plain": [
              "13"
            ]
          },
          "metadata": {
            "tags": []
          },
          "execution_count": 55
        }
      ]
    },
    {
      "cell_type": "code",
      "metadata": {
        "id": "OaCra9rrlQu-",
        "colab_type": "code",
        "colab": {},
        "outputId": "6f6d1ae6-9efb-453a-b35b-df03fb7101d9"
      },
      "source": [
        "a&b"
      ],
      "execution_count": null,
      "outputs": [
        {
          "output_type": "execute_result",
          "data": {
            "text/plain": [
              "1"
            ]
          },
          "metadata": {
            "tags": []
          },
          "execution_count": 56
        }
      ]
    },
    {
      "cell_type": "code",
      "metadata": {
        "id": "Wp6c4ZuNlQvA",
        "colab_type": "code",
        "colab": {},
        "outputId": "ce7d780d-eb87-4f01-b9fe-87a653bd86f8"
      },
      "source": [
        "a^b"
      ],
      "execution_count": null,
      "outputs": [
        {
          "output_type": "execute_result",
          "data": {
            "text/plain": [
              "12"
            ]
          },
          "metadata": {
            "tags": []
          },
          "execution_count": 57
        }
      ]
    },
    {
      "cell_type": "code",
      "metadata": {
        "id": "eMsJx1PilQvD",
        "colab_type": "code",
        "colab": {},
        "outputId": "9dc88356-60d0-445f-d41f-ebd6bc6f0583"
      },
      "source": [
        "a<<1"
      ],
      "execution_count": null,
      "outputs": [
        {
          "output_type": "execute_result",
          "data": {
            "text/plain": [
              "10"
            ]
          },
          "metadata": {
            "tags": []
          },
          "execution_count": 58
        }
      ]
    },
    {
      "cell_type": "code",
      "metadata": {
        "id": "4TOZsoxJlQvF",
        "colab_type": "code",
        "colab": {},
        "outputId": "62910636-b3d7-472d-a8e4-174c74d9e437"
      },
      "source": [
        "a>>1"
      ],
      "execution_count": null,
      "outputs": [
        {
          "output_type": "execute_result",
          "data": {
            "text/plain": [
              "2"
            ]
          },
          "metadata": {
            "tags": []
          },
          "execution_count": 59
        }
      ]
    },
    {
      "cell_type": "code",
      "metadata": {
        "id": "-rpgIlRPlQvH",
        "colab_type": "code",
        "colab": {},
        "outputId": "adaa3dc0-80bf-40ba-b8c0-25c6171be3a7"
      },
      "source": [
        "~b #Twos Complement"
      ],
      "execution_count": null,
      "outputs": [
        {
          "output_type": "execute_result",
          "data": {
            "text/plain": [
              "-10"
            ]
          },
          "metadata": {
            "tags": []
          },
          "execution_count": 61
        }
      ]
    },
    {
      "cell_type": "markdown",
      "metadata": {
        "id": "71xhZqlRlQvJ",
        "colab_type": "text"
      },
      "source": [
        "## Conditional Statements"
      ]
    },
    {
      "cell_type": "code",
      "metadata": {
        "id": "5MusRhbHlQvJ",
        "colab_type": "code",
        "colab": {}
      },
      "source": [
        "a = [1,2,3]"
      ],
      "execution_count": null,
      "outputs": []
    },
    {
      "cell_type": "code",
      "metadata": {
        "id": "I6VMmif6lQvK",
        "colab_type": "code",
        "colab": {},
        "outputId": "df6e7102-479a-4141-da91-3e99e88586f5"
      },
      "source": [
        "if 1 in a :\n",
        "    print('yes')\n",
        "    \n",
        "else:\n",
        "    print('no')"
      ],
      "execution_count": null,
      "outputs": [
        {
          "output_type": "stream",
          "text": [
            "yes\n"
          ],
          "name": "stdout"
        }
      ]
    },
    {
      "cell_type": "code",
      "metadata": {
        "id": "FVx7PbZzlQvM",
        "colab_type": "code",
        "colab": {},
        "outputId": "1d0557b3-63f8-4d60-aa3a-34bda801bc14"
      },
      "source": [
        "if 5 in a :\n",
        "    print('yes')\n",
        "    \n",
        "elif 2 in a :\n",
        "    print('yes')\n",
        "    \n",
        "else:\n",
        "    print('no')"
      ],
      "execution_count": null,
      "outputs": [
        {
          "output_type": "stream",
          "text": [
            "yes\n"
          ],
          "name": "stdout"
        }
      ]
    },
    {
      "cell_type": "code",
      "metadata": {
        "id": "Fzvh2IdBlQvN",
        "colab_type": "code",
        "colab": {},
        "outputId": "3729dd86-de13-4108-8222-d6a7d5710678"
      },
      "source": [
        "if 5 in a :\n",
        "    print('yes')\n",
        "    \n",
        "else:\n",
        "    print('no')"
      ],
      "execution_count": null,
      "outputs": [
        {
          "output_type": "stream",
          "text": [
            "no\n"
          ],
          "name": "stdout"
        }
      ]
    },
    {
      "cell_type": "markdown",
      "metadata": {
        "id": "U0x72tSjlQvP",
        "colab_type": "text"
      },
      "source": [
        "## For loop"
      ]
    },
    {
      "cell_type": "code",
      "metadata": {
        "id": "AaoZo3SWlQvP",
        "colab_type": "code",
        "colab": {},
        "outputId": "16013f72-85b1-45f9-ea84-ba9737a5c0d5"
      },
      "source": [
        "for i in range(5):\n",
        "    print(i)"
      ],
      "execution_count": null,
      "outputs": [
        {
          "output_type": "stream",
          "text": [
            "0\n",
            "1\n",
            "2\n",
            "3\n",
            "4\n"
          ],
          "name": "stdout"
        }
      ]
    },
    {
      "cell_type": "code",
      "metadata": {
        "id": "JAS1WvrYlQvR",
        "colab_type": "code",
        "colab": {},
        "outputId": "bc89aadb-19aa-40da-caa3-ed9e05a54193"
      },
      "source": [
        "for i in a :\n",
        "    print(i)"
      ],
      "execution_count": null,
      "outputs": [
        {
          "output_type": "stream",
          "text": [
            "1\n",
            "2\n",
            "3\n"
          ],
          "name": "stdout"
        }
      ]
    },
    {
      "cell_type": "markdown",
      "metadata": {
        "id": "jq3k0ZA9lQvT",
        "colab_type": "text"
      },
      "source": [
        "## While loop"
      ]
    },
    {
      "cell_type": "code",
      "metadata": {
        "id": "ApyFIMynlQvU",
        "colab_type": "code",
        "colab": {},
        "outputId": "e148220f-6548-4cd0-b3fb-8d339918bb2f"
      },
      "source": [
        "i = 5\n",
        "while(i):\n",
        "    print(i)\n",
        "    i-=1"
      ],
      "execution_count": null,
      "outputs": [
        {
          "output_type": "stream",
          "text": [
            "5\n",
            "4\n",
            "3\n",
            "2\n",
            "1\n"
          ],
          "name": "stdout"
        }
      ]
    },
    {
      "cell_type": "code",
      "metadata": {
        "id": "axXi-3YalQvV",
        "colab_type": "code",
        "colab": {},
        "outputId": "2b304df9-16bb-4cec-d4e6-fa88a0a65c7b"
      },
      "source": [
        "i = 5\n",
        "while(i):\n",
        "    print(i)\n",
        "    if(i==3):\n",
        "        break\n",
        "    i-=1"
      ],
      "execution_count": null,
      "outputs": [
        {
          "output_type": "stream",
          "text": [
            "5\n",
            "4\n",
            "3\n"
          ],
          "name": "stdout"
        }
      ]
    },
    {
      "cell_type": "code",
      "metadata": {
        "id": "hfmpQpHClQvX",
        "colab_type": "code",
        "colab": {},
        "outputId": "78d0e549-12af-42e9-8530-d966faddb9d4"
      },
      "source": [
        "for i in range(5):\n",
        "    if i==3 :\n",
        "        continue\n",
        "    print(i)"
      ],
      "execution_count": null,
      "outputs": [
        {
          "output_type": "stream",
          "text": [
            "0\n",
            "1\n",
            "2\n",
            "4\n"
          ],
          "name": "stdout"
        }
      ]
    },
    {
      "cell_type": "code",
      "metadata": {
        "id": "TWUk7lQmlQvY",
        "colab_type": "code",
        "colab": {},
        "outputId": "9686b5ab-09e6-4c63-ef11-5609df61abdb"
      },
      "source": [
        "for i in range(5):\n",
        "    if i==3 :\n",
        "        pass\n",
        "    print(i)"
      ],
      "execution_count": null,
      "outputs": [
        {
          "output_type": "stream",
          "text": [
            "0\n",
            "1\n",
            "2\n",
            "3\n",
            "4\n"
          ],
          "name": "stdout"
        }
      ]
    },
    {
      "cell_type": "markdown",
      "metadata": {
        "id": "PJ0Ho4PQlQvd",
        "colab_type": "text"
      },
      "source": [
        "# Input Funcion"
      ]
    },
    {
      "cell_type": "code",
      "metadata": {
        "id": "53JHFxjllQvd",
        "colab_type": "code",
        "colab": {},
        "outputId": "7a0fdae2-3748-4e2d-f503-f92dd5f6ce6a"
      },
      "source": [
        "x = input(\"Enter value of x\")"
      ],
      "execution_count": null,
      "outputs": [
        {
          "output_type": "stream",
          "text": [
            "Enter value of x123\n"
          ],
          "name": "stdout"
        }
      ]
    },
    {
      "cell_type": "code",
      "metadata": {
        "id": "tukR1nLdlQve",
        "colab_type": "code",
        "colab": {},
        "outputId": "1888a529-291b-4e6c-81c8-abb525921902"
      },
      "source": [
        "x # Stored in form of a string always"
      ],
      "execution_count": null,
      "outputs": [
        {
          "output_type": "execute_result",
          "data": {
            "text/plain": [
              "'123'"
            ]
          },
          "metadata": {
            "tags": []
          },
          "execution_count": 2
        }
      ]
    },
    {
      "cell_type": "code",
      "metadata": {
        "id": "phkEHSetlQvg",
        "colab_type": "code",
        "colab": {},
        "outputId": "59ebd183-13b9-4b62-a68b-7d2b61d8976d"
      },
      "source": [
        "x = int(input())"
      ],
      "execution_count": null,
      "outputs": [
        {
          "output_type": "stream",
          "text": [
            "123\n"
          ],
          "name": "stdout"
        }
      ]
    },
    {
      "cell_type": "code",
      "metadata": {
        "id": "ORWSvKEvlQvh",
        "colab_type": "code",
        "colab": {},
        "outputId": "a7e6deba-33db-447a-e21b-075f58fe3c6c"
      },
      "source": [
        "x"
      ],
      "execution_count": null,
      "outputs": [
        {
          "output_type": "execute_result",
          "data": {
            "text/plain": [
              "123"
            ]
          },
          "metadata": {
            "tags": []
          },
          "execution_count": 4
        }
      ]
    },
    {
      "cell_type": "code",
      "metadata": {
        "id": "d0WbYr8qlQvj",
        "colab_type": "code",
        "colab": {}
      },
      "source": [
        "x, y, z = input(\"Enter a three value: \").split()"
      ],
      "execution_count": null,
      "outputs": []
    },
    {
      "cell_type": "code",
      "metadata": {
        "id": "7aAP0b3BlQvl",
        "colab_type": "code",
        "colab": {},
        "outputId": "64bbe97f-243a-4e7f-ba7b-bf188ef9fb3a"
      },
      "source": [
        "x,y = input().split()"
      ],
      "execution_count": null,
      "outputs": [
        {
          "output_type": "stream",
          "text": [
            "1 2\n"
          ],
          "name": "stdout"
        }
      ]
    },
    {
      "cell_type": "code",
      "metadata": {
        "id": "1dC-ClaulQvn",
        "colab_type": "code",
        "colab": {},
        "outputId": "e73fddca-ef0d-48a9-ea37-9468b40798f9"
      },
      "source": [
        "print(x,y)"
      ],
      "execution_count": null,
      "outputs": [
        {
          "output_type": "stream",
          "text": [
            "1 2\n"
          ],
          "name": "stdout"
        }
      ]
    },
    {
      "cell_type": "code",
      "metadata": {
        "id": "8zoF3gMAlQvp",
        "colab_type": "code",
        "colab": {},
        "outputId": "1b3ff228-0c1f-416c-85f7-e3483da2c6eb"
      },
      "source": [
        "x,y,z = input().split()"
      ],
      "execution_count": null,
      "outputs": [
        {
          "output_type": "stream",
          "text": [
            "1 2 3\n"
          ],
          "name": "stdout"
        }
      ]
    },
    {
      "cell_type": "code",
      "metadata": {
        "id": "v7KDlhlRlQvq",
        "colab_type": "code",
        "colab": {},
        "outputId": "20475d05-d22c-426b-d3d2-1d62f1250bfb"
      },
      "source": [
        "z"
      ],
      "execution_count": null,
      "outputs": [
        {
          "output_type": "execute_result",
          "data": {
            "text/plain": [
              "'3'"
            ]
          },
          "metadata": {
            "tags": []
          },
          "execution_count": 8
        }
      ]
    },
    {
      "cell_type": "code",
      "metadata": {
        "id": "A4JqF9rVlQvr",
        "colab_type": "code",
        "colab": {},
        "outputId": "a95cfe00-db8a-466f-b51c-639a0d8eb41e"
      },
      "source": [
        "x,y = int(input().split())"
      ],
      "execution_count": null,
      "outputs": [
        {
          "output_type": "stream",
          "text": [
            "1 2\n"
          ],
          "name": "stdout"
        },
        {
          "output_type": "error",
          "ename": "TypeError",
          "evalue": "int() argument must be a string, a bytes-like object or a number, not 'list'",
          "traceback": [
            "\u001b[1;31m---------------------------------------------------------------------------\u001b[0m",
            "\u001b[1;31mTypeError\u001b[0m                                 Traceback (most recent call last)",
            "\u001b[1;32m<ipython-input-10-a8f6e0bb3c44>\u001b[0m in \u001b[0;36m<module>\u001b[1;34m\u001b[0m\n\u001b[1;32m----> 1\u001b[1;33m \u001b[0mx\u001b[0m\u001b[1;33m,\u001b[0m\u001b[0my\u001b[0m \u001b[1;33m=\u001b[0m \u001b[0mint\u001b[0m\u001b[1;33m(\u001b[0m\u001b[0minput\u001b[0m\u001b[1;33m(\u001b[0m\u001b[1;33m)\u001b[0m\u001b[1;33m.\u001b[0m\u001b[0msplit\u001b[0m\u001b[1;33m(\u001b[0m\u001b[1;33m)\u001b[0m\u001b[1;33m)\u001b[0m\u001b[1;33m\u001b[0m\u001b[1;33m\u001b[0m\u001b[0m\n\u001b[0m",
            "\u001b[1;31mTypeError\u001b[0m: int() argument must be a string, a bytes-like object or a number, not 'list'"
          ]
        }
      ]
    },
    {
      "cell_type": "code",
      "metadata": {
        "id": "KBaCShzXlQvt",
        "colab_type": "code",
        "colab": {},
        "outputId": "6944317f-ae2e-48f0-b10a-0ebc98030ca7"
      },
      "source": [
        "x,y = map(int,input().split())"
      ],
      "execution_count": null,
      "outputs": [
        {
          "output_type": "stream",
          "text": [
            "5 6\n"
          ],
          "name": "stdout"
        }
      ]
    },
    {
      "cell_type": "code",
      "metadata": {
        "id": "8zTYOWnZlQvv",
        "colab_type": "code",
        "colab": {},
        "outputId": "a8ad32a2-df71-4cb9-e044-ee78b88fb31f"
      },
      "source": [
        "x"
      ],
      "execution_count": null,
      "outputs": [
        {
          "output_type": "execute_result",
          "data": {
            "text/plain": [
              "5"
            ]
          },
          "metadata": {
            "tags": []
          },
          "execution_count": 12
        }
      ]
    },
    {
      "cell_type": "code",
      "metadata": {
        "id": "LajdSLQHlQvx",
        "colab_type": "code",
        "colab": {},
        "outputId": "e44efb58-d05d-48e2-8d57-7c8efc5d33b6"
      },
      "source": [
        "x = [int(x) for x in input().split()]"
      ],
      "execution_count": null,
      "outputs": [
        {
          "output_type": "stream",
          "text": [
            "1 2 3\n"
          ],
          "name": "stdout"
        }
      ]
    },
    {
      "cell_type": "code",
      "metadata": {
        "id": "HBZo0RQDlQvy",
        "colab_type": "code",
        "colab": {},
        "outputId": "88be51aa-3045-470f-968f-e920a3985ce5"
      },
      "source": [
        "x"
      ],
      "execution_count": null,
      "outputs": [
        {
          "output_type": "execute_result",
          "data": {
            "text/plain": [
              "[1, 2, 3]"
            ]
          },
          "metadata": {
            "tags": []
          },
          "execution_count": 14
        }
      ]
    },
    {
      "cell_type": "code",
      "metadata": {
        "id": "FKVQweE3lQv0",
        "colab_type": "code",
        "colab": {},
        "outputId": "14b80103-6cdf-4790-f231-f2efcc584273"
      },
      "source": [
        "x = list(map(int,input().split()))"
      ],
      "execution_count": null,
      "outputs": [
        {
          "output_type": "stream",
          "text": [
            "5 6 7 8\n"
          ],
          "name": "stdout"
        }
      ]
    },
    {
      "cell_type": "code",
      "metadata": {
        "id": "fGudec3SlQv1",
        "colab_type": "code",
        "colab": {},
        "outputId": "d668dab0-f53e-4a87-adc3-7cae36b2fbd6"
      },
      "source": [
        "x"
      ],
      "execution_count": null,
      "outputs": [
        {
          "output_type": "execute_result",
          "data": {
            "text/plain": [
              "[5, 6, 7, 8]"
            ]
          },
          "metadata": {
            "tags": []
          },
          "execution_count": 4
        }
      ]
    },
    {
      "cell_type": "code",
      "metadata": {
        "id": "RJmOgoTHlQv2",
        "colab_type": "code",
        "colab": {}
      },
      "source": [
        "iter_x = iter(x)"
      ],
      "execution_count": null,
      "outputs": []
    },
    {
      "cell_type": "code",
      "metadata": {
        "id": "Vp0sZ_LXlQv4",
        "colab_type": "code",
        "colab": {},
        "outputId": "3ad97c5d-d9b3-4648-e9d4-e1568fa3a7b1"
      },
      "source": [
        "next(iter_x)"
      ],
      "execution_count": null,
      "outputs": [
        {
          "output_type": "execute_result",
          "data": {
            "text/plain": [
              "5"
            ]
          },
          "metadata": {
            "tags": []
          },
          "execution_count": 6
        }
      ]
    },
    {
      "cell_type": "code",
      "metadata": {
        "id": "Y9Potq15lQv6",
        "colab_type": "code",
        "colab": {},
        "outputId": "1b2c4b41-77c4-475c-bb90-169bfa42a839"
      },
      "source": [
        "next(iter_x)"
      ],
      "execution_count": null,
      "outputs": [
        {
          "output_type": "execute_result",
          "data": {
            "text/plain": [
              "6"
            ]
          },
          "metadata": {
            "tags": []
          },
          "execution_count": 7
        }
      ]
    },
    {
      "cell_type": "code",
      "metadata": {
        "id": "-RbYC57GlQv7",
        "colab_type": "code",
        "colab": {},
        "outputId": "7bc3a59a-a5ac-4487-9e32-1feb547db3b6"
      },
      "source": [
        "x.__iter__()"
      ],
      "execution_count": null,
      "outputs": [
        {
          "output_type": "execute_result",
          "data": {
            "text/plain": [
              "<list_iterator at 0x29f6bb53688>"
            ]
          },
          "metadata": {
            "tags": []
          },
          "execution_count": 8
        }
      ]
    },
    {
      "cell_type": "code",
      "metadata": {
        "id": "WmwMUjN2lQv9",
        "colab_type": "code",
        "colab": {}
      },
      "source": [
        ""
      ],
      "execution_count": null,
      "outputs": []
    }
  ]
}