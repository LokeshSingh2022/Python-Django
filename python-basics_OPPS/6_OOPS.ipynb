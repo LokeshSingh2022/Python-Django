{
  "nbformat": 4,
  "nbformat_minor": 0,
  "metadata": {
    "kernelspec": {
      "display_name": "Python 3",
      "language": "python",
      "name": "python3"
    },
    "language_info": {
      "codemirror_mode": {
        "name": "ipython",
        "version": 3
      },
      "file_extension": ".py",
      "mimetype": "text/x-python",
      "name": "python",
      "nbconvert_exporter": "python",
      "pygments_lexer": "ipython3",
      "version": "3.7.6"
    },
    "colab": {
      "name": "6_OOPS.ipynb",
      "provenance": []
    }
  },
  "cells": [
    {
      "cell_type": "markdown",
      "metadata": {
        "id": "R3QZLqffmLEN",
        "colab_type": "text"
      },
      "source": [
        "# Object Oriented Progrmming"
      ]
    },
    {
      "cell_type": "markdown",
      "metadata": {
        "id": "1QnJwRmrmLES",
        "colab_type": "text"
      },
      "source": [
        "Python is a completely object-oriented language. This approach towards programming seeks to treat data and functions as part of a single unit called object. The class defines attributes and the behaviour of the object, while the object, on the other hand, represents the class."
      ]
    },
    {
      "cell_type": "markdown",
      "metadata": {
        "id": "dlrTcCi9mLEa",
        "colab_type": "text"
      },
      "source": [
        "#### Class : Design\n",
        "#### Object : Physical form of class / Instance"
      ]
    },
    {
      "cell_type": "code",
      "metadata": {
        "id": "c5-1cEB1mLEb",
        "colab_type": "code",
        "colab": {}
      },
      "source": [
        "class Computer : # Generally we start class name with capital letter\n",
        "    \n",
        "    def __init__(self, c, r):\n",
        "        self.cpu=c\n",
        "        self.ram=r\n",
        "    \n",
        "    def config(self):\n",
        "        print(f\"Config : {self.cpu}, {self.ram}\")\n",
        "        \n",
        "        "
      ],
      "execution_count": null,
      "outputs": []
    },
    {
      "cell_type": "code",
      "metadata": {
        "id": "Qa3FakmDmLEk",
        "colab_type": "code",
        "colab": {},
        "outputId": "6dd95f99-1ab5-4476-fa81-1330d1dd50b6"
      },
      "source": [
        "comp1 = Computer() # comp1 self is passed here automatically"
      ],
      "execution_count": null,
      "outputs": [
        {
          "output_type": "stream",
          "text": [
            "in init\n"
          ],
          "name": "stdout"
        }
      ]
    },
    {
      "cell_type": "code",
      "metadata": {
        "id": "vOqYwogemLEs",
        "colab_type": "code",
        "colab": {},
        "outputId": "af54a59c-18e9-4b7f-f585-db4ffac3d41a"
      },
      "source": [
        "print(type(comp1))"
      ],
      "execution_count": null,
      "outputs": [
        {
          "output_type": "stream",
          "text": [
            "<class '__main__.Computer'>\n"
          ],
          "name": "stdout"
        }
      ]
    },
    {
      "cell_type": "code",
      "metadata": {
        "id": "8Xixu7IcmLEz",
        "colab_type": "code",
        "colab": {},
        "outputId": "cafebce4-056a-41e9-d82a-a16216e8ad7b"
      },
      "source": [
        "comp1.config() # Here we are using object itself to call the function"
      ],
      "execution_count": null,
      "outputs": [
        {
          "output_type": "stream",
          "text": [
            "i5, 8Gb , 1Tb\n"
          ],
          "name": "stdout"
        }
      ]
    },
    {
      "cell_type": "code",
      "metadata": {
        "id": "sMSMIaGEmLE8",
        "colab_type": "code",
        "colab": {},
        "outputId": "cea847c4-5af3-421a-e080-0692ab9c32bb"
      },
      "source": [
        "Computer.config(comp1) # comp1 is going into self"
      ],
      "execution_count": null,
      "outputs": [
        {
          "output_type": "stream",
          "text": [
            "i5, 8Gb , 1Tb\n"
          ],
          "name": "stdout"
        }
      ]
    },
    {
      "cell_type": "code",
      "metadata": {
        "id": "cGUNlAU7mLFG",
        "colab_type": "code",
        "colab": {},
        "outputId": "e878c0c1-eda3-41e9-fc8a-4b32b6b9ae58"
      },
      "source": [
        "a = 5\n",
        "a.bit_length()"
      ],
      "execution_count": null,
      "outputs": [
        {
          "output_type": "execute_result",
          "data": {
            "text/plain": [
              "3"
            ]
          },
          "metadata": {
            "tags": []
          },
          "execution_count": 14
        }
      ]
    },
    {
      "cell_type": "code",
      "metadata": {
        "id": "JUSMaKHrmLFN",
        "colab_type": "code",
        "colab": {},
        "outputId": "2f6cc343-8e1d-44d0-e526-40fb49def19a"
      },
      "source": [
        "int.bit_length(a)"
      ],
      "execution_count": null,
      "outputs": [
        {
          "output_type": "execute_result",
          "data": {
            "text/plain": [
              "3"
            ]
          },
          "metadata": {
            "tags": []
          },
          "execution_count": 15
        }
      ]
    },
    {
      "cell_type": "code",
      "metadata": {
        "id": "LXIR0XPqmLFU",
        "colab_type": "code",
        "colab": {}
      },
      "source": [
        "com1=Computer('i5',16)\n",
        "com2=Computer('Ryzen 3',8)\n"
      ],
      "execution_count": null,
      "outputs": []
    },
    {
      "cell_type": "code",
      "metadata": {
        "id": "pcaaUZUNmLFb",
        "colab_type": "code",
        "colab": {},
        "outputId": "2f952960-b67a-4d8a-9978-d475d03156a2"
      },
      "source": [
        "com1.config()\n",
        "com2.config()"
      ],
      "execution_count": null,
      "outputs": [
        {
          "output_type": "stream",
          "text": [
            "Config : i5, 16\n",
            "Config : Ryzen 3, 8\n"
          ],
          "name": "stdout"
        }
      ]
    },
    {
      "cell_type": "code",
      "metadata": {
        "id": "IGHW7bRQmLFi",
        "colab_type": "code",
        "colab": {},
        "outputId": "e11ff14a-c188-429d-d657-7c82213c7ac0"
      },
      "source": [
        "class Computer :\n",
        "    def __init__(self):\n",
        "        self.name = \"Naveen\"\n",
        "        self.age = 28\n",
        "        \n",
        "    def update(self): # Self is used to tell function to update \n",
        "        self.age = 30 # Value of that particular object\n",
        "        \n",
        "    def compare(self,other): # object calling it compare with other\n",
        "        if self.age == other.age:\n",
        "            return True\n",
        "        else:\n",
        "            return False\n",
        "c1 = Computer()\n",
        "c2 = Computer()\n",
        "\n",
        "c1.name = \"Rashi\"\n",
        "c1.age = 12\n",
        "\n",
        "c1.update()\n",
        "\n",
        "print(c1.name)\n",
        "print(c2.name)\n",
        "\n",
        "print(c1.age)\n",
        "print(c2.age)\n",
        "\n",
        "print(c1.compare(c2))\n",
        "    "
      ],
      "execution_count": null,
      "outputs": [
        {
          "output_type": "stream",
          "text": [
            "Rashi\n",
            "Naveen\n",
            "30\n",
            "28\n",
            "False\n"
          ],
          "name": "stdout"
        }
      ]
    },
    {
      "cell_type": "code",
      "metadata": {
        "id": "y2g2uEL4mLFn",
        "colab_type": "code",
        "colab": {},
        "outputId": "490823c3-f47a-4ab3-8df2-c99dc1a1f7ff"
      },
      "source": [
        "class Car :\n",
        "    \n",
        "    wheels = 4 # Class Variable/ STatic Variable\n",
        "    \n",
        "    def __init__(self, m, c):\n",
        "        self.mil = m\n",
        "        self.com = c # These are instance valiables\n",
        "        \n",
        "c1 = Car(10,\"BMW\")\n",
        "c2 = Car(12,\"Honda\")\n",
        "\n",
        "print(c1.com)\n",
        "print(c2.com)\n",
        "\n",
        "print(Car.wheels)\n",
        "Car.wheels = 5 # Bcz it is a class variable / General to all objects\n",
        "print(c1.wheels)\n",
        "print(c2.wheels)"
      ],
      "execution_count": null,
      "outputs": [
        {
          "output_type": "stream",
          "text": [
            "BMW\n",
            "Honda\n",
            "4\n",
            "5\n",
            "5\n"
          ],
          "name": "stdout"
        }
      ]
    },
    {
      "cell_type": "code",
      "metadata": {
        "id": "uBZqTfQPmLFv",
        "colab_type": "code",
        "colab": {},
        "outputId": "d8af58dc-5c78-456c-e0a5-75d86d7f07ff"
      },
      "source": [
        "class Student :\n",
        "    \n",
        "    school = \"ABC\"\n",
        "    \n",
        "    def __init__(self,m1,m2,m3): # init is typof const and not method\n",
        "        self.m1=m1\n",
        "        self.m2=m2\n",
        "        self.m3=m3\n",
        "        \n",
        "    def avg(self): #This is an instance method as we are passing self\n",
        "        return(self.m1 + self.m2 + self.m3)/3\n",
        "    \n",
        "    def get_m1(self): #Accessor instance method\n",
        "        return self.m1\n",
        "    \n",
        "    def set_m1(self, vlue): # Mutator instance method\n",
        "        self.m1 = value\n",
        "       \n",
        "    @classmethod # decorator for class method\n",
        "    def getschoolname(cls): #cls reqd if we want to work with class variables\n",
        "        return cls.school # This is a class method\n",
        "    \n",
        "    # When we want do something not concerned to either class \n",
        "    # variables not instance variables we use static method\n",
        "    # Note here static method and class method are different\n",
        "    \n",
        "    @staticmethod\n",
        "    def info():# Static Method\n",
        "        print(\"This is a static method\")\n",
        "        \n",
        "s1 = Student(34,66,84)\n",
        "s2 = Student(76,88,90)\n",
        "\n",
        "print(s1.avg())\n",
        "print(s2.avg())\n",
        "\n",
        "print(Student.getschoolname())\n",
        "print(s1.getschoolname())\n",
        "Student.info()"
      ],
      "execution_count": null,
      "outputs": [
        {
          "output_type": "stream",
          "text": [
            "61.333333333333336\n",
            "84.66666666666667\n",
            "ABC\n",
            "ABC\n",
            "This is a static method\n"
          ],
          "name": "stdout"
        }
      ]
    },
    {
      "cell_type": "markdown",
      "metadata": {
        "id": "RtJ7qNPRmLFz",
        "colab_type": "text"
      },
      "source": [
        "Intstance methods can be executed in 2 ways :-\n",
        "\n",
        "    Accessors : Just accessing the values\n",
        "    Mutators : Involve modification of instance variables"
      ]
    },
    {
      "cell_type": "code",
      "metadata": {
        "id": "vKzV0tGFmLF0",
        "colab_type": "code",
        "colab": {},
        "outputId": "41cf01f4-1005-405f-ffc5-8b2004ea370d"
      },
      "source": [
        "class Stu:\n",
        "    \n",
        "    def __init__(self, name, rollno ):\n",
        "        self.name = name\n",
        "        self.rollno=rollno\n",
        "        self.lap = self.Laptop()\n",
        "        \n",
        "    def show(self):\n",
        "        print(self.name,self.rollno)\n",
        "        self.lap.show()\n",
        "        \n",
        "    class Laptop: # Inner Class\n",
        "        def __init__(self):\n",
        "            self.brand = 'HP'\n",
        "            self.cpu = 'i5'\n",
        "            self.ram = 8\n",
        "            \n",
        "        def show(self):\n",
        "            print(self.brand, self.cpu, self.ram)\n",
        "            \n",
        "        \n",
        "    \n",
        "s1 = Stu('Navin',2)\n",
        "s2 = Stu('Jenny',3)\n",
        "\n",
        "print(s1.name,s1.rollno)"
      ],
      "execution_count": null,
      "outputs": [
        {
          "output_type": "stream",
          "text": [
            "Navin 2\n"
          ],
          "name": "stdout"
        }
      ]
    },
    {
      "cell_type": "code",
      "metadata": {
        "id": "KZWDcajDmLF3",
        "colab_type": "code",
        "colab": {},
        "outputId": "3327251e-8d0b-45ca-927a-b282a52bb99c"
      },
      "source": [
        "s1.lap.brand"
      ],
      "execution_count": null,
      "outputs": [
        {
          "output_type": "execute_result",
          "data": {
            "text/plain": [
              "'HP'"
            ]
          },
          "metadata": {
            "tags": []
          },
          "execution_count": 57
        }
      ]
    },
    {
      "cell_type": "code",
      "metadata": {
        "id": "w-qOl-FpmLF6",
        "colab_type": "code",
        "colab": {},
        "outputId": "dfe9f425-ff5e-4892-af46-764e2b2c1a4a"
      },
      "source": [
        "s2.show()"
      ],
      "execution_count": null,
      "outputs": [
        {
          "output_type": "stream",
          "text": [
            "Jenny 3\n",
            "HP i5 8\n"
          ],
          "name": "stdout"
        }
      ]
    },
    {
      "cell_type": "code",
      "metadata": {
        "id": "azySRkjFmLF-",
        "colab_type": "code",
        "colab": {},
        "outputId": "77b74241-5321-4010-dd01-f0ec726214df"
      },
      "source": [
        "print(id(s1.lap))\n",
        "print(id(s2.lap))"
      ],
      "execution_count": null,
      "outputs": [
        {
          "output_type": "stream",
          "text": [
            "2150219905992\n",
            "2150219905480\n"
          ],
          "name": "stdout"
        }
      ]
    },
    {
      "cell_type": "code",
      "metadata": {
        "id": "l1CiMPytmLGB",
        "colab_type": "code",
        "colab": {}
      },
      "source": [
        "lap1 = Stu.Laptop()"
      ],
      "execution_count": null,
      "outputs": []
    },
    {
      "cell_type": "code",
      "metadata": {
        "id": "nwbm2jTHmLGE",
        "colab_type": "code",
        "colab": {},
        "outputId": "0a6eda8d-4bdb-4983-85f2-6b4fe30b3951"
      },
      "source": [
        "id(lap1)"
      ],
      "execution_count": null,
      "outputs": [
        {
          "output_type": "execute_result",
          "data": {
            "text/plain": [
              "2150220013960"
            ]
          },
          "metadata": {
            "tags": []
          },
          "execution_count": 67
        }
      ]
    },
    {
      "cell_type": "code",
      "metadata": {
        "id": "X4P2zvMhmLGH",
        "colab_type": "code",
        "colab": {},
        "outputId": "fd7e4f6d-3ad5-4298-f532-e9bdbdd11360"
      },
      "source": [
        "lap1.show() # lap 1 have no reln to student class\n",
        "# calls show function for laptop class only"
      ],
      "execution_count": null,
      "outputs": [
        {
          "output_type": "stream",
          "text": [
            "HP i5 8\n"
          ],
          "name": "stdout"
        }
      ]
    },
    {
      "cell_type": "markdown",
      "metadata": {
        "id": "LtyZrEucmLGK",
        "colab_type": "text"
      },
      "source": [
        "## Inheritance"
      ]
    },
    {
      "cell_type": "code",
      "metadata": {
        "id": "YiepSlIBmLGL",
        "colab_type": "code",
        "colab": {},
        "outputId": "2507d67d-38dd-4e5a-f7d6-8d56c818813b"
      },
      "source": [
        "class A:\n",
        "    \n",
        "    def feature1(self):\n",
        "        print(\"Feature 1 working\")\n",
        "        \n",
        "    def feature2(self):\n",
        "        print(\"Feature 2 working\")\n",
        "        \n",
        "class B(A): # Inheriting features of class A in B\n",
        "    \n",
        "    def feature3(self):\n",
        "        print(\"Feature 3 working\")\n",
        "        \n",
        "    def feature4(self):\n",
        "        print(\"Feature 4 working\")\n",
        "        \n",
        "class C(B):\n",
        "    \n",
        "    def feature5(self):\n",
        "        print(\"Feature 5 working\" )\n",
        "    \n",
        "        \n",
        "    \n",
        "a1 = A() # Parent class of B\n",
        "a1.feature1()\n",
        "a1.feature2()\n",
        "\n",
        "b1 = B() # Child class of A\n",
        "b1.feature3()\n",
        "b1.feature4()\n",
        "b1.feature1()\n",
        "b1.feature2()\n",
        "\n",
        "c1 = C() # Multilevel Inheritance\n",
        "\n",
        "c1.feature1()\n",
        "c1.feature3()\n",
        "c1.feature5()"
      ],
      "execution_count": null,
      "outputs": [
        {
          "output_type": "stream",
          "text": [
            "Feature 1 working\n",
            "Feature 2 working\n",
            "Feature 3 working\n",
            "Feature 4 working\n",
            "Feature 1 working\n",
            "Feature 2 working\n",
            "Feature 1 working\n",
            "Feature 3 working\n",
            "Feature 5 working\n"
          ],
          "name": "stdout"
        }
      ]
    },
    {
      "cell_type": "code",
      "metadata": {
        "id": "6b_QFvnjmLGO",
        "colab_type": "code",
        "colab": {},
        "outputId": "7c2e3582-394d-41b1-b3a0-13670a47e7db"
      },
      "source": [
        "class A:\n",
        "    \n",
        "    def feature1(self):\n",
        "        print(\"Feature 1 working\")\n",
        "        \n",
        "    def feature2(self):\n",
        "        print(\"Feature 2 working\")\n",
        "        \n",
        "class B(): \n",
        "    \n",
        "    def feature3(self):\n",
        "        print(\"Feature 3 working\")\n",
        "        \n",
        "    def feature4(self):\n",
        "        print(\"Feature 4 working\")\n",
        "        \n",
        "class C(A,B):\n",
        "    \n",
        "    def feature5(self):\n",
        "        print(\"Feature 5 working\" )\n",
        "    \n",
        "        \n",
        "    \n",
        "a1 = A() \n",
        "\n",
        "a1.feature1()\n",
        "a1.feature2()\n",
        "\n",
        "\n",
        "b1 = B() \n",
        "\n",
        "b1.feature3()\n",
        "b1.feature4()\n",
        "\n",
        "\n",
        "c1 = C() # Multiple Inheritance\n",
        "\n",
        "c1.feature5()\n",
        "c1.feature1()\n",
        "c1.feature3()\n",
        "\n"
      ],
      "execution_count": null,
      "outputs": [
        {
          "output_type": "stream",
          "text": [
            "Feature 1 working\n",
            "Feature 2 working\n",
            "Feature 3 working\n",
            "Feature 4 working\n",
            "Feature 5 working\n",
            "Feature 1 working\n",
            "Feature 3 working\n"
          ],
          "name": "stdout"
        }
      ]
    },
    {
      "cell_type": "code",
      "metadata": {
        "id": "BWhIzgV4mLGR",
        "colab_type": "code",
        "colab": {},
        "outputId": "912f2b53-2fe5-498f-d983-c27191c43f3d"
      },
      "source": [
        "class X:\n",
        "    def __init__(self):\n",
        "        print(\"Init of X\")\n",
        "            \n",
        "class Y(X):\n",
        "    \n",
        "#     def __init__(self):\n",
        "#         print(\"Init of Y\")\n",
        "    \n",
        "    def fun(self):\n",
        "        print(\"Just a function\")\n",
        "        \n",
        "y1 = Y()"
      ],
      "execution_count": null,
      "outputs": [
        {
          "output_type": "stream",
          "text": [
            "Init of X\n"
          ],
          "name": "stdout"
        }
      ]
    },
    {
      "cell_type": "code",
      "metadata": {
        "id": "0azglgi-mLGX",
        "colab_type": "code",
        "colab": {},
        "outputId": "bc6d2116-e490-485e-e3a0-6a8e870cdd9d"
      },
      "source": [
        "class X:\n",
        "    def __init__(self):\n",
        "        print(\"Init of X\")\n",
        "            \n",
        "class Y(X):\n",
        "    \n",
        "    def __init__(self):\n",
        "        print(\"Init of Y\")\n",
        "    \n",
        "    def fun(self):\n",
        "        print(\"Just a function\")\n",
        "        \n",
        "y1 = Y()"
      ],
      "execution_count": null,
      "outputs": [
        {
          "output_type": "stream",
          "text": [
            "Init of Y\n"
          ],
          "name": "stdout"
        }
      ]
    },
    {
      "cell_type": "code",
      "metadata": {
        "id": "b7CnTw5amLGa",
        "colab_type": "code",
        "colab": {},
        "outputId": "4164cc82-8fb4-4ed6-ac77-6daf471e3f6a"
      },
      "source": [
        "class X:\n",
        "    def __init__(self):\n",
        "        print(\"Init of X\")\n",
        "            \n",
        "class Y(X):\n",
        "    \n",
        "    def __init__(self):\n",
        "        super().__init__() # using super we can acces all the features X\n",
        "        print(\"Init of Y\")\n",
        "    \n",
        "    def fun(self):\n",
        "        print(\"Just a function\")\n",
        "        \n",
        "y1 = Y()"
      ],
      "execution_count": null,
      "outputs": [
        {
          "output_type": "stream",
          "text": [
            "Init of X\n",
            "Init of Y\n"
          ],
          "name": "stdout"
        }
      ]
    },
    {
      "cell_type": "code",
      "metadata": {
        "id": "_ZSM0wSBmLGd",
        "colab_type": "code",
        "colab": {},
        "outputId": "43b13c04-f620-465d-c3b3-cdd797fe1fa7"
      },
      "source": [
        "class X:\n",
        "    def __init__(self):\n",
        "        print(\"Init of X\")\n",
        "            \n",
        "class Y():\n",
        "    def __init__(self):\n",
        "        print(\"Init of Y\")\n",
        "    \n",
        "class Z(X,Y):\n",
        "    def __init__(self):\n",
        "        super().__init__() \n",
        "        print(\"Init of Z\")\n",
        "        \n",
        "z1 = Z()"
      ],
      "execution_count": null,
      "outputs": [
        {
          "output_type": "stream",
          "text": [
            "Init of X\n",
            "Init of Z\n"
          ],
          "name": "stdout"
        }
      ]
    },
    {
      "cell_type": "markdown",
      "metadata": {
        "id": "XWsuQYDEmLGg",
        "colab_type": "text"
      },
      "source": [
        "Whenever we use multiple inheritance it will follow the order of left to right therefore super first searched for init in x and therefore executes it first. We can also access other functions using super method. "
      ]
    },
    {
      "cell_type": "markdown",
      "metadata": {
        "id": "tAU1EH0gmLGg",
        "colab_type": "text"
      },
      "source": [
        "## Polymorphism"
      ]
    },
    {
      "cell_type": "code",
      "metadata": {
        "scrolled": true,
        "id": "2lSfT2b5mLGh",
        "colab_type": "code",
        "colab": {},
        "outputId": "ab2f5619-d50f-4496-b974-959065e17536"
      },
      "source": [
        "class Pycharm:\n",
        "\n",
        "    def execute(self):\n",
        "        print(\"Compiling\")\n",
        "        print(\"Running\")\n",
        "\n",
        "class MyEditor:\n",
        "    def execute(self):\n",
        "        print(\"Spell Check\")\n",
        "        print(\"Convention Check\")\n",
        "        print(\"Compiling\")\n",
        "        print(\"Running\")\n",
        "\n",
        "class Laptop:\n",
        "\n",
        "    def code(self,ide):\n",
        "        ide.execute()\n",
        "\n",
        "ide = MyEditor() # Can be replaced by any other class with execute() fun\n",
        "\n",
        "lap1 = Laptop()\n",
        "lap1.code(ide) \n",
        "\n",
        "# This method of changing object type with similar methods is called \n",
        "# DUCK TYPING"
      ],
      "execution_count": null,
      "outputs": [
        {
          "output_type": "stream",
          "text": [
            "Spell Check\n",
            "Convention Check\n",
            "Compiling\n",
            "Running\n"
          ],
          "name": "stdout"
        }
      ]
    },
    {
      "cell_type": "code",
      "metadata": {
        "id": "vnZVLdARmLGj",
        "colab_type": "code",
        "colab": {},
        "outputId": "1ced566a-c7b5-4902-daec-506d13c98afc"
      },
      "source": [
        "a = 5\n",
        "b = 4\n",
        "\n",
        "print(a+b)\n",
        "print(int.__add__(a,b)) # These magic methods work for different operators"
      ],
      "execution_count": null,
      "outputs": [
        {
          "output_type": "stream",
          "text": [
            "9\n",
            "9\n"
          ],
          "name": "stdout"
        }
      ]
    },
    {
      "cell_type": "code",
      "metadata": {
        "id": "O_qHLM-NmLGm",
        "colab_type": "code",
        "colab": {},
        "outputId": "573a810d-fa41-4ad5-8a93-8345eb9ec515"
      },
      "source": [
        "class Stu :\n",
        "    \n",
        "    def __init__(self, m1, m2):\n",
        "        self.m1 = m1\n",
        "        self.m2 = m2\n",
        "        \n",
        "    def __add__(self, other): # overloading + operator according to us\n",
        "        m1 = self.m1 + other.m1\n",
        "        m2 = self.m2 + other.m2\n",
        "        s3 = Stu(m1,m2)\n",
        "        return s3\n",
        "    \n",
        "    def __gt__(self,other): ## Operator overloading\n",
        "        r1 = self.m1+self.m2\n",
        "        r2 = other.m2+other.m2\n",
        "        if r1>r2:\n",
        "            return True\n",
        "        \n",
        "        else:\n",
        "            return False\n",
        "        \n",
        "        \n",
        "s1 = Stu(67,89)\n",
        "s2 = Stu(72,95)\n",
        "\n",
        "s3 = s1+s2\n",
        "print(s3.m1)\n",
        "\n",
        "print(s1>s2)"
      ],
      "execution_count": null,
      "outputs": [
        {
          "output_type": "stream",
          "text": [
            "139\n",
            "False\n"
          ],
          "name": "stdout"
        }
      ]
    },
    {
      "cell_type": "markdown",
      "metadata": {
        "id": "luYcmATQmLGp",
        "colab_type": "text"
      },
      "source": [
        "### Method Overloading "
      ]
    },
    {
      "cell_type": "markdown",
      "metadata": {
        "id": "JDsbGSIBmLGp",
        "colab_type": "text"
      },
      "source": [
        "Method overloading is not supported in python directly"
      ]
    },
    {
      "cell_type": "code",
      "metadata": {
        "id": "nct2oNDLmLGq",
        "colab_type": "code",
        "colab": {},
        "outputId": "032d1080-a5fd-4181-dba9-ac309ee188d9"
      },
      "source": [
        "class Student :\n",
        "    \n",
        "    def __init__(self,m1,m2):\n",
        "        self.m1 = m1\n",
        "        self.m2 = m2\n",
        "        \n",
        "    def sum(Self,a=0,b=0,c=0): # Works for 1 2 3 arguments\n",
        "        return (a+b+c)\n",
        "    \n",
        "s1 = Student(58,49)\n",
        "print(s1.sum(9,7,6))"
      ],
      "execution_count": null,
      "outputs": [
        {
          "output_type": "stream",
          "text": [
            "22\n"
          ],
          "name": "stdout"
        }
      ]
    },
    {
      "cell_type": "markdown",
      "metadata": {
        "id": "0pRcPxgkmLGu",
        "colab_type": "text"
      },
      "source": [
        "### Method Overriding"
      ]
    },
    {
      "cell_type": "code",
      "metadata": {
        "id": "BSLCGHIbmLGu",
        "colab_type": "code",
        "colab": {},
        "outputId": "52ac807d-3a6a-4ce8-f4c1-5cb68566489b"
      },
      "source": [
        "class A:\n",
        "    \n",
        "    def show(self):\n",
        "        print(\"in a show\")\n",
        "        \n",
        "class B(A):\n",
        "    \n",
        "    def show(self): # By writing this object of b no more searches for show\n",
        "        print(\"in b show\") # in class A this show overrides show in A\n",
        "        \n",
        "\n",
        "a1 = B()\n",
        "a1.show()"
      ],
      "execution_count": null,
      "outputs": [
        {
          "output_type": "stream",
          "text": [
            "in b show\n"
          ],
          "name": "stdout"
        }
      ]
    },
    {
      "cell_type": "markdown",
      "metadata": {
        "id": "4M5nQ9cYmLGz",
        "colab_type": "text"
      },
      "source": [
        "## Abstract Class"
      ]
    },
    {
      "cell_type": "markdown",
      "metadata": {
        "id": "HTFhN_FVmLGz",
        "colab_type": "text"
      },
      "source": [
        "Abstract method is a method which only haves a declaration and not any body.\n",
        "We can create an abstract method by using oass. A class containing an abstract method is called an abstract class.\n",
        "Python by default doesnt support abstract class."
      ]
    },
    {
      "cell_type": "code",
      "metadata": {
        "id": "kNStvwEemLHP",
        "colab_type": "code",
        "colab": {}
      },
      "source": [
        "from abc import ABC, abstractmethod"
      ],
      "execution_count": null,
      "outputs": []
    },
    {
      "cell_type": "code",
      "metadata": {
        "id": "QK-Q7yUYmLHU",
        "colab_type": "code",
        "colab": {},
        "outputId": "513525a1-b83b-469b-f9cf-dece2ca3157d"
      },
      "source": [
        "\n",
        "class Computer(ABC):\n",
        "    @abstractmethod\n",
        "    def process(self):\n",
        "        pass\n",
        "    \n",
        "class Laptop(Computer):\n",
        "    \n",
        "    def process(self):\n",
        "        print(\"its running\")\n",
        "        \n",
        "com = Laptop()\n",
        "com.process()"
      ],
      "execution_count": null,
      "outputs": [
        {
          "output_type": "stream",
          "text": [
            "its running\n"
          ],
          "name": "stdout"
        }
      ]
    },
    {
      "cell_type": "code",
      "metadata": {
        "id": "c7vhDMsKmLHY",
        "colab_type": "code",
        "colab": {},
        "outputId": "686c9a05-81fc-4042-db3e-56ab7dd795fb"
      },
      "source": [
        "\n",
        "class Computer(ABC):\n",
        "    @abstractmethod\n",
        "    def process(self):\n",
        "        pass\n",
        "    \n",
        "class Laptop(Computer):\n",
        "    \n",
        "    def process(self):\n",
        "        print(\"Its running\")\n",
        "        \n",
        "class Whiteboard():\n",
        "    def write(self):\n",
        "        print(\"Its writing\")\n",
        "        \n",
        "        \n",
        "class Progammer:\n",
        "    \n",
        "    def work(self,com):\n",
        "        print(\"Solving bugs\")\n",
        "        com.process()\n",
        "        \n",
        "com = Laptop()\n",
        "com2 = Whiteboard()\n",
        "prog1 = Progammer()\n",
        "prog1.work(com)\n"
      ],
      "execution_count": null,
      "outputs": [
        {
          "output_type": "stream",
          "text": [
            "Solving bugs\n",
            "Its running\n"
          ],
          "name": "stdout"
        }
      ]
    },
    {
      "cell_type": "code",
      "metadata": {
        "id": "bubNXRO2mLHc",
        "colab_type": "code",
        "colab": {},
        "outputId": "0812bbed-dd28-4e84-a627-cea4857ce29f"
      },
      "source": [
        "prog1.work(com2)"
      ],
      "execution_count": null,
      "outputs": [
        {
          "output_type": "stream",
          "text": [
            "Solving bugs\n"
          ],
          "name": "stdout"
        },
        {
          "output_type": "error",
          "ename": "AttributeError",
          "evalue": "'Whiteboard' object has no attribute 'process'",
          "traceback": [
            "\u001b[1;31m---------------------------------------------------------------------------\u001b[0m",
            "\u001b[1;31mAttributeError\u001b[0m                            Traceback (most recent call last)",
            "\u001b[1;32m<ipython-input-44-af1965edc937>\u001b[0m in \u001b[0;36m<module>\u001b[1;34m\u001b[0m\n\u001b[1;32m----> 1\u001b[1;33m \u001b[0mprog1\u001b[0m\u001b[1;33m.\u001b[0m\u001b[0mwork\u001b[0m\u001b[1;33m(\u001b[0m\u001b[0mcom2\u001b[0m\u001b[1;33m)\u001b[0m\u001b[1;33m\u001b[0m\u001b[1;33m\u001b[0m\u001b[0m\n\u001b[0m",
            "\u001b[1;32m<ipython-input-43-a8cc0a45cada>\u001b[0m in \u001b[0;36mwork\u001b[1;34m(self, com)\u001b[0m\n\u001b[0;32m     18\u001b[0m     \u001b[1;32mdef\u001b[0m \u001b[0mwork\u001b[0m\u001b[1;33m(\u001b[0m\u001b[0mself\u001b[0m\u001b[1;33m,\u001b[0m\u001b[0mcom\u001b[0m\u001b[1;33m)\u001b[0m\u001b[1;33m:\u001b[0m\u001b[1;33m\u001b[0m\u001b[1;33m\u001b[0m\u001b[0m\n\u001b[0;32m     19\u001b[0m         \u001b[0mprint\u001b[0m\u001b[1;33m(\u001b[0m\u001b[1;34m\"Solving bugs\"\u001b[0m\u001b[1;33m)\u001b[0m\u001b[1;33m\u001b[0m\u001b[1;33m\u001b[0m\u001b[0m\n\u001b[1;32m---> 20\u001b[1;33m         \u001b[0mcom\u001b[0m\u001b[1;33m.\u001b[0m\u001b[0mprocess\u001b[0m\u001b[1;33m(\u001b[0m\u001b[1;33m)\u001b[0m\u001b[1;33m\u001b[0m\u001b[1;33m\u001b[0m\u001b[0m\n\u001b[0m\u001b[0;32m     21\u001b[0m \u001b[1;33m\u001b[0m\u001b[0m\n\u001b[0;32m     22\u001b[0m \u001b[0mcom\u001b[0m \u001b[1;33m=\u001b[0m \u001b[0mLaptop\u001b[0m\u001b[1;33m(\u001b[0m\u001b[1;33m)\u001b[0m\u001b[1;33m\u001b[0m\u001b[1;33m\u001b[0m\u001b[0m\n",
            "\u001b[1;31mAttributeError\u001b[0m: 'Whiteboard' object has no attribute 'process'"
          ]
        }
      ]
    },
    {
      "cell_type": "code",
      "metadata": {
        "id": "Z5IKqc1JmLHf",
        "colab_type": "code",
        "colab": {}
      },
      "source": [
        ""
      ],
      "execution_count": null,
      "outputs": []
    }
  ]
}