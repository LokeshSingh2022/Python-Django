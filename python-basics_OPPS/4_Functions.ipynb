{
  "nbformat": 4,
  "nbformat_minor": 0,
  "metadata": {
    "kernelspec": {
      "display_name": "Python 3",
      "language": "python",
      "name": "python3"
    },
    "language_info": {
      "codemirror_mode": {
        "name": "ipython",
        "version": 3
      },
      "file_extension": ".py",
      "mimetype": "text/x-python",
      "name": "python",
      "nbconvert_exporter": "python",
      "pygments_lexer": "ipython3",
      "version": "3.7.6"
    },
    "colab": {
      "name": "4_Functions.ipynb",
      "provenance": []
    }
  },
  "cells": [
    {
      "cell_type": "markdown",
      "metadata": {
        "id": "POSKCk9Uluwn",
        "colab_type": "text"
      },
      "source": [
        "# Functions"
      ]
    },
    {
      "cell_type": "markdown",
      "metadata": {
        "id": "sex_BeqBluwp",
        "colab_type": "text"
      },
      "source": [
        "## Simple Functions"
      ]
    },
    {
      "cell_type": "code",
      "metadata": {
        "id": "9mChZ5Beluwp",
        "colab_type": "code",
        "colab": {}
      },
      "source": [
        "def add(a,b):\n",
        "    return a+b"
      ],
      "execution_count": null,
      "outputs": []
    },
    {
      "cell_type": "code",
      "metadata": {
        "id": "yAcmr9Mmluwt",
        "colab_type": "code",
        "colab": {},
        "outputId": "c5e3e42a-1144-493d-af38-30b0837d5051"
      },
      "source": [
        "add(3,2)"
      ],
      "execution_count": null,
      "outputs": [
        {
          "output_type": "execute_result",
          "data": {
            "text/plain": [
              "5"
            ]
          },
          "metadata": {
            "tags": []
          },
          "execution_count": 2
        }
      ]
    },
    {
      "cell_type": "markdown",
      "metadata": {
        "id": "6HiTQBCaluww",
        "colab_type": "text"
      },
      "source": [
        "## Default Argument Function"
      ]
    },
    {
      "cell_type": "code",
      "metadata": {
        "id": "YnwZ2Ua2luwx",
        "colab_type": "code",
        "colab": {}
      },
      "source": [
        "def add(a=0,b=0):\n",
        "    return a+b"
      ],
      "execution_count": null,
      "outputs": []
    },
    {
      "cell_type": "code",
      "metadata": {
        "id": "Fd-7qUmXluwz",
        "colab_type": "code",
        "colab": {},
        "outputId": "ad56d0fb-4a56-4dd1-9ca4-ab0f68a3a3a2"
      },
      "source": [
        "add(1,4)"
      ],
      "execution_count": null,
      "outputs": [
        {
          "output_type": "execute_result",
          "data": {
            "text/plain": [
              "5"
            ]
          },
          "metadata": {
            "tags": []
          },
          "execution_count": 4
        }
      ]
    },
    {
      "cell_type": "code",
      "metadata": {
        "id": "K-Hwo-RCluw2",
        "colab_type": "code",
        "colab": {},
        "outputId": "6617d4b1-ee7d-46d9-b69d-2e1f982f454f"
      },
      "source": [
        "add(3) # Not valid in case of simple function"
      ],
      "execution_count": null,
      "outputs": [
        {
          "output_type": "execute_result",
          "data": {
            "text/plain": [
              "3"
            ]
          },
          "metadata": {
            "tags": []
          },
          "execution_count": 5
        }
      ]
    },
    {
      "cell_type": "markdown",
      "metadata": {
        "id": "hkG8m0_xluw4",
        "colab_type": "text"
      },
      "source": [
        "## Variable Argument Functions"
      ]
    },
    {
      "cell_type": "code",
      "metadata": {
        "id": "AGejqav6luw5",
        "colab_type": "code",
        "colab": {}
      },
      "source": [
        "def add(*args):\n",
        "    sum=0\n",
        "    for i in args :\n",
        "        sum+=i\n",
        "        \n",
        "    return sum"
      ],
      "execution_count": null,
      "outputs": []
    },
    {
      "cell_type": "code",
      "metadata": {
        "id": "kfbITUrKluw9",
        "colab_type": "code",
        "colab": {},
        "outputId": "03f2f458-5a74-4b0c-e392-4abdfea918b9"
      },
      "source": [
        "add(1,2,3,4)"
      ],
      "execution_count": null,
      "outputs": [
        {
          "output_type": "execute_result",
          "data": {
            "text/plain": [
              "10"
            ]
          },
          "metadata": {
            "tags": []
          },
          "execution_count": 11
        }
      ]
    },
    {
      "cell_type": "code",
      "metadata": {
        "id": "45N1PIapluxB",
        "colab_type": "code",
        "colab": {},
        "outputId": "f7285d41-1dd4-4b92-f262-df3bd8ef471b"
      },
      "source": [
        "add(2,5,3,7,6,1,4)"
      ],
      "execution_count": null,
      "outputs": [
        {
          "output_type": "execute_result",
          "data": {
            "text/plain": [
              "28"
            ]
          },
          "metadata": {
            "tags": []
          },
          "execution_count": 12
        }
      ]
    },
    {
      "cell_type": "markdown",
      "metadata": {
        "id": "zuYnSXNHluxE",
        "colab_type": "text"
      },
      "source": [
        "NOTE : In python arguments are always passed by reference."
      ]
    },
    {
      "cell_type": "code",
      "metadata": {
        "id": "UikJvVKmluxE",
        "colab_type": "code",
        "colab": {},
        "outputId": "75285b46-77ef-49b9-cbe1-faad6b8178e4"
      },
      "source": [
        "def function(arg):\n",
        "    print ('value received:',arg,'id:',id(arg))\n",
        "    return\n",
        "x=10\n",
        "print ('value passed:',x, 'id:',id(x))\n",
        "function(x)"
      ],
      "execution_count": null,
      "outputs": [
        {
          "output_type": "stream",
          "text": [
            "value passed: 10 id: 140716142273200\n",
            "value received: 10 id: 140716142273200\n"
          ],
          "name": "stdout"
        }
      ]
    },
    {
      "cell_type": "markdown",
      "metadata": {
        "id": "tveG4SsSluxH",
        "colab_type": "text"
      },
      "source": [
        "## Keyword Argument Functions"
      ]
    },
    {
      "cell_type": "code",
      "metadata": {
        "id": "yJlNspE9luxI",
        "colab_type": "code",
        "colab": {}
      },
      "source": [
        "def avg(**k):\n",
        "    sum=0\n",
        "    for k,v in k.items():\n",
        "        sum+=v\n",
        "        \n",
        "    return (sum/len(k))"
      ],
      "execution_count": null,
      "outputs": []
    },
    {
      "cell_type": "code",
      "metadata": {
        "id": "txZOCYGtluxL",
        "colab_type": "code",
        "colab": {},
        "outputId": "6e11e756-d00f-4172-fb46-60db40e6712e"
      },
      "source": [
        "print(avg(a=10,b=20))"
      ],
      "execution_count": null,
      "outputs": [
        {
          "output_type": "stream",
          "text": [
            "30.0\n"
          ],
          "name": "stdout"
        }
      ]
    },
    {
      "cell_type": "markdown",
      "metadata": {
        "id": "De1KE7nuluxN",
        "colab_type": "text"
      },
      "source": [
        "## Lambda Funtions"
      ]
    },
    {
      "cell_type": "code",
      "metadata": {
        "id": "Q2iGjgdfluxO",
        "colab_type": "code",
        "colab": {}
      },
      "source": [
        "x = lambda a,b : a + b"
      ],
      "execution_count": null,
      "outputs": []
    },
    {
      "cell_type": "code",
      "metadata": {
        "id": "Ctsz4C3QluxR",
        "colab_type": "code",
        "colab": {},
        "outputId": "4f08899a-47ca-4041-8dd7-a4e5b5fe6d2e"
      },
      "source": [
        "x(6,4)"
      ],
      "execution_count": null,
      "outputs": [
        {
          "output_type": "execute_result",
          "data": {
            "text/plain": [
              "10"
            ]
          },
          "metadata": {
            "tags": []
          },
          "execution_count": 23
        }
      ]
    },
    {
      "cell_type": "markdown",
      "metadata": {
        "id": "UZNpALU7luxT",
        "colab_type": "text"
      },
      "source": [
        "# Some Inbuilt Functions"
      ]
    },
    {
      "cell_type": "code",
      "metadata": {
        "id": "uM80YWsRluxU",
        "colab_type": "code",
        "colab": {},
        "outputId": "0f9a9484-9cea-4247-f7ee-831020914d5c"
      },
      "source": [
        "abs(-4)"
      ],
      "execution_count": null,
      "outputs": [
        {
          "output_type": "execute_result",
          "data": {
            "text/plain": [
              "4"
            ]
          },
          "metadata": {
            "tags": []
          },
          "execution_count": 24
        }
      ]
    },
    {
      "cell_type": "code",
      "metadata": {
        "id": "DWpMMHrSluxX",
        "colab_type": "code",
        "colab": {},
        "outputId": "7334457a-954b-4aad-ef65-54c94bb38804"
      },
      "source": [
        "abs(6)"
      ],
      "execution_count": null,
      "outputs": [
        {
          "output_type": "execute_result",
          "data": {
            "text/plain": [
              "6"
            ]
          },
          "metadata": {
            "tags": []
          },
          "execution_count": 25
        }
      ]
    },
    {
      "cell_type": "code",
      "metadata": {
        "id": "HNIjitrwluxZ",
        "colab_type": "code",
        "colab": {},
        "outputId": "511b2fe4-08e9-4441-82ff-e33b944d660e"
      },
      "source": [
        "abs(3+4j)"
      ],
      "execution_count": null,
      "outputs": [
        {
          "output_type": "execute_result",
          "data": {
            "text/plain": [
              "5.0"
            ]
          },
          "metadata": {
            "tags": []
          },
          "execution_count": 26
        }
      ]
    },
    {
      "cell_type": "code",
      "metadata": {
        "id": "Sc6wvxfOluxc",
        "colab_type": "code",
        "colab": {},
        "outputId": "77d0ba17-1f52-4989-bbfb-b43aebb314e1"
      },
      "source": [
        "all([1,2,3,4]) # all in aterable are true"
      ],
      "execution_count": null,
      "outputs": [
        {
          "output_type": "execute_result",
          "data": {
            "text/plain": [
              "True"
            ]
          },
          "metadata": {
            "tags": []
          },
          "execution_count": 27
        }
      ]
    },
    {
      "cell_type": "code",
      "metadata": {
        "id": "_qrsSBIKluxf",
        "colab_type": "code",
        "colab": {},
        "outputId": "f67f3a2d-c250-4935-efb1-848eb287c823"
      },
      "source": [
        "all((False,'hi'))"
      ],
      "execution_count": null,
      "outputs": [
        {
          "output_type": "execute_result",
          "data": {
            "text/plain": [
              "False"
            ]
          },
          "metadata": {
            "tags": []
          },
          "execution_count": 28
        }
      ]
    },
    {
      "cell_type": "code",
      "metadata": {
        "id": "7krqUQAbluxh",
        "colab_type": "code",
        "colab": {},
        "outputId": "f1971d50-8297-492e-f759-5b9927a97096"
      },
      "source": [
        "all([0,2])"
      ],
      "execution_count": null,
      "outputs": [
        {
          "output_type": "execute_result",
          "data": {
            "text/plain": [
              "False"
            ]
          },
          "metadata": {
            "tags": []
          },
          "execution_count": 31
        }
      ]
    },
    {
      "cell_type": "code",
      "metadata": {
        "id": "HEpZx0RMluxk",
        "colab_type": "code",
        "colab": {},
        "outputId": "8700a9f4-fdc8-4d09-a34c-85cbfda798b5"
      },
      "source": [
        "all((None,1))"
      ],
      "execution_count": null,
      "outputs": [
        {
          "output_type": "execute_result",
          "data": {
            "text/plain": [
              "False"
            ]
          },
          "metadata": {
            "tags": []
          },
          "execution_count": 33
        }
      ]
    },
    {
      "cell_type": "code",
      "metadata": {
        "id": "sYV4XeGTluxm",
        "colab_type": "code",
        "colab": {},
        "outputId": "cf59dcad-0284-4499-97ec-d41914eafc65"
      },
      "source": [
        "all([])"
      ],
      "execution_count": null,
      "outputs": [
        {
          "output_type": "execute_result",
          "data": {
            "text/plain": [
              "True"
            ]
          },
          "metadata": {
            "tags": []
          },
          "execution_count": 34
        }
      ]
    },
    {
      "cell_type": "code",
      "metadata": {
        "id": "YjvEeHE7luxp",
        "colab_type": "code",
        "colab": {},
        "outputId": "16e477d5-37b9-44a9-f778-95e199b2b7d0"
      },
      "source": [
        "bin(10) # gives binary values 0b is prefix"
      ],
      "execution_count": null,
      "outputs": [
        {
          "output_type": "execute_result",
          "data": {
            "text/plain": [
              "'0b1010'"
            ]
          },
          "metadata": {
            "tags": []
          },
          "execution_count": 36
        }
      ]
    },
    {
      "cell_type": "code",
      "metadata": {
        "id": "_z2uNpVKluxs",
        "colab_type": "code",
        "colab": {},
        "outputId": "ff09172b-d4f5-4049-a12a-a09246605d52"
      },
      "source": [
        "bool([]) # converts given value to bool"
      ],
      "execution_count": null,
      "outputs": [
        {
          "output_type": "execute_result",
          "data": {
            "text/plain": [
              "False"
            ]
          },
          "metadata": {
            "tags": []
          },
          "execution_count": 37
        }
      ]
    },
    {
      "cell_type": "code",
      "metadata": {
        "id": "w-CMoRw4luxu",
        "colab_type": "code",
        "colab": {},
        "outputId": "cbf728ff-d085-44c7-b47a-be3f61599edc"
      },
      "source": [
        "bool(0)"
      ],
      "execution_count": null,
      "outputs": [
        {
          "output_type": "execute_result",
          "data": {
            "text/plain": [
              "False"
            ]
          },
          "metadata": {
            "tags": []
          },
          "execution_count": 38
        }
      ]
    },
    {
      "cell_type": "code",
      "metadata": {
        "id": "3CCVqZGAluxy",
        "colab_type": "code",
        "colab": {},
        "outputId": "0fc38e3c-9098-4465-9993-a093e48b4b77"
      },
      "source": [
        "bool(0.0)"
      ],
      "execution_count": null,
      "outputs": [
        {
          "output_type": "execute_result",
          "data": {
            "text/plain": [
              "False"
            ]
          },
          "metadata": {
            "tags": []
          },
          "execution_count": 39
        }
      ]
    },
    {
      "cell_type": "code",
      "metadata": {
        "id": "Kz1e-JnKlux0",
        "colab_type": "code",
        "colab": {},
        "outputId": "88ecf929-bc77-4180-8999-9c455482f2d7"
      },
      "source": [
        "bool(0.00000001)"
      ],
      "execution_count": null,
      "outputs": [
        {
          "output_type": "execute_result",
          "data": {
            "text/plain": [
              "True"
            ]
          },
          "metadata": {
            "tags": []
          },
          "execution_count": 40
        }
      ]
    },
    {
      "cell_type": "code",
      "metadata": {
        "id": "6I-94xF5lux3",
        "colab_type": "code",
        "colab": {},
        "outputId": "a36a089f-e696-459f-86fb-b286c605b057"
      },
      "source": [
        "bool(None)"
      ],
      "execution_count": null,
      "outputs": [
        {
          "output_type": "execute_result",
          "data": {
            "text/plain": [
              "False"
            ]
          },
          "metadata": {
            "tags": []
          },
          "execution_count": 41
        }
      ]
    },
    {
      "cell_type": "code",
      "metadata": {
        "id": "Tt-6bQsAlux5",
        "colab_type": "code",
        "colab": {},
        "outputId": "30631cf3-8581-4946-f92c-ca60a4485be3"
      },
      "source": [
        "bool(True)"
      ],
      "execution_count": null,
      "outputs": [
        {
          "output_type": "execute_result",
          "data": {
            "text/plain": [
              "True"
            ]
          },
          "metadata": {
            "tags": []
          },
          "execution_count": 42
        }
      ]
    },
    {
      "cell_type": "code",
      "metadata": {
        "id": "DyhmrS9Rlux8",
        "colab_type": "code",
        "colab": {},
        "outputId": "8da7ace5-8281-4ec3-a5cc-97d084582a76"
      },
      "source": [
        "bool(False)"
      ],
      "execution_count": null,
      "outputs": [
        {
          "output_type": "execute_result",
          "data": {
            "text/plain": [
              "False"
            ]
          },
          "metadata": {
            "tags": []
          },
          "execution_count": 43
        }
      ]
    },
    {
      "cell_type": "code",
      "metadata": {
        "id": "wZPgno-2lux-",
        "colab_type": "code",
        "colab": {},
        "outputId": "c6f65e2b-81ad-4432-c480-e75e52c2e773"
      },
      "source": [
        "bool('hi')"
      ],
      "execution_count": null,
      "outputs": [
        {
          "output_type": "execute_result",
          "data": {
            "text/plain": [
              "True"
            ]
          },
          "metadata": {
            "tags": []
          },
          "execution_count": 45
        }
      ]
    },
    {
      "cell_type": "code",
      "metadata": {
        "id": "eUN52XWXluyB",
        "colab_type": "code",
        "colab": {},
        "outputId": "85ce2fa8-e4da-4d29-dd10-6b0d2ed93031"
      },
      "source": [
        "bool([0])"
      ],
      "execution_count": null,
      "outputs": [
        {
          "output_type": "execute_result",
          "data": {
            "text/plain": [
              "True"
            ]
          },
          "metadata": {
            "tags": []
          },
          "execution_count": 46
        }
      ]
    },
    {
      "cell_type": "code",
      "metadata": {
        "id": "9MZ2fAJWluyD",
        "colab_type": "code",
        "colab": {},
        "outputId": "86af0fb2-e22c-490c-e80e-fddd69b51566"
      },
      "source": [
        "bytes(a) # Search later not much important"
      ],
      "execution_count": null,
      "outputs": [
        {
          "output_type": "execute_result",
          "data": {
            "text/plain": [
              "b'\\x01\\x02\\x03\\x04'"
            ]
          },
          "metadata": {
            "tags": []
          },
          "execution_count": 47
        }
      ]
    },
    {
      "cell_type": "code",
      "metadata": {
        "id": "2hClYziyluyI",
        "colab_type": "code",
        "colab": {}
      },
      "source": [
        "code_str = \"x=5\\ny=10\\nprint('sum',x+y)\""
      ],
      "execution_count": null,
      "outputs": []
    },
    {
      "cell_type": "code",
      "metadata": {
        "id": "cxdVSyRQluyL",
        "colab_type": "code",
        "colab": {}
      },
      "source": [
        "code = compile(code_str,'sum.py','exec')"
      ],
      "execution_count": null,
      "outputs": []
    },
    {
      "cell_type": "code",
      "metadata": {
        "id": "leKkQMU8luyN",
        "colab_type": "code",
        "colab": {},
        "outputId": "ceee0f56-8025-4a14-b3e2-cbd69f5e1995"
      },
      "source": [
        "print(type(code))"
      ],
      "execution_count": null,
      "outputs": [
        {
          "output_type": "stream",
          "text": [
            "<class 'code'>\n"
          ],
          "name": "stdout"
        }
      ]
    },
    {
      "cell_type": "code",
      "metadata": {
        "id": "52DYI3RRluyQ",
        "colab_type": "code",
        "colab": {},
        "outputId": "69daa472-cc60-4224-f7e0-befc6e0254e9"
      },
      "source": [
        "exec(code)"
      ],
      "execution_count": null,
      "outputs": [
        {
          "output_type": "stream",
          "text": [
            "sum 15\n"
          ],
          "name": "stdout"
        }
      ]
    },
    {
      "cell_type": "code",
      "metadata": {
        "id": "w4Br6KxiluyT",
        "colab_type": "code",
        "colab": {},
        "outputId": "c9e21a03-3fb3-4ba5-996f-58dded3e6547"
      },
      "source": [
        "sum([1,2,3,4])"
      ],
      "execution_count": null,
      "outputs": [
        {
          "output_type": "execute_result",
          "data": {
            "text/plain": [
              "10"
            ]
          },
          "metadata": {
            "tags": []
          },
          "execution_count": 6
        }
      ]
    },
    {
      "cell_type": "code",
      "metadata": {
        "id": "4DGxRPM9luyV",
        "colab_type": "code",
        "colab": {},
        "outputId": "a8932820-3166-4dc7-d4ec-dd30e87f9a40"
      },
      "source": [
        "any([0,1,3,4])"
      ],
      "execution_count": null,
      "outputs": [
        {
          "output_type": "execute_result",
          "data": {
            "text/plain": [
              "True"
            ]
          },
          "metadata": {
            "tags": []
          },
          "execution_count": 10
        }
      ]
    },
    {
      "cell_type": "code",
      "metadata": {
        "id": "qm_oejxLluyX",
        "colab_type": "code",
        "colab": {},
        "outputId": "b35c0b74-4ad4-4730-eb7d-008b71529c70"
      },
      "source": [
        "any([0,False])"
      ],
      "execution_count": null,
      "outputs": [
        {
          "output_type": "execute_result",
          "data": {
            "text/plain": [
              "False"
            ]
          },
          "metadata": {
            "tags": []
          },
          "execution_count": 11
        }
      ]
    },
    {
      "cell_type": "code",
      "metadata": {
        "id": "uyOqhmrzluya",
        "colab_type": "code",
        "colab": {},
        "outputId": "24edb18c-50d3-4c59-c6be-979da18fdba9"
      },
      "source": [
        "any([])"
      ],
      "execution_count": null,
      "outputs": [
        {
          "output_type": "execute_result",
          "data": {
            "text/plain": [
              "False"
            ]
          },
          "metadata": {
            "tags": []
          },
          "execution_count": 12
        }
      ]
    },
    {
      "cell_type": "code",
      "metadata": {
        "id": "dzXy__0Oluyd",
        "colab_type": "code",
        "colab": {},
        "outputId": "ac9a9601-bd97-4170-adbe-a425f937e8f3"
      },
      "source": [
        "x = 8\n",
        "eval('x+1')"
      ],
      "execution_count": null,
      "outputs": [
        {
          "output_type": "execute_result",
          "data": {
            "text/plain": [
              "9"
            ]
          },
          "metadata": {
            "tags": []
          },
          "execution_count": 14
        }
      ]
    },
    {
      "cell_type": "code",
      "metadata": {
        "id": "4VkK73WOluyg",
        "colab_type": "code",
        "colab": {},
        "outputId": "8da13c8a-5c02-4163-ce1d-b89be10fef23"
      },
      "source": [
        "class Details:\n",
        "    age = 22\n",
        "    name = \"Phill\"\n",
        "    \n",
        "details = Details()\n",
        "print(getattr(details,\"age\"))\n",
        "print(details.age)"
      ],
      "execution_count": null,
      "outputs": [
        {
          "output_type": "stream",
          "text": [
            "22\n",
            "22\n"
          ],
          "name": "stdout"
        }
      ]
    },
    {
      "cell_type": "code",
      "metadata": {
        "id": "LX-bzMccluyj",
        "colab_type": "code",
        "colab": {}
      },
      "source": [
        "a = [1,3,5,7]"
      ],
      "execution_count": null,
      "outputs": []
    },
    {
      "cell_type": "code",
      "metadata": {
        "id": "DcNFNoHvluym",
        "colab_type": "code",
        "colab": {}
      },
      "source": [
        "Iter = iter(a)"
      ],
      "execution_count": null,
      "outputs": []
    },
    {
      "cell_type": "code",
      "metadata": {
        "id": "s8eNQR5iluyq",
        "colab_type": "code",
        "colab": {},
        "outputId": "fbd51b1c-3c52-46a4-ee99-7535ec4ea0ee"
      },
      "source": [
        "next(Iter)"
      ],
      "execution_count": null,
      "outputs": [
        {
          "output_type": "execute_result",
          "data": {
            "text/plain": [
              "1"
            ]
          },
          "metadata": {
            "tags": []
          },
          "execution_count": 19
        }
      ]
    },
    {
      "cell_type": "code",
      "metadata": {
        "id": "TaQh7rQzluyt",
        "colab_type": "code",
        "colab": {},
        "outputId": "f0f635c5-46fe-47a6-8495-8f31558aa1c9"
      },
      "source": [
        "next(Iter)"
      ],
      "execution_count": null,
      "outputs": [
        {
          "output_type": "execute_result",
          "data": {
            "text/plain": [
              "3"
            ]
          },
          "metadata": {
            "tags": []
          },
          "execution_count": 20
        }
      ]
    },
    {
      "cell_type": "code",
      "metadata": {
        "id": "4vLHx33sluyv",
        "colab_type": "code",
        "colab": {},
        "outputId": "36ceb75d-fca8-4702-a339-747ecf739531"
      },
      "source": [
        "next(Iter)"
      ],
      "execution_count": null,
      "outputs": [
        {
          "output_type": "execute_result",
          "data": {
            "text/plain": [
              "5"
            ]
          },
          "metadata": {
            "tags": []
          },
          "execution_count": 21
        }
      ]
    },
    {
      "cell_type": "code",
      "metadata": {
        "id": "4GMnuzb_luyx",
        "colab_type": "code",
        "colab": {},
        "outputId": "6b5f60c4-9c43-464b-958f-173ec81a8a4d"
      },
      "source": [
        "len(a)"
      ],
      "execution_count": null,
      "outputs": [
        {
          "output_type": "execute_result",
          "data": {
            "text/plain": [
              "4"
            ]
          },
          "metadata": {
            "tags": []
          },
          "execution_count": 22
        }
      ]
    },
    {
      "cell_type": "code",
      "metadata": {
        "id": "b6ieZqhSluyz",
        "colab_type": "code",
        "colab": {}
      },
      "source": [
        "def addition(n):\n",
        "    return n+n"
      ],
      "execution_count": null,
      "outputs": []
    },
    {
      "cell_type": "code",
      "metadata": {
        "id": "o9jVFSE_luy1",
        "colab_type": "code",
        "colab": {}
      },
      "source": [
        "result = map(addition,a)"
      ],
      "execution_count": null,
      "outputs": []
    },
    {
      "cell_type": "code",
      "metadata": {
        "id": "bmUtX5sMluy3",
        "colab_type": "code",
        "colab": {},
        "outputId": "70fb186d-8b18-4f1d-b709-4e8108c88c8a"
      },
      "source": [
        "result"
      ],
      "execution_count": null,
      "outputs": [
        {
          "output_type": "execute_result",
          "data": {
            "text/plain": [
              "<map at 0x2c19b06f9c8>"
            ]
          },
          "metadata": {
            "tags": []
          },
          "execution_count": 25
        }
      ]
    },
    {
      "cell_type": "code",
      "metadata": {
        "id": "lpfaMijbluy7",
        "colab_type": "code",
        "colab": {},
        "outputId": "a7da7eca-e958-4ecd-ff1b-083b8050d818"
      },
      "source": [
        "print(list(result))"
      ],
      "execution_count": null,
      "outputs": [
        {
          "output_type": "stream",
          "text": [
            "[2, 6, 10, 14]\n"
          ],
          "name": "stdout"
        }
      ]
    },
    {
      "cell_type": "code",
      "metadata": {
        "id": "pVOHCu4bluy9",
        "colab_type": "code",
        "colab": {}
      },
      "source": [
        "python = object()"
      ],
      "execution_count": null,
      "outputs": []
    },
    {
      "cell_type": "code",
      "metadata": {
        "id": "Z4gVmuthluy_",
        "colab_type": "code",
        "colab": {},
        "outputId": "a2f0f9fe-2d78-4aa8-c1e3-9f75a1379907"
      },
      "source": [
        "type(python)"
      ],
      "execution_count": null,
      "outputs": [
        {
          "output_type": "execute_result",
          "data": {
            "text/plain": [
              "object"
            ]
          },
          "metadata": {
            "tags": []
          },
          "execution_count": 28
        }
      ]
    },
    {
      "cell_type": "code",
      "metadata": {
        "id": "i8eeVfl-luzB",
        "colab_type": "code",
        "colab": {},
        "outputId": "57cce484-bce2-4afe-8caf-38866295ae04"
      },
      "source": [
        "dir(object)"
      ],
      "execution_count": null,
      "outputs": [
        {
          "output_type": "execute_result",
          "data": {
            "text/plain": [
              "['__class__',\n",
              " '__delattr__',\n",
              " '__dir__',\n",
              " '__doc__',\n",
              " '__eq__',\n",
              " '__format__',\n",
              " '__ge__',\n",
              " '__getattribute__',\n",
              " '__gt__',\n",
              " '__hash__',\n",
              " '__init__',\n",
              " '__init_subclass__',\n",
              " '__le__',\n",
              " '__lt__',\n",
              " '__ne__',\n",
              " '__new__',\n",
              " '__reduce__',\n",
              " '__reduce_ex__',\n",
              " '__repr__',\n",
              " '__setattr__',\n",
              " '__sizeof__',\n",
              " '__str__',\n",
              " '__subclasshook__']"
            ]
          },
          "metadata": {
            "tags": []
          },
          "execution_count": 29
        }
      ]
    },
    {
      "cell_type": "code",
      "metadata": {
        "id": "f9GgcOPgluzC",
        "colab_type": "code",
        "colab": {},
        "outputId": "102fd11e-5b74-4761-d9e3-1d5554550c3d"
      },
      "source": [
        "chr(97)"
      ],
      "execution_count": null,
      "outputs": [
        {
          "output_type": "execute_result",
          "data": {
            "text/plain": [
              "'a'"
            ]
          },
          "metadata": {
            "tags": []
          },
          "execution_count": 31
        }
      ]
    },
    {
      "cell_type": "code",
      "metadata": {
        "id": "N8fPOhM7luzG",
        "colab_type": "code",
        "colab": {},
        "outputId": "801badcc-881a-4464-c314-2ca7f641be72"
      },
      "source": [
        "chr(65)"
      ],
      "execution_count": null,
      "outputs": [
        {
          "output_type": "execute_result",
          "data": {
            "text/plain": [
              "'A'"
            ]
          },
          "metadata": {
            "tags": []
          },
          "execution_count": 64
        }
      ]
    },
    {
      "cell_type": "code",
      "metadata": {
        "id": "C-aJc5jlluzI",
        "colab_type": "code",
        "colab": {},
        "outputId": "ffdb79cb-f921-4b0d-87c1-ea12ed675087"
      },
      "source": [
        "chr(98)"
      ],
      "execution_count": null,
      "outputs": [
        {
          "output_type": "execute_result",
          "data": {
            "text/plain": [
              "'b'"
            ]
          },
          "metadata": {
            "tags": []
          },
          "execution_count": 65
        }
      ]
    },
    {
      "cell_type": "code",
      "metadata": {
        "id": "Y4Z0HfAIluzJ",
        "colab_type": "code",
        "colab": {},
        "outputId": "0c05dc42-91ac-421f-d4bc-81a87ca5317b"
      },
      "source": [
        "chr(66)"
      ],
      "execution_count": null,
      "outputs": [
        {
          "output_type": "execute_result",
          "data": {
            "text/plain": [
              "'B'"
            ]
          },
          "metadata": {
            "tags": []
          },
          "execution_count": 66
        }
      ]
    },
    {
      "cell_type": "code",
      "metadata": {
        "id": "9l9SJugJluzL",
        "colab_type": "code",
        "colab": {},
        "outputId": "f2cb5064-d66c-4877-d889-db6297b7de8d"
      },
      "source": [
        "complex(1,2)"
      ],
      "execution_count": null,
      "outputs": [
        {
          "output_type": "execute_result",
          "data": {
            "text/plain": [
              "(1+2j)"
            ]
          },
          "metadata": {
            "tags": []
          },
          "execution_count": 33
        }
      ]
    },
    {
      "cell_type": "code",
      "metadata": {
        "id": "kY5wn3CNluzN",
        "colab_type": "code",
        "colab": {}
      },
      "source": [
        "del(python)"
      ],
      "execution_count": null,
      "outputs": []
    },
    {
      "cell_type": "code",
      "metadata": {
        "id": "oSnhv8QUluzO",
        "colab_type": "code",
        "colab": {},
        "outputId": "3bb38adb-fd92-462d-8b47-57ad7abbe354"
      },
      "source": [
        "python"
      ],
      "execution_count": null,
      "outputs": [
        {
          "output_type": "error",
          "ename": "NameError",
          "evalue": "name 'python' is not defined",
          "traceback": [
            "\u001b[1;31m---------------------------------------------------------------------------\u001b[0m",
            "\u001b[1;31mNameError\u001b[0m                                 Traceback (most recent call last)",
            "\u001b[1;32m<ipython-input-35-32886514c262>\u001b[0m in \u001b[0;36m<module>\u001b[1;34m\u001b[0m\n\u001b[1;32m----> 1\u001b[1;33m \u001b[0mpython\u001b[0m\u001b[1;33m\u001b[0m\u001b[1;33m\u001b[0m\u001b[0m\n\u001b[0m",
            "\u001b[1;31mNameError\u001b[0m: name 'python' is not defined"
          ]
        }
      ]
    },
    {
      "cell_type": "code",
      "metadata": {
        "id": "PVqOyU4RluzP",
        "colab_type": "code",
        "colab": {},
        "outputId": "09bcaeaf-7704-41a5-c34b-e898a97055c4"
      },
      "source": [
        "divmod(10,6) # Quotient,remainder"
      ],
      "execution_count": null,
      "outputs": [
        {
          "output_type": "execute_result",
          "data": {
            "text/plain": [
              "(1, 4)"
            ]
          },
          "metadata": {
            "tags": []
          },
          "execution_count": 36
        }
      ]
    },
    {
      "cell_type": "code",
      "metadata": {
        "id": "AwCH6ZNwluzR",
        "colab_type": "code",
        "colab": {},
        "outputId": "cd3a2b3e-2524-48cd-c063-d4882a306263"
      },
      "source": [
        "list(enumerate([1,3,5])) # Keeps cont of iterations"
      ],
      "execution_count": null,
      "outputs": [
        {
          "output_type": "execute_result",
          "data": {
            "text/plain": [
              "[(0, 1), (1, 3), (2, 5)]"
            ]
          },
          "metadata": {
            "tags": []
          },
          "execution_count": 40
        }
      ]
    },
    {
      "cell_type": "code",
      "metadata": {
        "id": "ul-IUXG0luzS",
        "colab_type": "code",
        "colab": {},
        "outputId": "367a1541-b21d-4f34-edfd-253a3f8f40a9"
      },
      "source": [
        "hash(21)"
      ],
      "execution_count": null,
      "outputs": [
        {
          "output_type": "execute_result",
          "data": {
            "text/plain": [
              "21"
            ]
          },
          "metadata": {
            "tags": []
          },
          "execution_count": 41
        }
      ]
    },
    {
      "cell_type": "code",
      "metadata": {
        "id": "DGy4Ac4iluzU",
        "colab_type": "code",
        "colab": {},
        "outputId": "7c9688b8-2174-4170-856e-cf97d6656e63"
      },
      "source": [
        "hash(22.2) # Gives Hash value"
      ],
      "execution_count": null,
      "outputs": [
        {
          "output_type": "execute_result",
          "data": {
            "text/plain": [
              "461168601842737174"
            ]
          },
          "metadata": {
            "tags": []
          },
          "execution_count": 44
        }
      ]
    },
    {
      "cell_type": "code",
      "metadata": {
        "id": "T8uR3r6qluzV",
        "colab_type": "code",
        "colab": {},
        "outputId": "13dbd861-4bcb-44a2-96f1-4b7d6992dee3"
      },
      "source": [
        "help('len')"
      ],
      "execution_count": null,
      "outputs": [
        {
          "output_type": "stream",
          "text": [
            "Help on built-in function len in module builtins:\n",
            "\n",
            "len(obj, /)\n",
            "    Return the number of items in a container.\n",
            "\n"
          ],
          "name": "stdout"
        }
      ]
    },
    {
      "cell_type": "code",
      "metadata": {
        "id": "7YlGKeUwluzW",
        "colab_type": "code",
        "colab": {},
        "outputId": "5d68e2a4-573f-4c53-8462-53e077e19d31"
      },
      "source": [
        "a"
      ],
      "execution_count": null,
      "outputs": [
        {
          "output_type": "execute_result",
          "data": {
            "text/plain": [
              "[1, 3, 5, 7]"
            ]
          },
          "metadata": {
            "tags": []
          },
          "execution_count": 47
        }
      ]
    },
    {
      "cell_type": "code",
      "metadata": {
        "id": "WA7UHfAYluzY",
        "colab_type": "code",
        "colab": {},
        "outputId": "26156a61-8ef6-4e00-b8b5-449579b004fd"
      },
      "source": [
        "min(a)"
      ],
      "execution_count": null,
      "outputs": [
        {
          "output_type": "execute_result",
          "data": {
            "text/plain": [
              "1"
            ]
          },
          "metadata": {
            "tags": []
          },
          "execution_count": 48
        }
      ]
    },
    {
      "cell_type": "code",
      "metadata": {
        "id": "g5uK2oEkluzb",
        "colab_type": "code",
        "colab": {},
        "outputId": "96810102-81f9-4bae-f80a-7891579dd4ff"
      },
      "source": [
        "max(a)"
      ],
      "execution_count": null,
      "outputs": [
        {
          "output_type": "execute_result",
          "data": {
            "text/plain": [
              "7"
            ]
          },
          "metadata": {
            "tags": []
          },
          "execution_count": 49
        }
      ]
    },
    {
      "cell_type": "code",
      "metadata": {
        "id": "0BnemkARluzc",
        "colab_type": "code",
        "colab": {},
        "outputId": "ae50cf76-110f-431a-ac64-ecc4372740de"
      },
      "source": [
        "hex(11)"
      ],
      "execution_count": null,
      "outputs": [
        {
          "output_type": "execute_result",
          "data": {
            "text/plain": [
              "'0xb'"
            ]
          },
          "metadata": {
            "tags": []
          },
          "execution_count": 51
        }
      ]
    },
    {
      "cell_type": "code",
      "metadata": {
        "id": "pJedIsIjluze",
        "colab_type": "code",
        "colab": {},
        "outputId": "d6363256-bb74-4f52-fc4d-5e251fc86d10"
      },
      "source": [
        "oct(10)"
      ],
      "execution_count": null,
      "outputs": [
        {
          "output_type": "execute_result",
          "data": {
            "text/plain": [
              "'0o12'"
            ]
          },
          "metadata": {
            "tags": []
          },
          "execution_count": 53
        }
      ]
    },
    {
      "cell_type": "code",
      "metadata": {
        "id": "qPDpDd7nluzf",
        "colab_type": "code",
        "colab": {}
      },
      "source": [
        "import random as r"
      ],
      "execution_count": null,
      "outputs": []
    },
    {
      "cell_type": "code",
      "metadata": {
        "id": "afD3kgz_luzh",
        "colab_type": "code",
        "colab": {}
      },
      "source": [
        "r.shuffle(a)"
      ],
      "execution_count": null,
      "outputs": []
    },
    {
      "cell_type": "code",
      "metadata": {
        "id": "07x0dD-Yluzi",
        "colab_type": "code",
        "colab": {},
        "outputId": "818ff80f-c2de-4442-90de-0f0378e18575"
      },
      "source": [
        "a"
      ],
      "execution_count": null,
      "outputs": [
        {
          "output_type": "execute_result",
          "data": {
            "text/plain": [
              "[7, 1, 3, 5]"
            ]
          },
          "metadata": {
            "tags": []
          },
          "execution_count": 57
        }
      ]
    },
    {
      "cell_type": "code",
      "metadata": {
        "id": "dYhnbCY0luzj",
        "colab_type": "code",
        "colab": {},
        "outputId": "6fad711e-7443-4029-b377-60760e1cd8c7"
      },
      "source": [
        "sorted(a) # sorts keys in dictionary"
      ],
      "execution_count": null,
      "outputs": [
        {
          "output_type": "execute_result",
          "data": {
            "text/plain": [
              "[1, 3, 5, 7]"
            ]
          },
          "metadata": {
            "tags": []
          },
          "execution_count": 59
        }
      ]
    },
    {
      "cell_type": "code",
      "metadata": {
        "id": "7Eop9HJnluzl",
        "colab_type": "code",
        "colab": {},
        "outputId": "76ce8a6a-4d9f-4e62-9d3b-dda9444a3129"
      },
      "source": [
        "a # No change in iterable"
      ],
      "execution_count": null,
      "outputs": [
        {
          "output_type": "execute_result",
          "data": {
            "text/plain": [
              "[7, 1, 3, 5]"
            ]
          },
          "metadata": {
            "tags": []
          },
          "execution_count": 61
        }
      ]
    },
    {
      "cell_type": "code",
      "metadata": {
        "id": "aaFJxVigluzq",
        "colab_type": "code",
        "colab": {},
        "outputId": "4b1d7504-5f2c-43b4-8c84-ff8964faef0c"
      },
      "source": [
        "pow(4,2)"
      ],
      "execution_count": null,
      "outputs": [
        {
          "output_type": "execute_result",
          "data": {
            "text/plain": [
              "16"
            ]
          },
          "metadata": {
            "tags": []
          },
          "execution_count": 67
        }
      ]
    },
    {
      "cell_type": "code",
      "metadata": {
        "id": "wGFqDNy9luzr",
        "colab_type": "code",
        "colab": {},
        "outputId": "1f000c97-7197-42b5-d803-f84e1afbb05c"
      },
      "source": [
        "a"
      ],
      "execution_count": null,
      "outputs": [
        {
          "output_type": "execute_result",
          "data": {
            "text/plain": [
              "[7, 1, 3, 5]"
            ]
          },
          "metadata": {
            "tags": []
          },
          "execution_count": 68
        }
      ]
    },
    {
      "cell_type": "code",
      "metadata": {
        "id": "5HsEs3x-luzs",
        "colab_type": "code",
        "colab": {},
        "outputId": "b119918f-0b9e-4e6b-fd95-17279223c7c4"
      },
      "source": [
        "list(reversed(a))"
      ],
      "execution_count": null,
      "outputs": [
        {
          "output_type": "execute_result",
          "data": {
            "text/plain": [
              "[5, 3, 1, 7]"
            ]
          },
          "metadata": {
            "tags": []
          },
          "execution_count": 70
        }
      ]
    },
    {
      "cell_type": "code",
      "metadata": {
        "id": "NMXoPn0Lluzu",
        "colab_type": "code",
        "colab": {},
        "outputId": "e7bcbb6c-75aa-4cec-b1d8-22303f1072e4"
      },
      "source": [
        "round(10.7283,1)"
      ],
      "execution_count": null,
      "outputs": [
        {
          "output_type": "execute_result",
          "data": {
            "text/plain": [
              "10.7"
            ]
          },
          "metadata": {
            "tags": []
          },
          "execution_count": 71
        }
      ]
    },
    {
      "cell_type": "code",
      "metadata": {
        "id": "c9EhTLIrluzw",
        "colab_type": "code",
        "colab": {},
        "outputId": "523d7099-25c0-447f-9c33-4ca219dc7f90"
      },
      "source": [
        "help('zip')"
      ],
      "execution_count": null,
      "outputs": [
        {
          "output_type": "stream",
          "text": [
            "Help on class zip in module builtins:\n",
            "\n",
            "class zip(object)\n",
            " |  zip(*iterables) --> zip object\n",
            " |  \n",
            " |  Return a zip object whose .__next__() method returns a tuple where\n",
            " |  the i-th element comes from the i-th iterable argument.  The .__next__()\n",
            " |  method continues until the shortest iterable in the argument sequence\n",
            " |  is exhausted and then it raises StopIteration.\n",
            " |  \n",
            " |  Methods defined here:\n",
            " |  \n",
            " |  __getattribute__(self, name, /)\n",
            " |      Return getattr(self, name).\n",
            " |  \n",
            " |  __iter__(self, /)\n",
            " |      Implement iter(self).\n",
            " |  \n",
            " |  __next__(self, /)\n",
            " |      Implement next(self).\n",
            " |  \n",
            " |  __reduce__(...)\n",
            " |      Return state information for pickling.\n",
            " |  \n",
            " |  ----------------------------------------------------------------------\n",
            " |  Static methods defined here:\n",
            " |  \n",
            " |  __new__(*args, **kwargs) from builtins.type\n",
            " |      Create and return a new object.  See help(type) for accurate signature.\n",
            "\n"
          ],
          "name": "stdout"
        }
      ]
    },
    {
      "cell_type": "code",
      "metadata": {
        "id": "EmVE544pluzy",
        "colab_type": "code",
        "colab": {}
      },
      "source": [
        ""
      ],
      "execution_count": null,
      "outputs": []
    }
  ]
}