{
  "nbformat": 4,
  "nbformat_minor": 0,
  "metadata": {
    "kernelspec": {
      "display_name": "Python 3",
      "language": "python",
      "name": "python3"
    },
    "language_info": {
      "codemirror_mode": {
        "name": "ipython",
        "version": 3
      },
      "file_extension": ".py",
      "mimetype": "text/x-python",
      "name": "python",
      "nbconvert_exporter": "python",
      "pygments_lexer": "ipython3",
      "version": "3.7.6"
    },
    "colab": {
      "name": "3_Errors_Exception_Handling.ipynb",
      "provenance": []
    }
  },
  "cells": [
    {
      "cell_type": "markdown",
      "metadata": {
        "id": "v0mvfemBlmQg",
        "colab_type": "text"
      },
      "source": [
        "# Errors in Python"
      ]
    },
    {
      "cell_type": "markdown",
      "metadata": {
        "id": "71YF-ES1lmQi",
        "colab_type": "text"
      },
      "source": [
        "There are many errors that one may encounter in a python program. But genrally which errors occure are (for Python Basic only) :-\n",
        "\n",
        "    1.Syntax Error\n",
        "    2.Indentation Error\n",
        "    3.Type Error\n",
        "    4.Name Error\n",
        "    5.Zero Division Error\n",
        "    6.Index Error\n",
        "    7.Runtie Error\n",
        "    8.Attribute Error"
      ]
    },
    {
      "cell_type": "markdown",
      "metadata": {
        "id": "aSOmea8elmQi",
        "colab_type": "text"
      },
      "source": [
        "## Syntax Error"
      ]
    },
    {
      "cell_type": "markdown",
      "metadata": {
        "id": "Ft-xdYTBlmQj",
        "colab_type": "text"
      },
      "source": [
        "When we write something gramatically wrong according to the code language we encounter syntx error."
      ]
    },
    {
      "cell_type": "code",
      "metadata": {
        "id": "mWvft1bxlmQj",
        "colab_type": "code",
        "colab": {},
        "outputId": "cf0a084c-deb0-490b-e13e-22f50c1613a4"
      },
      "source": [
        "print(hello world) "
      ],
      "execution_count": null,
      "outputs": [
        {
          "output_type": "error",
          "ename": "SyntaxError",
          "evalue": "invalid syntax (<ipython-input-2-c420ee852e2a>, line 1)",
          "traceback": [
            "\u001b[1;36m  File \u001b[1;32m\"<ipython-input-2-c420ee852e2a>\"\u001b[1;36m, line \u001b[1;32m1\u001b[0m\n\u001b[1;33m    print(hello world)\u001b[0m\n\u001b[1;37m                    ^\u001b[0m\n\u001b[1;31mSyntaxError\u001b[0m\u001b[1;31m:\u001b[0m invalid syntax\n"
          ]
        }
      ]
    },
    {
      "cell_type": "code",
      "metadata": {
        "id": "DPthtztPlmQo",
        "colab_type": "code",
        "colab": {},
        "outputId": "efdb77a8-1eee-436e-f506-e88f9a7be387"
      },
      "source": [
        "3 + = 1"
      ],
      "execution_count": null,
      "outputs": [
        {
          "output_type": "error",
          "ename": "SyntaxError",
          "evalue": "invalid syntax (<ipython-input-3-b8580c36d5df>, line 1)",
          "traceback": [
            "\u001b[1;36m  File \u001b[1;32m\"<ipython-input-3-b8580c36d5df>\"\u001b[1;36m, line \u001b[1;32m1\u001b[0m\n\u001b[1;33m    3 + = 1\u001b[0m\n\u001b[1;37m        ^\u001b[0m\n\u001b[1;31mSyntaxError\u001b[0m\u001b[1;31m:\u001b[0m invalid syntax\n"
          ]
        }
      ]
    },
    {
      "cell_type": "code",
      "metadata": {
        "id": "sQmnrhB5lmQq",
        "colab_type": "code",
        "colab": {},
        "outputId": "87f19ef6-2273-45dc-d880-ec085ea9ee82"
      },
      "source": [
        "5 + "
      ],
      "execution_count": null,
      "outputs": [
        {
          "output_type": "error",
          "ename": "SyntaxError",
          "evalue": "invalid syntax (<ipython-input-4-c4bc01ddd04c>, line 1)",
          "traceback": [
            "\u001b[1;36m  File \u001b[1;32m\"<ipython-input-4-c4bc01ddd04c>\"\u001b[1;36m, line \u001b[1;32m1\u001b[0m\n\u001b[1;33m    5 +\u001b[0m\n\u001b[1;37m        ^\u001b[0m\n\u001b[1;31mSyntaxError\u001b[0m\u001b[1;31m:\u001b[0m invalid syntax\n"
          ]
        }
      ]
    },
    {
      "cell_type": "code",
      "metadata": {
        "id": "uWpRHBujlmQt",
        "colab_type": "code",
        "colab": {},
        "outputId": "b47842d5-9390-4b9e-da22-73fde9d04bbc"
      },
      "source": [
        "print(\"Hello)"
      ],
      "execution_count": null,
      "outputs": [
        {
          "output_type": "error",
          "ename": "SyntaxError",
          "evalue": "EOL while scanning string literal (<ipython-input-5-e8dd6fae58d9>, line 1)",
          "traceback": [
            "\u001b[1;36m  File \u001b[1;32m\"<ipython-input-5-e8dd6fae58d9>\"\u001b[1;36m, line \u001b[1;32m1\u001b[0m\n\u001b[1;33m    print(\"Hello)\u001b[0m\n\u001b[1;37m                 ^\u001b[0m\n\u001b[1;31mSyntaxError\u001b[0m\u001b[1;31m:\u001b[0m EOL while scanning string literal\n"
          ]
        }
      ]
    },
    {
      "cell_type": "code",
      "metadata": {
        "id": "68OY4AUtlmQv",
        "colab_type": "code",
        "colab": {},
        "outputId": "45ffa722-8907-44c9-ca21-390c212e0791"
      },
      "source": [
        " print \"hello\""
      ],
      "execution_count": null,
      "outputs": [
        {
          "output_type": "error",
          "ename": "SyntaxError",
          "evalue": "Missing parentheses in call to 'print'. Did you mean print(\"hello\")? (<ipython-input-6-2a0eaa89f43f>, line 1)",
          "traceback": [
            "\u001b[1;36m  File \u001b[1;32m\"<ipython-input-6-2a0eaa89f43f>\"\u001b[1;36m, line \u001b[1;32m1\u001b[0m\n\u001b[1;33m    print \"hello\"\u001b[0m\n\u001b[1;37m                ^\u001b[0m\n\u001b[1;31mSyntaxError\u001b[0m\u001b[1;31m:\u001b[0m Missing parentheses in call to 'print'. Did you mean print(\"hello\")?\n"
          ]
        }
      ]
    },
    {
      "cell_type": "markdown",
      "metadata": {
        "id": "oc4KWLJflmQy",
        "colab_type": "text"
      },
      "source": [
        "## Indentation Error"
      ]
    },
    {
      "cell_type": "markdown",
      "metadata": {
        "id": "DLeHcfbqlmQy",
        "colab_type": "text"
      },
      "source": [
        "In python we on not use curly braces to separate different blocks of programm therefore we use "
      ]
    },
    {
      "cell_type": "code",
      "metadata": {
        "id": "iDegRwSulmQz",
        "colab_type": "code",
        "colab": {},
        "outputId": "1a0181dd-a97a-466b-b046-9a08f7170a9d"
      },
      "source": [
        "for i in range(5):\n",
        "print(\"hello\")"
      ],
      "execution_count": null,
      "outputs": [
        {
          "output_type": "error",
          "ename": "IndentationError",
          "evalue": "expected an indented block (<ipython-input-8-f5189631f89f>, line 2)",
          "traceback": [
            "\u001b[1;36m  File \u001b[1;32m\"<ipython-input-8-f5189631f89f>\"\u001b[1;36m, line \u001b[1;32m2\u001b[0m\n\u001b[1;33m    print(\"hello\")\u001b[0m\n\u001b[1;37m        ^\u001b[0m\n\u001b[1;31mIndentationError\u001b[0m\u001b[1;31m:\u001b[0m expected an indented block\n"
          ]
        }
      ]
    },
    {
      "cell_type": "markdown",
      "metadata": {
        "id": "ydpwkEuqlmQ3",
        "colab_type": "text"
      },
      "source": [
        "## Type Error"
      ]
    },
    {
      "cell_type": "markdown",
      "metadata": {
        "id": "0Doa7JsNlmQ3",
        "colab_type": "text"
      },
      "source": [
        "Occures when we try to perform operations on objects of different datatypes."
      ]
    },
    {
      "cell_type": "code",
      "metadata": {
        "id": "VmrL5cu9lmQ4",
        "colab_type": "code",
        "colab": {},
        "outputId": "268559a9-1799-4fde-b9cb-c4fd810dc04a"
      },
      "source": [
        "'2' + 2"
      ],
      "execution_count": null,
      "outputs": [
        {
          "output_type": "error",
          "ename": "TypeError",
          "evalue": "can only concatenate str (not \"int\") to str",
          "traceback": [
            "\u001b[1;31m---------------------------------------------------------------------------\u001b[0m",
            "\u001b[1;31mTypeError\u001b[0m                                 Traceback (most recent call last)",
            "\u001b[1;32m<ipython-input-9-d2b23a1db757>\u001b[0m in \u001b[0;36m<module>\u001b[1;34m\u001b[0m\n\u001b[1;32m----> 1\u001b[1;33m \u001b[1;34m'2'\u001b[0m \u001b[1;33m+\u001b[0m \u001b[1;36m2\u001b[0m\u001b[1;33m\u001b[0m\u001b[1;33m\u001b[0m\u001b[0m\n\u001b[0m",
            "\u001b[1;31mTypeError\u001b[0m: can only concatenate str (not \"int\") to str"
          ]
        }
      ]
    },
    {
      "cell_type": "markdown",
      "metadata": {
        "id": "g9bjwZSclmQ7",
        "colab_type": "text"
      },
      "source": [
        "Name Error"
      ]
    },
    {
      "cell_type": "markdown",
      "metadata": {
        "id": "Rhvi-YXZlmQ7",
        "colab_type": "text"
      },
      "source": [
        "Occures when object cannot be found"
      ]
    },
    {
      "cell_type": "code",
      "metadata": {
        "id": "ueEuEgDflmQ7",
        "colab_type": "code",
        "colab": {},
        "outputId": "8405093e-83b9-4b3f-c2a0-f19b5e647961"
      },
      "source": [
        "age"
      ],
      "execution_count": null,
      "outputs": [
        {
          "output_type": "error",
          "ename": "NameError",
          "evalue": "name 'age' is not defined",
          "traceback": [
            "\u001b[1;31m---------------------------------------------------------------------------\u001b[0m",
            "\u001b[1;31mNameError\u001b[0m                                 Traceback (most recent call last)",
            "\u001b[1;32m<ipython-input-11-d075b0315d53>\u001b[0m in \u001b[0;36m<module>\u001b[1;34m\u001b[0m\n\u001b[1;32m----> 1\u001b[1;33m \u001b[0mage\u001b[0m\u001b[1;33m\u001b[0m\u001b[1;33m\u001b[0m\u001b[0m\n\u001b[0m",
            "\u001b[1;31mNameError\u001b[0m: name 'age' is not defined"
          ]
        }
      ]
    },
    {
      "cell_type": "markdown",
      "metadata": {
        "id": "NKkHoq2blmQ-",
        "colab_type": "text"
      },
      "source": [
        "## Zero Division Error"
      ]
    },
    {
      "cell_type": "code",
      "metadata": {
        "id": "sn1W1iAnlmQ-",
        "colab_type": "code",
        "colab": {},
        "outputId": "4aaf05f2-c878-43ef-a070-c79f5e96f8c3"
      },
      "source": [
        "x = 100/0"
      ],
      "execution_count": null,
      "outputs": [
        {
          "output_type": "error",
          "ename": "ZeroDivisionError",
          "evalue": "division by zero",
          "traceback": [
            "\u001b[1;31m---------------------------------------------------------------------------\u001b[0m",
            "\u001b[1;31mZeroDivisionError\u001b[0m                         Traceback (most recent call last)",
            "\u001b[1;32m<ipython-input-12-22e6f3459e6c>\u001b[0m in \u001b[0;36m<module>\u001b[1;34m\u001b[0m\n\u001b[1;32m----> 1\u001b[1;33m \u001b[0mx\u001b[0m \u001b[1;33m=\u001b[0m \u001b[1;36m100\u001b[0m\u001b[1;33m/\u001b[0m\u001b[1;36m0\u001b[0m\u001b[1;33m\u001b[0m\u001b[1;33m\u001b[0m\u001b[0m\n\u001b[0m",
            "\u001b[1;31mZeroDivisionError\u001b[0m: division by zero"
          ]
        }
      ]
    },
    {
      "cell_type": "markdown",
      "metadata": {
        "id": "m2xrBa3JlmRA",
        "colab_type": "text"
      },
      "source": [
        "## Index Error"
      ]
    },
    {
      "cell_type": "code",
      "metadata": {
        "id": "cxegQ2melmRB",
        "colab_type": "code",
        "colab": {}
      },
      "source": [
        "l = [1,2,3]"
      ],
      "execution_count": null,
      "outputs": []
    },
    {
      "cell_type": "code",
      "metadata": {
        "id": "rCUoCHghlmRE",
        "colab_type": "code",
        "colab": {},
        "outputId": "c7304ad4-ab1c-4a1b-9130-ff8234a7518d"
      },
      "source": [
        "l[3]"
      ],
      "execution_count": null,
      "outputs": [
        {
          "output_type": "error",
          "ename": "IndexError",
          "evalue": "list index out of range",
          "traceback": [
            "\u001b[1;31m---------------------------------------------------------------------------\u001b[0m",
            "\u001b[1;31mIndexError\u001b[0m                                Traceback (most recent call last)",
            "\u001b[1;32m<ipython-input-14-bb49eeb9f0db>\u001b[0m in \u001b[0;36m<module>\u001b[1;34m\u001b[0m\n\u001b[1;32m----> 1\u001b[1;33m \u001b[0ml\u001b[0m\u001b[1;33m[\u001b[0m\u001b[1;36m3\u001b[0m\u001b[1;33m]\u001b[0m\u001b[1;33m\u001b[0m\u001b[1;33m\u001b[0m\u001b[0m\n\u001b[0m",
            "\u001b[1;31mIndexError\u001b[0m: list index out of range"
          ]
        }
      ]
    },
    {
      "cell_type": "markdown",
      "metadata": {
        "id": "vGdgrQwdlmRG",
        "colab_type": "text"
      },
      "source": [
        "## Runtime Error"
      ]
    },
    {
      "cell_type": "markdown",
      "metadata": {
        "id": "jqOp8P4LlmRH",
        "colab_type": "text"
      },
      "source": [
        "If program is free of syntax error, it will be run by the interpreter, however if program may exit without proper execution a runtime or logical error may have been encountered"
      ]
    },
    {
      "cell_type": "markdown",
      "metadata": {
        "id": "FcI6JoBqlmRH",
        "colab_type": "text"
      },
      "source": [
        "## Attribute Error"
      ]
    },
    {
      "cell_type": "code",
      "metadata": {
        "id": "oDLLHmNrlmRH",
        "colab_type": "code",
        "colab": {}
      },
      "source": [
        "x = 5"
      ],
      "execution_count": null,
      "outputs": []
    },
    {
      "cell_type": "code",
      "metadata": {
        "id": "-SsKPe30lmRK",
        "colab_type": "code",
        "colab": {},
        "outputId": "f0d869b1-9228-4f22-f3e5-6d9a02d81e82"
      },
      "source": [
        "x.append(6)"
      ],
      "execution_count": null,
      "outputs": [
        {
          "output_type": "error",
          "ename": "AttributeError",
          "evalue": "'int' object has no attribute 'append'",
          "traceback": [
            "\u001b[1;31m---------------------------------------------------------------------------\u001b[0m",
            "\u001b[1;31mAttributeError\u001b[0m                            Traceback (most recent call last)",
            "\u001b[1;32m<ipython-input-16-ece85b74c63d>\u001b[0m in \u001b[0;36m<module>\u001b[1;34m\u001b[0m\n\u001b[1;32m----> 1\u001b[1;33m \u001b[0mx\u001b[0m\u001b[1;33m.\u001b[0m\u001b[0mappend\u001b[0m\u001b[1;33m(\u001b[0m\u001b[1;36m6\u001b[0m\u001b[1;33m)\u001b[0m\u001b[1;33m\u001b[0m\u001b[1;33m\u001b[0m\u001b[0m\n\u001b[0m",
            "\u001b[1;31mAttributeError\u001b[0m: 'int' object has no attribute 'append'"
          ]
        }
      ]
    },
    {
      "cell_type": "code",
      "metadata": {
        "id": "TQSmxPJnlmRM",
        "colab_type": "code",
        "colab": {}
      },
      "source": [
        "a = [5,6] # In this way we can although change type"
      ],
      "execution_count": null,
      "outputs": []
    },
    {
      "cell_type": "code",
      "metadata": {
        "id": "gOPSi_GTlmRO",
        "colab_type": "code",
        "colab": {},
        "outputId": "72e81a1b-189c-4968-9e13-469d07c42c82"
      },
      "source": [
        "a"
      ],
      "execution_count": null,
      "outputs": [
        {
          "output_type": "execute_result",
          "data": {
            "text/plain": [
              "[5, 6]"
            ]
          },
          "metadata": {
            "tags": []
          },
          "execution_count": 18
        }
      ]
    },
    {
      "cell_type": "markdown",
      "metadata": {
        "id": "PSu0mRISlmRQ",
        "colab_type": "text"
      },
      "source": [
        "## Value Error"
      ]
    },
    {
      "cell_type": "code",
      "metadata": {
        "id": "HOFhllq9lmRR",
        "colab_type": "code",
        "colab": {},
        "outputId": "a9d9abc6-55ae-43b7-c36e-5de79bcb51ae"
      },
      "source": [
        "int('xyz') # Converting a non convertible"
      ],
      "execution_count": null,
      "outputs": [
        {
          "output_type": "error",
          "ename": "ValueError",
          "evalue": "invalid literal for int() with base 10: 'xyz'",
          "traceback": [
            "\u001b[1;31m---------------------------------------------------------------------------\u001b[0m",
            "\u001b[1;31mValueError\u001b[0m                                Traceback (most recent call last)",
            "\u001b[1;32m<ipython-input-19-fd03bcd1637c>\u001b[0m in \u001b[0;36m<module>\u001b[1;34m\u001b[0m\n\u001b[1;32m----> 1\u001b[1;33m \u001b[0mint\u001b[0m\u001b[1;33m(\u001b[0m\u001b[1;34m'xyz'\u001b[0m\u001b[1;33m)\u001b[0m \u001b[1;31m# Converting a non convertible\u001b[0m\u001b[1;33m\u001b[0m\u001b[1;33m\u001b[0m\u001b[0m\n\u001b[0m",
            "\u001b[1;31mValueError\u001b[0m: invalid literal for int() with base 10: 'xyz'"
          ]
        }
      ]
    },
    {
      "cell_type": "code",
      "metadata": {
        "id": "SyP21QnplmRT",
        "colab_type": "code",
        "colab": {},
        "outputId": "e3d41bcf-9a7e-4a93-cb01-03a47581bd3e"
      },
      "source": [
        "int('123')"
      ],
      "execution_count": null,
      "outputs": [
        {
          "output_type": "execute_result",
          "data": {
            "text/plain": [
              "123"
            ]
          },
          "metadata": {
            "tags": []
          },
          "execution_count": 20
        }
      ]
    },
    {
      "cell_type": "markdown",
      "metadata": {
        "id": "BAY56LHelmRV",
        "colab_type": "text"
      },
      "source": [
        "## Import Error"
      ]
    },
    {
      "cell_type": "code",
      "metadata": {
        "id": "YNiuSo2TlmRV",
        "colab_type": "code",
        "colab": {},
        "outputId": "6cba7db4-7512-4c9b-8586-77276644ec1f"
      },
      "source": [
        "from math import cube"
      ],
      "execution_count": null,
      "outputs": [
        {
          "output_type": "error",
          "ename": "ImportError",
          "evalue": "cannot import name 'cube' from 'math' (unknown location)",
          "traceback": [
            "\u001b[1;31m---------------------------------------------------------------------------\u001b[0m",
            "\u001b[1;31mImportError\u001b[0m                               Traceback (most recent call last)",
            "\u001b[1;32m<ipython-input-21-ffce77e55cf3>\u001b[0m in \u001b[0;36m<module>\u001b[1;34m\u001b[0m\n\u001b[1;32m----> 1\u001b[1;33m \u001b[1;32mfrom\u001b[0m \u001b[0mmath\u001b[0m \u001b[1;32mimport\u001b[0m \u001b[0mcube\u001b[0m\u001b[1;33m\u001b[0m\u001b[1;33m\u001b[0m\u001b[0m\n\u001b[0m",
            "\u001b[1;31mImportError\u001b[0m: cannot import name 'cube' from 'math' (unknown location)"
          ]
        }
      ]
    },
    {
      "cell_type": "markdown",
      "metadata": {
        "id": "Sp2mUvF2lmRX",
        "colab_type": "text"
      },
      "source": [
        "## Module Error"
      ]
    },
    {
      "cell_type": "code",
      "metadata": {
        "id": "8uvpzsO-lmRX",
        "colab_type": "code",
        "colab": {},
        "outputId": "7c25541d-2d52-4f1f-eb68-3e6ff74b21ab"
      },
      "source": [
        "import notamodule"
      ],
      "execution_count": null,
      "outputs": [
        {
          "output_type": "error",
          "ename": "ModuleNotFoundError",
          "evalue": "No module named 'notamodule'",
          "traceback": [
            "\u001b[1;31m---------------------------------------------------------------------------\u001b[0m",
            "\u001b[1;31mModuleNotFoundError\u001b[0m                       Traceback (most recent call last)",
            "\u001b[1;32m<ipython-input-22-6529f882604c>\u001b[0m in \u001b[0;36m<module>\u001b[1;34m\u001b[0m\n\u001b[1;32m----> 1\u001b[1;33m \u001b[1;32mimport\u001b[0m \u001b[0mnotamodule\u001b[0m\u001b[1;33m\u001b[0m\u001b[1;33m\u001b[0m\u001b[0m\n\u001b[0m",
            "\u001b[1;31mModuleNotFoundError\u001b[0m: No module named 'notamodule'"
          ]
        }
      ]
    },
    {
      "cell_type": "markdown",
      "metadata": {
        "id": "j8XnC-3UlmRZ",
        "colab_type": "text"
      },
      "source": [
        "# Error/Exception Handling"
      ]
    },
    {
      "cell_type": "markdown",
      "metadata": {
        "id": "S-IuDdtSlmRa",
        "colab_type": "text"
      },
      "source": [
        "Syntax :-\n",
        "\n",
        "    try :\n",
        "        #Statements in try to block\n",
        "        \n",
        "    except :\n",
        "        #executed when error in try block"
      ]
    },
    {
      "cell_type": "code",
      "metadata": {
        "id": "ZmybHcUDlmRa",
        "colab_type": "code",
        "colab": {},
        "outputId": "d287792f-c39a-4e04-b60f-80cbcb911dbc"
      },
      "source": [
        "try :\n",
        "    a = 5\n",
        "    b = 0\n",
        "    print(a/b)\n",
        "    \n",
        "except:\n",
        "    print(\"Some error occured\")\n",
        "    \n",
        "print(\"Program terminated\")"
      ],
      "execution_count": null,
      "outputs": [
        {
          "output_type": "stream",
          "text": [
            "Some error occured\n",
            "Program terminated\n"
          ],
          "name": "stdout"
        }
      ]
    },
    {
      "cell_type": "code",
      "metadata": {
        "id": "yLsEIV-wlmRc",
        "colab_type": "code",
        "colab": {},
        "outputId": "c9a070bd-6568-4325-ad0c-e04480d598b7"
      },
      "source": [
        "try :\n",
        "    a = 5\n",
        "    b = 0\n",
        "    print(a/b)\n",
        "\n",
        "except TypeError:\n",
        "    print('Unsupported operation')\n",
        "    \n",
        "except ZeroDivisionError:\n",
        "    print ('Division by zero not allowed')\n",
        "    \n",
        "print ('Program Terminated')"
      ],
      "execution_count": null,
      "outputs": [
        {
          "output_type": "stream",
          "text": [
            "Division by zero not allowed\n",
            "Program Terminated\n"
          ],
          "name": "stdout"
        }
      ]
    },
    {
      "cell_type": "code",
      "metadata": {
        "id": "Gx44O0G-lmRe",
        "colab_type": "code",
        "colab": {},
        "outputId": "34462b43-0e6c-49a1-a7d0-cac2538a1767"
      },
      "source": [
        "try :\n",
        "    a = 5\n",
        "    b = '0'\n",
        "    print(a/b)\n",
        "\n",
        "except TypeError:\n",
        "    print('Unsupported operation')\n",
        "    \n",
        "except ZeroDivisionError:\n",
        "    print ('Division by zero not allowed')\n",
        "    \n",
        "print ('Program Terminated')"
      ],
      "execution_count": null,
      "outputs": [
        {
          "output_type": "stream",
          "text": [
            "Unsupported operation\n",
            "Program Terminated\n"
          ],
          "name": "stdout"
        }
      ]
    },
    {
      "cell_type": "markdown",
      "metadata": {
        "id": "GVk2SReNlmRg",
        "colab_type": "text"
      },
      "source": [
        "try:\n",
        "    #statements in try block\n",
        "except:\n",
        "    #executed when error in try block\n",
        "else:\n",
        "    #executed if try block is error-free\n",
        "finally:\n",
        "    #executed irrespective of exception occured or not"
      ]
    },
    {
      "cell_type": "code",
      "metadata": {
        "id": "Uux6IejGlmRh",
        "colab_type": "code",
        "colab": {},
        "outputId": "9af87078-b90a-4cd1-e78d-dd9b6dd0285f"
      },
      "source": [
        "try:\n",
        "    print(\"try block\")\n",
        "    x=int(input('Enter a number: '))\n",
        "    y=int(input('Enter another number: '))\n",
        "    z=x/y\n",
        "except ZeroDivisionError:\n",
        "    print(\"except ZeroDivisionError block\")\n",
        "    print(\"Division by 0 not accepted\")\n",
        "else:\n",
        "    print(\"else block\")\n",
        "    print(\"Division = \", z)\n",
        "finally:\n",
        "    print(\"finally block\")\n",
        "    x=0\n",
        "    y=0\n",
        "print (\"Out of try, except, else and finally blocks.\" )"
      ],
      "execution_count": null,
      "outputs": [
        {
          "output_type": "stream",
          "text": [
            "try block\n",
            "Enter a number: 4\n",
            "Enter another number: 0\n",
            "except ZeroDivisionError block\n",
            "Division by 0 not accepted\n",
            "finally block\n",
            "Out of try, except, else and finally blocks.\n"
          ],
          "name": "stdout"
        }
      ]
    },
    {
      "cell_type": "code",
      "metadata": {
        "id": "BZ8ONIQjlmRj",
        "colab_type": "code",
        "colab": {},
        "outputId": "8bcb6dfa-94fc-49ce-f0c3-a63f3f15c571"
      },
      "source": [
        "try:\n",
        "    x=int(input('Enter a number upto 100: '))\n",
        "    if x > 100:\n",
        "        raise ValueError(x) #Raises Error\n",
        "except ValueError:\n",
        "    print(x, \"is out of allowed range\")\n",
        "else:\n",
        "    print(x, \"is within the allowed range\")\n"
      ],
      "execution_count": null,
      "outputs": [
        {
          "output_type": "stream",
          "text": [
            "Enter a number upto 100: 101\n",
            "101 is out of allowed range\n"
          ],
          "name": "stdout"
        }
      ]
    },
    {
      "cell_type": "code",
      "metadata": {
        "id": "xkc0D97PlmRl",
        "colab_type": "code",
        "colab": {}
      },
      "source": [
        ""
      ],
      "execution_count": null,
      "outputs": []
    }
  ]
}