{
  "nbformat": 4,
  "nbformat_minor": 0,
  "metadata": {
    "kernelspec": {
      "display_name": "Python 3",
      "language": "python",
      "name": "python3"
    },
    "language_info": {
      "codemirror_mode": {
        "name": "ipython",
        "version": 3
      },
      "file_extension": ".py",
      "mimetype": "text/x-python",
      "name": "python",
      "nbconvert_exporter": "python",
      "pygments_lexer": "ipython3",
      "version": "3.7.6"
    },
    "colab": {
      "name": "5_Python_Modules.ipynb",
      "provenance": []
    }
  },
  "cells": [
    {
      "cell_type": "markdown",
      "metadata": {
        "id": "Zbk8tacSl9p_",
        "colab_type": "text"
      },
      "source": [
        "# Python Modules"
      ]
    },
    {
      "cell_type": "markdown",
      "metadata": {
        "id": "cWzW6lGql9qB",
        "colab_type": "text"
      },
      "source": [
        "Any text file with .py extension containing Python code is basically a module. Different Python objects such as functions, classes, variables, constants, etc.\n"
      ]
    },
    {
      "cell_type": "code",
      "metadata": {
        "id": "vt2XaeeKl9qC",
        "colab_type": "code",
        "colab": {}
      },
      "source": [
        "import temp #module created in same file"
      ],
      "execution_count": null,
      "outputs": []
    },
    {
      "cell_type": "code",
      "metadata": {
        "id": "d3lRRmwQl9qG",
        "colab_type": "code",
        "colab": {},
        "outputId": "268e17d1-5165-4521-fbf2-66730729e216"
      },
      "source": [
        "temp.hello()"
      ],
      "execution_count": null,
      "outputs": [
        {
          "output_type": "stream",
          "text": [
            "Hello World\n"
          ],
          "name": "stdout"
        }
      ]
    },
    {
      "cell_type": "markdown",
      "metadata": {
        "id": "GoWCy2vMl9qK",
        "colab_type": "text"
      },
      "source": [
        "## Module Attributes"
      ]
    },
    {
      "cell_type": "code",
      "metadata": {
        "id": "lCgp4WPhl9qK",
        "colab_type": "code",
        "colab": {}
      },
      "source": [
        "import math"
      ],
      "execution_count": null,
      "outputs": []
    },
    {
      "cell_type": "code",
      "metadata": {
        "id": "SDEH9Jf3l9qN",
        "colab_type": "code",
        "colab": {},
        "outputId": "22a25e0b-54a2-4a8b-c35a-a11db8097e86"
      },
      "source": [
        "math.__name__"
      ],
      "execution_count": null,
      "outputs": [
        {
          "output_type": "execute_result",
          "data": {
            "text/plain": [
              "'math'"
            ]
          },
          "metadata": {
            "tags": []
          },
          "execution_count": 6
        }
      ]
    },
    {
      "cell_type": "code",
      "metadata": {
        "id": "4_Vis1Sal9qP",
        "colab_type": "code",
        "colab": {},
        "outputId": "cb43448f-3ae3-4411-cfa8-1cf3f726df46"
      },
      "source": [
        "import temp as t\n",
        "t.__name__"
      ],
      "execution_count": null,
      "outputs": [
        {
          "output_type": "execute_result",
          "data": {
            "text/plain": [
              "'temp'"
            ]
          },
          "metadata": {
            "tags": []
          },
          "execution_count": 11
        }
      ]
    },
    {
      "cell_type": "code",
      "metadata": {
        "id": "lYdsXaKfl9qS",
        "colab_type": "code",
        "colab": {},
        "outputId": "2e8122da-fb20-449e-9672-2d4f7dff3a52"
      },
      "source": [
        "math.__doc__"
      ],
      "execution_count": null,
      "outputs": [
        {
          "output_type": "execute_result",
          "data": {
            "text/plain": [
              "'This module provides access to the mathematical functions\\ndefined by the C standard.'"
            ]
          },
          "metadata": {
            "tags": []
          },
          "execution_count": 12
        }
      ]
    },
    {
      "cell_type": "code",
      "metadata": {
        "id": "YkrvmCHNl9qU",
        "colab_type": "code",
        "colab": {},
        "outputId": "f590a9bb-9cd4-4646-aad3-6d58e85a9d5d"
      },
      "source": [
        "t.__file__"
      ],
      "execution_count": null,
      "outputs": [
        {
          "output_type": "execute_result",
          "data": {
            "text/plain": [
              "'F:\\\\PYTHON\\\\temp.py'"
            ]
          },
          "metadata": {
            "tags": []
          },
          "execution_count": 14
        }
      ]
    },
    {
      "cell_type": "code",
      "metadata": {
        "id": "jrDynivPl9qX",
        "colab_type": "code",
        "colab": {},
        "outputId": "19449c7b-5ad5-4486-b11e-481f1435592d"
      },
      "source": [
        "math.__dict__"
      ],
      "execution_count": null,
      "outputs": [
        {
          "output_type": "execute_result",
          "data": {
            "text/plain": [
              "{'__name__': 'math',\n",
              " '__doc__': 'This module provides access to the mathematical functions\\ndefined by the C standard.',\n",
              " '__package__': '',\n",
              " '__loader__': _frozen_importlib.BuiltinImporter,\n",
              " '__spec__': ModuleSpec(name='math', loader=<class '_frozen_importlib.BuiltinImporter'>, origin='built-in'),\n",
              " 'acos': <function math.acos(x, /)>,\n",
              " 'acosh': <function math.acosh(x, /)>,\n",
              " 'asin': <function math.asin(x, /)>,\n",
              " 'asinh': <function math.asinh(x, /)>,\n",
              " 'atan': <function math.atan(x, /)>,\n",
              " 'atan2': <function math.atan2(y, x, /)>,\n",
              " 'atanh': <function math.atanh(x, /)>,\n",
              " 'ceil': <function math.ceil(x, /)>,\n",
              " 'copysign': <function math.copysign(x, y, /)>,\n",
              " 'cos': <function math.cos(x, /)>,\n",
              " 'cosh': <function math.cosh(x, /)>,\n",
              " 'degrees': <function math.degrees(x, /)>,\n",
              " 'erf': <function math.erf(x, /)>,\n",
              " 'erfc': <function math.erfc(x, /)>,\n",
              " 'exp': <function math.exp(x, /)>,\n",
              " 'expm1': <function math.expm1(x, /)>,\n",
              " 'fabs': <function math.fabs(x, /)>,\n",
              " 'factorial': <function math.factorial(x, /)>,\n",
              " 'floor': <function math.floor(x, /)>,\n",
              " 'fmod': <function math.fmod(x, y, /)>,\n",
              " 'frexp': <function math.frexp(x, /)>,\n",
              " 'fsum': <function math.fsum(seq, /)>,\n",
              " 'gamma': <function math.gamma(x, /)>,\n",
              " 'gcd': <function math.gcd(x, y, /)>,\n",
              " 'hypot': <function math.hypot(x, y, /)>,\n",
              " 'isclose': <function math.isclose(a, b, *, rel_tol=1e-09, abs_tol=0.0)>,\n",
              " 'isfinite': <function math.isfinite(x, /)>,\n",
              " 'isinf': <function math.isinf(x, /)>,\n",
              " 'isnan': <function math.isnan(x, /)>,\n",
              " 'ldexp': <function math.ldexp(x, i, /)>,\n",
              " 'lgamma': <function math.lgamma(x, /)>,\n",
              " 'log': <function math.log>,\n",
              " 'log1p': <function math.log1p(x, /)>,\n",
              " 'log10': <function math.log10(x, /)>,\n",
              " 'log2': <function math.log2(x, /)>,\n",
              " 'modf': <function math.modf(x, /)>,\n",
              " 'pow': <function math.pow(x, y, /)>,\n",
              " 'radians': <function math.radians(x, /)>,\n",
              " 'remainder': <function math.remainder(x, y, /)>,\n",
              " 'sin': <function math.sin(x, /)>,\n",
              " 'sinh': <function math.sinh(x, /)>,\n",
              " 'sqrt': <function math.sqrt(x, /)>,\n",
              " 'tan': <function math.tan(x, /)>,\n",
              " 'tanh': <function math.tanh(x, /)>,\n",
              " 'trunc': <function math.trunc(x, /)>,\n",
              " 'pi': 3.141592653589793,\n",
              " 'e': 2.718281828459045,\n",
              " 'tau': 6.283185307179586,\n",
              " 'inf': inf,\n",
              " 'nan': nan}"
            ]
          },
          "metadata": {
            "tags": []
          },
          "execution_count": 16
        }
      ]
    },
    {
      "cell_type": "markdown",
      "metadata": {
        "id": "aLpjPcGzl9qZ",
        "colab_type": "text"
      },
      "source": [
        "## OS Module"
      ]
    },
    {
      "cell_type": "code",
      "metadata": {
        "id": "J4dlBC3Ml9qa",
        "colab_type": "code",
        "colab": {}
      },
      "source": [
        "import os"
      ],
      "execution_count": null,
      "outputs": []
    },
    {
      "cell_type": "code",
      "metadata": {
        "id": "ioIE8lgol9qc",
        "colab_type": "code",
        "colab": {}
      },
      "source": [
        "os.mkdir(\"f:\\\\temp2\")"
      ],
      "execution_count": null,
      "outputs": []
    },
    {
      "cell_type": "code",
      "metadata": {
        "id": "axSvfWSdl9qe",
        "colab_type": "code",
        "colab": {},
        "outputId": "98374189-9452-48d5-efcc-c439ba45f950"
      },
      "source": [
        "os.getcwd()"
      ],
      "execution_count": null,
      "outputs": [
        {
          "output_type": "execute_result",
          "data": {
            "text/plain": [
              "'f:\\\\PYTHON'"
            ]
          },
          "metadata": {
            "tags": []
          },
          "execution_count": 35
        }
      ]
    },
    {
      "cell_type": "code",
      "metadata": {
        "id": "x2qUQbkgl9qh",
        "colab_type": "code",
        "colab": {}
      },
      "source": [
        "os.chdir(\"f:\\\\temp\")"
      ],
      "execution_count": null,
      "outputs": []
    },
    {
      "cell_type": "code",
      "metadata": {
        "id": "BXHQFb4wl9qj",
        "colab_type": "code",
        "colab": {},
        "outputId": "2509acd6-d91c-4822-ebba-8308bd61c3eb"
      },
      "source": [
        "os.getcwd()"
      ],
      "execution_count": null,
      "outputs": [
        {
          "output_type": "execute_result",
          "data": {
            "text/plain": [
              "'f:\\\\temp'"
            ]
          },
          "metadata": {
            "tags": []
          },
          "execution_count": 37
        }
      ]
    },
    {
      "cell_type": "code",
      "metadata": {
        "id": "HXE6ozayl9ql",
        "colab_type": "code",
        "colab": {}
      },
      "source": [
        "os.chdir(\"f:\\\\PYTHON\")"
      ],
      "execution_count": null,
      "outputs": []
    },
    {
      "cell_type": "code",
      "metadata": {
        "id": "LRFfEbiNl9qn",
        "colab_type": "code",
        "colab": {},
        "outputId": "8c69e389-2b22-4e0d-f062-0f995b5efc05"
      },
      "source": [
        "os.getcwd()"
      ],
      "execution_count": null,
      "outputs": [
        {
          "output_type": "execute_result",
          "data": {
            "text/plain": [
              "'f:\\\\PYTHON'"
            ]
          },
          "metadata": {
            "tags": []
          },
          "execution_count": 39
        }
      ]
    },
    {
      "cell_type": "code",
      "metadata": {
        "id": "kq9S3ptUl9qp",
        "colab_type": "code",
        "colab": {}
      },
      "source": [
        "os.rmdir(\"f:\\\\temp\")"
      ],
      "execution_count": null,
      "outputs": []
    },
    {
      "cell_type": "code",
      "metadata": {
        "id": "G6S9vpBol9qs",
        "colab_type": "code",
        "colab": {}
      },
      "source": [
        "os.rmdir(\"f:\\\\temp2\")"
      ],
      "execution_count": null,
      "outputs": []
    },
    {
      "cell_type": "code",
      "metadata": {
        "id": "wFOjLGBQl9qu",
        "colab_type": "code",
        "colab": {},
        "outputId": "3ba691db-a783-4b4e-a16e-6fa0cda0f3c1"
      },
      "source": [
        "os.listdir(\"f:\\\\python\\.ipynb_checkpoints\")"
      ],
      "execution_count": null,
      "outputs": [
        {
          "output_type": "execute_result",
          "data": {
            "text/plain": [
              "['1_Data_Types-checkpoint.ipynb',\n",
              " '2_Operators-checkpoint.ipynb',\n",
              " '3_Errors_Exception_Handling-checkpoint.ipynb',\n",
              " '5_Python_Modules-checkpoint.ipynb']"
            ]
          },
          "metadata": {
            "tags": []
          },
          "execution_count": 47
        }
      ]
    },
    {
      "cell_type": "code",
      "metadata": {
        "id": "QkrH5nGCl9qw",
        "colab_type": "code",
        "colab": {},
        "outputId": "60396355-8399-4dfe-9018-aff8dbc1d141"
      },
      "source": [
        "os.listdir() #lists cwd"
      ],
      "execution_count": null,
      "outputs": [
        {
          "output_type": "execute_result",
          "data": {
            "text/plain": [
              "['.ipynb_checkpoints',\n",
              " '1_Data_Types.ipynb',\n",
              " '2_Operators.ipynb',\n",
              " '3_Errors_Exception_Handling.ipynb',\n",
              " '5_Python_Modules.ipynb',\n",
              " 'temp.py',\n",
              " '__pycache__']"
            ]
          },
          "metadata": {
            "tags": []
          },
          "execution_count": 45
        }
      ]
    },
    {
      "cell_type": "markdown",
      "metadata": {
        "id": "zkKR_2-Yl9qy",
        "colab_type": "text"
      },
      "source": [
        "## Math Module"
      ]
    },
    {
      "cell_type": "code",
      "metadata": {
        "id": "WgwOGaBJl9qz",
        "colab_type": "code",
        "colab": {}
      },
      "source": [
        "import math as m"
      ],
      "execution_count": null,
      "outputs": []
    },
    {
      "cell_type": "code",
      "metadata": {
        "id": "yZcD2CRUl9q1",
        "colab_type": "code",
        "colab": {},
        "outputId": "ba78fc07-e888-4c68-a0fb-5551d8ccb442"
      },
      "source": [
        "m.pi"
      ],
      "execution_count": null,
      "outputs": [
        {
          "output_type": "execute_result",
          "data": {
            "text/plain": [
              "3.141592653589793"
            ]
          },
          "metadata": {
            "tags": []
          },
          "execution_count": 50
        }
      ]
    },
    {
      "cell_type": "code",
      "metadata": {
        "id": "dnEXSWh6l9q3",
        "colab_type": "code",
        "colab": {},
        "outputId": "0f8f9e42-1bf8-4a77-ff82-1aad37fcf2e5"
      },
      "source": [
        "m.e"
      ],
      "execution_count": null,
      "outputs": [
        {
          "output_type": "execute_result",
          "data": {
            "text/plain": [
              "2.718281828459045"
            ]
          },
          "metadata": {
            "tags": []
          },
          "execution_count": 51
        }
      ]
    },
    {
      "cell_type": "code",
      "metadata": {
        "id": "uLz0Qgyxl9q5",
        "colab_type": "code",
        "colab": {},
        "outputId": "8e07d45d-a9cc-4ceb-fd71-f236aebbc096"
      },
      "source": [
        "m.radians(30)"
      ],
      "execution_count": null,
      "outputs": [
        {
          "output_type": "execute_result",
          "data": {
            "text/plain": [
              "0.5235987755982988"
            ]
          },
          "metadata": {
            "tags": []
          },
          "execution_count": 52
        }
      ]
    },
    {
      "cell_type": "code",
      "metadata": {
        "id": "R4PZEfLCl9q8",
        "colab_type": "code",
        "colab": {},
        "outputId": "40c6cecb-96c8-4120-9f69-0080727de549"
      },
      "source": [
        "m.sin(m.radians(30))"
      ],
      "execution_count": null,
      "outputs": [
        {
          "output_type": "execute_result",
          "data": {
            "text/plain": [
              "0.49999999999999994"
            ]
          },
          "metadata": {
            "tags": []
          },
          "execution_count": 53
        }
      ]
    },
    {
      "cell_type": "code",
      "metadata": {
        "id": "TVVLDr4-l9q-",
        "colab_type": "code",
        "colab": {},
        "outputId": "4cc495f1-3bca-404f-b3d7-12c0aae0ece4"
      },
      "source": [
        "m.log(10) #natural log"
      ],
      "execution_count": null,
      "outputs": [
        {
          "output_type": "execute_result",
          "data": {
            "text/plain": [
              "2.302585092994046"
            ]
          },
          "metadata": {
            "tags": []
          },
          "execution_count": 54
        }
      ]
    },
    {
      "cell_type": "code",
      "metadata": {
        "id": "HnHjqQ2ql9rA",
        "colab_type": "code",
        "colab": {},
        "outputId": "507d549d-a58d-4269-986f-8d169fa12273"
      },
      "source": [
        "m.log10(10)"
      ],
      "execution_count": null,
      "outputs": [
        {
          "output_type": "execute_result",
          "data": {
            "text/plain": [
              "1.0"
            ]
          },
          "metadata": {
            "tags": []
          },
          "execution_count": 55
        }
      ]
    },
    {
      "cell_type": "code",
      "metadata": {
        "id": "yKXXjzHql9rC",
        "colab_type": "code",
        "colab": {},
        "outputId": "a00b34ba-9f1e-4b5b-a2c7-9d8a2d8d2d56"
      },
      "source": [
        "m.exp(10)"
      ],
      "execution_count": null,
      "outputs": [
        {
          "output_type": "execute_result",
          "data": {
            "text/plain": [
              "22026.465794806718"
            ]
          },
          "metadata": {
            "tags": []
          },
          "execution_count": 56
        }
      ]
    },
    {
      "cell_type": "code",
      "metadata": {
        "id": "BtaMgG5rl9rE",
        "colab_type": "code",
        "colab": {},
        "outputId": "cea7ec0d-0fbb-4eb3-96d7-b6cb73622067"
      },
      "source": [
        "m.e**10"
      ],
      "execution_count": null,
      "outputs": [
        {
          "output_type": "execute_result",
          "data": {
            "text/plain": [
              "22026.465794806703"
            ]
          },
          "metadata": {
            "tags": []
          },
          "execution_count": 57
        }
      ]
    },
    {
      "cell_type": "code",
      "metadata": {
        "id": "Cg-2ArvPl9rG",
        "colab_type": "code",
        "colab": {},
        "outputId": "40292b6a-5cb8-4b31-ebd2-52c731b481bf"
      },
      "source": [
        "m.pow(2,3)"
      ],
      "execution_count": null,
      "outputs": [
        {
          "output_type": "execute_result",
          "data": {
            "text/plain": [
              "8.0"
            ]
          },
          "metadata": {
            "tags": []
          },
          "execution_count": 58
        }
      ]
    },
    {
      "cell_type": "code",
      "metadata": {
        "id": "vndZJdGel9rI",
        "colab_type": "code",
        "colab": {},
        "outputId": "3f92218b-6b04-4928-e1e9-41a76d7a8f23"
      },
      "source": [
        "m.sqrt(225)"
      ],
      "execution_count": null,
      "outputs": [
        {
          "output_type": "execute_result",
          "data": {
            "text/plain": [
              "15.0"
            ]
          },
          "metadata": {
            "tags": []
          },
          "execution_count": 59
        }
      ]
    },
    {
      "cell_type": "code",
      "metadata": {
        "id": "yLYPsMDul9rL",
        "colab_type": "code",
        "colab": {},
        "outputId": "b8c7b454-92f7-4d91-de9a-2377babe0b88"
      },
      "source": [
        "m.ceil(4.7)"
      ],
      "execution_count": null,
      "outputs": [
        {
          "output_type": "execute_result",
          "data": {
            "text/plain": [
              "5"
            ]
          },
          "metadata": {
            "tags": []
          },
          "execution_count": 60
        }
      ]
    },
    {
      "cell_type": "code",
      "metadata": {
        "id": "Bb7BmPQsl9rN",
        "colab_type": "code",
        "colab": {},
        "outputId": "eaca9ab7-c628-4a94-89d6-4f4fc0de80bb"
      },
      "source": [
        "m.floor(4.7)"
      ],
      "execution_count": null,
      "outputs": [
        {
          "output_type": "execute_result",
          "data": {
            "text/plain": [
              "4"
            ]
          },
          "metadata": {
            "tags": []
          },
          "execution_count": 61
        }
      ]
    },
    {
      "cell_type": "markdown",
      "metadata": {
        "id": "IDCUsSPsl9rS",
        "colab_type": "text"
      },
      "source": [
        "## Statistic Module"
      ]
    },
    {
      "cell_type": "code",
      "metadata": {
        "id": "SsFA2QJel9rT",
        "colab_type": "code",
        "colab": {}
      },
      "source": [
        "import statistics as s"
      ],
      "execution_count": null,
      "outputs": []
    },
    {
      "cell_type": "code",
      "metadata": {
        "id": "j-Qrotiel9rU",
        "colab_type": "code",
        "colab": {}
      },
      "source": [
        "a = [1,3,3,3,4,6,7,8,9]"
      ],
      "execution_count": null,
      "outputs": []
    },
    {
      "cell_type": "code",
      "metadata": {
        "id": "w0VDvLLil9rW",
        "colab_type": "code",
        "colab": {},
        "outputId": "edb99ebd-7d71-4070-e5a2-c7dababb31a5"
      },
      "source": [
        "s.mean(a)"
      ],
      "execution_count": null,
      "outputs": [
        {
          "output_type": "execute_result",
          "data": {
            "text/plain": [
              "4.888888888888889"
            ]
          },
          "metadata": {
            "tags": []
          },
          "execution_count": 79
        }
      ]
    },
    {
      "cell_type": "code",
      "metadata": {
        "id": "Mx0fSsLcl9rY",
        "colab_type": "code",
        "colab": {},
        "outputId": "c823f144-c21b-422e-d9d5-5f28be9212fb"
      },
      "source": [
        "s.median(a)"
      ],
      "execution_count": null,
      "outputs": [
        {
          "output_type": "execute_result",
          "data": {
            "text/plain": [
              "4"
            ]
          },
          "metadata": {
            "tags": []
          },
          "execution_count": 80
        }
      ]
    },
    {
      "cell_type": "code",
      "metadata": {
        "id": "qft4tMhUl9ra",
        "colab_type": "code",
        "colab": {},
        "outputId": "d7d700f3-896d-4552-e2fc-ae7b7cbe8bd6"
      },
      "source": [
        "s.mode(a)"
      ],
      "execution_count": null,
      "outputs": [
        {
          "output_type": "execute_result",
          "data": {
            "text/plain": [
              "3"
            ]
          },
          "metadata": {
            "tags": []
          },
          "execution_count": 82
        }
      ]
    },
    {
      "cell_type": "code",
      "metadata": {
        "id": "X2ARdwTEl9rc",
        "colab_type": "code",
        "colab": {},
        "outputId": "c428c800-1979-454a-c27a-7dbe5d7ae84f"
      },
      "source": [
        "s.stdev(a) #standard deviation"
      ],
      "execution_count": null,
      "outputs": [
        {
          "output_type": "execute_result",
          "data": {
            "text/plain": [
              "2.7131367660166177"
            ]
          },
          "metadata": {
            "tags": []
          },
          "execution_count": 83
        }
      ]
    },
    {
      "cell_type": "markdown",
      "metadata": {
        "id": "4Ddnf5Xal9re",
        "colab_type": "text"
      },
      "source": [
        "Etc stats operations are also present"
      ]
    },
    {
      "cell_type": "markdown",
      "metadata": {
        "id": "_nb6MtTIl9rf",
        "colab_type": "text"
      },
      "source": [
        "## Collections Module"
      ]
    },
    {
      "cell_type": "code",
      "metadata": {
        "id": "mfLFkYjIl9rf",
        "colab_type": "code",
        "colab": {}
      },
      "source": [
        "import collections as c"
      ],
      "execution_count": null,
      "outputs": []
    },
    {
      "cell_type": "code",
      "metadata": {
        "id": "BviDXde_l9rh",
        "colab_type": "code",
        "colab": {}
      },
      "source": [
        "stu = c.namedtuple('student', ['name', 'age', 'marks']) # type of class"
      ],
      "execution_count": null,
      "outputs": []
    },
    {
      "cell_type": "code",
      "metadata": {
        "id": "AHJc8UzJl9rl",
        "colab_type": "code",
        "colab": {}
      },
      "source": [
        "S = stu('Nandini','19','2541997') "
      ],
      "execution_count": null,
      "outputs": []
    },
    {
      "cell_type": "code",
      "metadata": {
        "id": "O1InDcLQl9rm",
        "colab_type": "code",
        "colab": {},
        "outputId": "cb6e75a0-b106-4913-8923-af932b9eff38"
      },
      "source": [
        "S"
      ],
      "execution_count": null,
      "outputs": [
        {
          "output_type": "execute_result",
          "data": {
            "text/plain": [
              "student(name='Nandini', age='19', marks='2541997')"
            ]
          },
          "metadata": {
            "tags": []
          },
          "execution_count": 92
        }
      ]
    },
    {
      "cell_type": "code",
      "metadata": {
        "id": "HjpehcHEl9rq",
        "colab_type": "code",
        "colab": {},
        "outputId": "081bb234-7e58-4bb6-c1fd-14a1e64e4a82"
      },
      "source": [
        "S[1]"
      ],
      "execution_count": null,
      "outputs": [
        {
          "output_type": "execute_result",
          "data": {
            "text/plain": [
              "'19'"
            ]
          },
          "metadata": {
            "tags": []
          },
          "execution_count": 93
        }
      ]
    },
    {
      "cell_type": "code",
      "metadata": {
        "id": "AssofWr0l9rs",
        "colab_type": "code",
        "colab": {},
        "outputId": "2d95bcbe-6f2e-4e3d-ddab-b2fc042faa38"
      },
      "source": [
        "S.name"
      ],
      "execution_count": null,
      "outputs": [
        {
          "output_type": "execute_result",
          "data": {
            "text/plain": [
              "'Nandini'"
            ]
          },
          "metadata": {
            "tags": []
          },
          "execution_count": 94
        }
      ]
    },
    {
      "cell_type": "code",
      "metadata": {
        "id": "pMfmFEJXl9ru",
        "colab_type": "code",
        "colab": {},
        "outputId": "12142804-c8c3-44c1-b50a-459d8d8a01af"
      },
      "source": [
        "getattr(S,'marks')"
      ],
      "execution_count": null,
      "outputs": [
        {
          "output_type": "execute_result",
          "data": {
            "text/plain": [
              "'2541997'"
            ]
          },
          "metadata": {
            "tags": []
          },
          "execution_count": 95
        }
      ]
    },
    {
      "cell_type": "code",
      "metadata": {
        "id": "R6BP_6iJl9rw",
        "colab_type": "code",
        "colab": {},
        "outputId": "9785ed48-1afe-425f-8ef2-585ba1e85275"
      },
      "source": [
        "type(S)"
      ],
      "execution_count": null,
      "outputs": [
        {
          "output_type": "execute_result",
          "data": {
            "text/plain": [
              "__main__.student"
            ]
          },
          "metadata": {
            "tags": []
          },
          "execution_count": 96
        }
      ]
    },
    {
      "cell_type": "code",
      "metadata": {
        "id": "D8Mr2k3hl9ry",
        "colab_type": "code",
        "colab": {}
      },
      "source": [
        "li = ['Manjeet', '19', '411997' ]"
      ],
      "execution_count": null,
      "outputs": []
    },
    {
      "cell_type": "code",
      "metadata": {
        "id": "zNQqXYDal9r0",
        "colab_type": "code",
        "colab": {}
      },
      "source": [
        "T = stu._make(li)"
      ],
      "execution_count": null,
      "outputs": []
    },
    {
      "cell_type": "code",
      "metadata": {
        "id": "NHrqatsxl9r2",
        "colab_type": "code",
        "colab": {},
        "outputId": "258b7d86-ed92-4f45-8150-90236dfa2bf7"
      },
      "source": [
        "T"
      ],
      "execution_count": null,
      "outputs": [
        {
          "output_type": "execute_result",
          "data": {
            "text/plain": [
              "student(name='Manjeet', age='19', marks='411997')"
            ]
          },
          "metadata": {
            "tags": []
          },
          "execution_count": 100
        }
      ]
    },
    {
      "cell_type": "code",
      "metadata": {
        "id": "04zQctwRl9r4",
        "colab_type": "code",
        "colab": {}
      },
      "source": [
        "di = { 'name' : \"Nikhil\", 'age' : 19 , \"marks\" : '1391997' }"
      ],
      "execution_count": null,
      "outputs": []
    },
    {
      "cell_type": "code",
      "metadata": {
        "id": "Y82RCgDql9r6",
        "colab_type": "code",
        "colab": {}
      },
      "source": [
        "U = stu(**di)"
      ],
      "execution_count": null,
      "outputs": []
    },
    {
      "cell_type": "code",
      "metadata": {
        "id": "AMtF9Lm-l9r-",
        "colab_type": "code",
        "colab": {},
        "outputId": "1349e361-81d9-448f-c05d-e3a5705e02a5"
      },
      "source": [
        "U"
      ],
      "execution_count": null,
      "outputs": [
        {
          "output_type": "execute_result",
          "data": {
            "text/plain": [
              "student(name='Nikhil', age=19, marks='1391997')"
            ]
          },
          "metadata": {
            "tags": []
          },
          "execution_count": 104
        }
      ]
    },
    {
      "cell_type": "code",
      "metadata": {
        "id": "pdYIgVI9l9sA",
        "colab_type": "code",
        "colab": {},
        "outputId": "7cf1935b-2839-40be-a2b0-51f481bcf763"
      },
      "source": [
        "U._asdict()"
      ],
      "execution_count": null,
      "outputs": [
        {
          "output_type": "execute_result",
          "data": {
            "text/plain": [
              "OrderedDict([('name', 'Nikhil'), ('age', 19), ('marks', '1391997')])"
            ]
          },
          "metadata": {
            "tags": []
          },
          "execution_count": 105
        }
      ]
    },
    {
      "cell_type": "code",
      "metadata": {
        "id": "fStjttCNl9sC",
        "colab_type": "code",
        "colab": {},
        "outputId": "61a36297-765b-49d5-de68-6ca2138d3ead"
      },
      "source": [
        "U._replace(name = \"Manoj\")"
      ],
      "execution_count": null,
      "outputs": [
        {
          "output_type": "execute_result",
          "data": {
            "text/plain": [
              "student(name='Manoj', age=19, marks='1391997')"
            ]
          },
          "metadata": {
            "tags": []
          },
          "execution_count": 106
        }
      ]
    },
    {
      "cell_type": "code",
      "metadata": {
        "id": "I5ZpkVeKl9sD",
        "colab_type": "code",
        "colab": {},
        "outputId": "233e34a9-62b2-463c-c197-37a60fb15cd1"
      },
      "source": [
        "S._fields"
      ],
      "execution_count": null,
      "outputs": [
        {
          "output_type": "execute_result",
          "data": {
            "text/plain": [
              "('name', 'age', 'marks')"
            ]
          },
          "metadata": {
            "tags": []
          },
          "execution_count": 107
        }
      ]
    },
    {
      "cell_type": "code",
      "metadata": {
        "id": "Gv4UV-aal9sF",
        "colab_type": "code",
        "colab": {}
      },
      "source": [
        "d1 = c.OrderedDict() # Same as normal dict but remembers order of keys in \n",
        "#which they were firse inserted"
      ],
      "execution_count": null,
      "outputs": []
    },
    {
      "cell_type": "code",
      "metadata": {
        "id": "qXVIRy8Ol9sI",
        "colab_type": "code",
        "colab": {}
      },
      "source": [
        "d1['a'] = 65\n",
        "d1['c'] = 67\n",
        "d1['b'] = 66"
      ],
      "execution_count": null,
      "outputs": []
    },
    {
      "cell_type": "code",
      "metadata": {
        "id": "6jKfnubOl9sJ",
        "colab_type": "code",
        "colab": {},
        "outputId": "636dc2dc-8093-49e9-fe66-b644fbfeb2c1"
      },
      "source": [
        "for k,v in d1.items():\n",
        "    print(k,v)"
      ],
      "execution_count": null,
      "outputs": [
        {
          "output_type": "stream",
          "text": [
            "a 65\n",
            "c 67\n",
            "b 66\n"
          ],
          "name": "stdout"
        }
      ]
    },
    {
      "cell_type": "code",
      "metadata": {
        "id": "PNhiSnmyl9sL",
        "colab_type": "code",
        "colab": {}
      },
      "source": [
        "q = c.deque([1,2,3,4,5])"
      ],
      "execution_count": null,
      "outputs": []
    },
    {
      "cell_type": "code",
      "metadata": {
        "id": "W4PMUIlpl9sN",
        "colab_type": "code",
        "colab": {}
      },
      "source": [
        "q.appendleft(0)"
      ],
      "execution_count": null,
      "outputs": []
    },
    {
      "cell_type": "code",
      "metadata": {
        "id": "qNX_NjFxl9sO",
        "colab_type": "code",
        "colab": {},
        "outputId": "02ed1d0b-d10f-4c4c-8930-4e70ce1f8def"
      },
      "source": [
        "q"
      ],
      "execution_count": null,
      "outputs": [
        {
          "output_type": "execute_result",
          "data": {
            "text/plain": [
              "deque([0, 1, 2, 3, 4, 5])"
            ]
          },
          "metadata": {
            "tags": []
          },
          "execution_count": 116
        }
      ]
    },
    {
      "cell_type": "code",
      "metadata": {
        "id": "fQCREvNgl9sQ",
        "colab_type": "code",
        "colab": {}
      },
      "source": [
        "q.append(6)"
      ],
      "execution_count": null,
      "outputs": []
    },
    {
      "cell_type": "code",
      "metadata": {
        "id": "x2WafcmRl9sS",
        "colab_type": "code",
        "colab": {},
        "outputId": "24295fe1-6317-4d63-99f0-23ca5af69864"
      },
      "source": [
        "q"
      ],
      "execution_count": null,
      "outputs": [
        {
          "output_type": "execute_result",
          "data": {
            "text/plain": [
              "deque([0, 1, 2, 3, 4, 5, 6])"
            ]
          },
          "metadata": {
            "tags": []
          },
          "execution_count": 118
        }
      ]
    },
    {
      "cell_type": "code",
      "metadata": {
        "id": "mvaCkSbal9sT",
        "colab_type": "code",
        "colab": {},
        "outputId": "c6af9c76-420c-467f-9799-34b17a15fcc9"
      },
      "source": [
        "q.pop()"
      ],
      "execution_count": null,
      "outputs": [
        {
          "output_type": "execute_result",
          "data": {
            "text/plain": [
              "6"
            ]
          },
          "metadata": {
            "tags": []
          },
          "execution_count": 119
        }
      ]
    },
    {
      "cell_type": "code",
      "metadata": {
        "id": "AGv5Y2N5l9sV",
        "colab_type": "code",
        "colab": {},
        "outputId": "200317c3-5f1e-4dd4-8dd0-8d4b35bc3c24"
      },
      "source": [
        "q.popleft()"
      ],
      "execution_count": null,
      "outputs": [
        {
          "output_type": "execute_result",
          "data": {
            "text/plain": [
              "0"
            ]
          },
          "metadata": {
            "tags": []
          },
          "execution_count": 120
        }
      ]
    },
    {
      "cell_type": "code",
      "metadata": {
        "id": "sCCX5HqSl9sW",
        "colab_type": "code",
        "colab": {},
        "outputId": "eb101724-a380-4054-e95c-864ea92df286"
      },
      "source": [
        "q"
      ],
      "execution_count": null,
      "outputs": [
        {
          "output_type": "execute_result",
          "data": {
            "text/plain": [
              "deque([1, 2, 3, 4, 5])"
            ]
          },
          "metadata": {
            "tags": []
          },
          "execution_count": 121
        }
      ]
    },
    {
      "cell_type": "code",
      "metadata": {
        "id": "wC0YLI-Kl9sY",
        "colab_type": "code",
        "colab": {}
      },
      "source": [
        "marks = [\n",
        "    ('Shubham', 89),\n",
        "    ('Pankaj', 92),\n",
        "    ('JournalDev', 99),\n",
        "    ('JournalDev', 98)\n",
        "]"
      ],
      "execution_count": null,
      "outputs": []
    },
    {
      "cell_type": "code",
      "metadata": {
        "id": "CdQBLkh6l9sZ",
        "colab_type": "code",
        "colab": {}
      },
      "source": [
        "dict_marks = c.defaultdict(list) # dict that can contain duplicate keys"
      ],
      "execution_count": null,
      "outputs": []
    },
    {
      "cell_type": "code",
      "metadata": {
        "id": "62id6ReFl9sa",
        "colab_type": "code",
        "colab": {}
      },
      "source": [
        "for k,v in marks:\n",
        "    dict_marks[k].append(v)"
      ],
      "execution_count": null,
      "outputs": []
    },
    {
      "cell_type": "code",
      "metadata": {
        "id": "ezRPnUEGl9sd",
        "colab_type": "code",
        "colab": {},
        "outputId": "774e1189-77e1-422d-e834-db726f91053a"
      },
      "source": [
        "dict_marks"
      ],
      "execution_count": null,
      "outputs": [
        {
          "output_type": "execute_result",
          "data": {
            "text/plain": [
              "defaultdict(list, {'Shubham': [89], 'Pankaj': [92], 'JournalDev': [99, 98]})"
            ]
          },
          "metadata": {
            "tags": []
          },
          "execution_count": 137
        }
      ]
    },
    {
      "cell_type": "code",
      "metadata": {
        "id": "zGa0Tmunl9sf",
        "colab_type": "code",
        "colab": {},
        "outputId": "b8ae6faf-db8a-4de8-8b70-2a25b257cb6a"
      },
      "source": [
        "c.__dict__"
      ],
      "execution_count": null,
      "outputs": [
        {
          "output_type": "execute_result",
          "data": {
            "text/plain": [
              "{'__name__': 'collections',\n",
              " '__doc__': \"This module implements specialized container datatypes providing\\nalternatives to Python's general purpose built-in containers, dict,\\nlist, set, and tuple.\\n\\n* namedtuple   factory function for creating tuple subclasses with named fields\\n* deque        list-like container with fast appends and pops on either end\\n* ChainMap     dict-like class for creating a single view of multiple mappings\\n* Counter      dict subclass for counting hashable objects\\n* OrderedDict  dict subclass that remembers the order entries were added\\n* defaultdict  dict subclass that calls a factory function to supply missing values\\n* UserDict     wrapper around dictionary objects for easier dict subclassing\\n* UserList     wrapper around list objects for easier list subclassing\\n* UserString   wrapper around string objects for easier string subclassing\\n\\n\",\n",
              " '__package__': 'collections',\n",
              " '__loader__': <_frozen_importlib_external.SourceFileLoader at 0x2d1ec71e7c8>,\n",
              " '__spec__': ModuleSpec(name='collections', loader=<_frozen_importlib_external.SourceFileLoader object at 0x000002D1EC71E7C8>, origin='C:\\\\ProgramData\\\\Anaconda3\\\\lib\\\\collections\\\\__init__.py', submodule_search_locations=['C:\\\\ProgramData\\\\Anaconda3\\\\lib\\\\collections']),\n",
              " '__path__': ['C:\\\\ProgramData\\\\Anaconda3\\\\lib\\\\collections'],\n",
              " '__file__': 'C:\\\\ProgramData\\\\Anaconda3\\\\lib\\\\collections\\\\__init__.py',\n",
              " '__cached__': 'C:\\\\ProgramData\\\\Anaconda3\\\\lib\\\\collections\\\\__pycache__\\\\__init__.cpython-37.pyc',\n",
              " '__builtins__': {'__name__': 'builtins',\n",
              "  '__doc__': \"Built-in functions, exceptions, and other objects.\\n\\nNoteworthy: None is the `nil' object; Ellipsis represents `...' in slices.\",\n",
              "  '__package__': '',\n",
              "  '__loader__': _frozen_importlib.BuiltinImporter,\n",
              "  '__spec__': ModuleSpec(name='builtins', loader=<class '_frozen_importlib.BuiltinImporter'>),\n",
              "  '__build_class__': <function __build_class__>,\n",
              "  '__import__': <function __import__>,\n",
              "  'abs': <function abs(x, /)>,\n",
              "  'all': <function all(iterable, /)>,\n",
              "  'any': <function any(iterable, /)>,\n",
              "  'ascii': <function ascii(obj, /)>,\n",
              "  'bin': <function bin(number, /)>,\n",
              "  'breakpoint': <function breakpoint>,\n",
              "  'callable': <function callable(obj, /)>,\n",
              "  'chr': <function chr(i, /)>,\n",
              "  'compile': <function compile(source, filename, mode, flags=0, dont_inherit=False, optimize=-1)>,\n",
              "  'delattr': <function delattr(obj, name, /)>,\n",
              "  'dir': <function dir>,\n",
              "  'divmod': <function divmod(x, y, /)>,\n",
              "  'eval': <function eval(source, globals=None, locals=None, /)>,\n",
              "  'exec': <function exec(source, globals=None, locals=None, /)>,\n",
              "  'format': <function format(value, format_spec='', /)>,\n",
              "  'getattr': <function getattr>,\n",
              "  'globals': <function globals()>,\n",
              "  'hasattr': <function hasattr(obj, name, /)>,\n",
              "  'hash': <function hash(obj, /)>,\n",
              "  'hex': <function hex(number, /)>,\n",
              "  'id': <function id(obj, /)>,\n",
              "  'input': <bound method Kernel.raw_input of <ipykernel.ipkernel.IPythonKernel object at 0x000002D1EED78C88>>,\n",
              "  'isinstance': <function isinstance(obj, class_or_tuple, /)>,\n",
              "  'issubclass': <function issubclass(cls, class_or_tuple, /)>,\n",
              "  'iter': <function iter>,\n",
              "  'len': <function len(obj, /)>,\n",
              "  'locals': <function locals()>,\n",
              "  'max': <function max>,\n",
              "  'min': <function min>,\n",
              "  'next': <function next>,\n",
              "  'oct': <function oct(number, /)>,\n",
              "  'ord': <function ord(c, /)>,\n",
              "  'pow': <function pow(x, y, z=None, /)>,\n",
              "  'print': <function print>,\n",
              "  'repr': <function repr(obj, /)>,\n",
              "  'round': <function round(number, ndigits=None)>,\n",
              "  'setattr': <function setattr(obj, name, value, /)>,\n",
              "  'sorted': <function sorted(iterable, /, *, key=None, reverse=False)>,\n",
              "  'sum': <function sum(iterable, start=0, /)>,\n",
              "  'vars': <function vars>,\n",
              "  'None': None,\n",
              "  'Ellipsis': Ellipsis,\n",
              "  'NotImplemented': NotImplemented,\n",
              "  'False': False,\n",
              "  'True': True,\n",
              "  'bool': bool,\n",
              "  'memoryview': memoryview,\n",
              "  'bytearray': bytearray,\n",
              "  'bytes': bytes,\n",
              "  'classmethod': classmethod,\n",
              "  'complex': complex,\n",
              "  'dict': dict,\n",
              "  'enumerate': enumerate,\n",
              "  'filter': filter,\n",
              "  'float': float,\n",
              "  'frozenset': frozenset,\n",
              "  'property': property,\n",
              "  'int': int,\n",
              "  'list': list,\n",
              "  'map': map,\n",
              "  'object': object,\n",
              "  'range': range,\n",
              "  'reversed': reversed,\n",
              "  'set': set,\n",
              "  'slice': slice,\n",
              "  'staticmethod': staticmethod,\n",
              "  'str': str,\n",
              "  'super': super,\n",
              "  'tuple': tuple,\n",
              "  'type': type,\n",
              "  'zip': zip,\n",
              "  '__debug__': True,\n",
              "  'BaseException': BaseException,\n",
              "  'Exception': Exception,\n",
              "  'TypeError': TypeError,\n",
              "  'StopAsyncIteration': StopAsyncIteration,\n",
              "  'StopIteration': StopIteration,\n",
              "  'GeneratorExit': GeneratorExit,\n",
              "  'SystemExit': SystemExit,\n",
              "  'KeyboardInterrupt': KeyboardInterrupt,\n",
              "  'ImportError': ImportError,\n",
              "  'ModuleNotFoundError': ModuleNotFoundError,\n",
              "  'OSError': OSError,\n",
              "  'EnvironmentError': OSError,\n",
              "  'IOError': OSError,\n",
              "  'WindowsError': OSError,\n",
              "  'EOFError': EOFError,\n",
              "  'RuntimeError': RuntimeError,\n",
              "  'RecursionError': RecursionError,\n",
              "  'NotImplementedError': NotImplementedError,\n",
              "  'NameError': NameError,\n",
              "  'UnboundLocalError': UnboundLocalError,\n",
              "  'AttributeError': AttributeError,\n",
              "  'SyntaxError': SyntaxError,\n",
              "  'IndentationError': IndentationError,\n",
              "  'TabError': TabError,\n",
              "  'LookupError': LookupError,\n",
              "  'IndexError': IndexError,\n",
              "  'KeyError': KeyError,\n",
              "  'ValueError': ValueError,\n",
              "  'UnicodeError': UnicodeError,\n",
              "  'UnicodeEncodeError': UnicodeEncodeError,\n",
              "  'UnicodeDecodeError': UnicodeDecodeError,\n",
              "  'UnicodeTranslateError': UnicodeTranslateError,\n",
              "  'AssertionError': AssertionError,\n",
              "  'ArithmeticError': ArithmeticError,\n",
              "  'FloatingPointError': FloatingPointError,\n",
              "  'OverflowError': OverflowError,\n",
              "  'ZeroDivisionError': ZeroDivisionError,\n",
              "  'SystemError': SystemError,\n",
              "  'ReferenceError': ReferenceError,\n",
              "  'MemoryError': MemoryError,\n",
              "  'BufferError': BufferError,\n",
              "  'Warning': Warning,\n",
              "  'UserWarning': UserWarning,\n",
              "  'DeprecationWarning': DeprecationWarning,\n",
              "  'PendingDeprecationWarning': PendingDeprecationWarning,\n",
              "  'SyntaxWarning': SyntaxWarning,\n",
              "  'RuntimeWarning': RuntimeWarning,\n",
              "  'FutureWarning': FutureWarning,\n",
              "  'ImportWarning': ImportWarning,\n",
              "  'UnicodeWarning': UnicodeWarning,\n",
              "  'BytesWarning': BytesWarning,\n",
              "  'ResourceWarning': ResourceWarning,\n",
              "  'ConnectionError': ConnectionError,\n",
              "  'BlockingIOError': BlockingIOError,\n",
              "  'BrokenPipeError': BrokenPipeError,\n",
              "  'ChildProcessError': ChildProcessError,\n",
              "  'ConnectionAbortedError': ConnectionAbortedError,\n",
              "  'ConnectionRefusedError': ConnectionRefusedError,\n",
              "  'ConnectionResetError': ConnectionResetError,\n",
              "  'FileExistsError': FileExistsError,\n",
              "  'FileNotFoundError': FileNotFoundError,\n",
              "  'IsADirectoryError': IsADirectoryError,\n",
              "  'NotADirectoryError': NotADirectoryError,\n",
              "  'InterruptedError': InterruptedError,\n",
              "  'PermissionError': PermissionError,\n",
              "  'ProcessLookupError': ProcessLookupError,\n",
              "  'TimeoutError': TimeoutError,\n",
              "  'open': <function io.open(file, mode='r', buffering=-1, encoding=None, errors=None, newline=None, closefd=True, opener=None)>,\n",
              "  'copyright': Copyright (c) 2001-2019 Python Software Foundation.\n",
              "  All Rights Reserved.\n",
              "  \n",
              "  Copyright (c) 2000 BeOpen.com.\n",
              "  All Rights Reserved.\n",
              "  \n",
              "  Copyright (c) 1995-2001 Corporation for National Research Initiatives.\n",
              "  All Rights Reserved.\n",
              "  \n",
              "  Copyright (c) 1991-1995 Stichting Mathematisch Centrum, Amsterdam.\n",
              "  All Rights Reserved.,\n",
              "  'credits':     Thanks to CWI, CNRI, BeOpen.com, Zope Corporation and a cast of thousands\n",
              "      for supporting Python development.  See www.python.org for more information.,\n",
              "  'license': See https://www.python.org/psf/license/,\n",
              "  'help': Type help() for interactive help, or help(object) for help about object.,\n",
              "  '__IPYTHON__': True,\n",
              "  'display': <function IPython.core.display.display(*objs, include=None, exclude=None, metadata=None, transient=None, display_id=None, **kwargs)>,\n",
              "  'get_ipython': <bound method InteractiveShell.get_ipython of <ipykernel.zmqshell.ZMQInteractiveShell object at 0x000002D1EED78EC8>>},\n",
              " '__all__': ['deque',\n",
              "  'defaultdict',\n",
              "  'namedtuple',\n",
              "  'UserDict',\n",
              "  'UserList',\n",
              "  'UserString',\n",
              "  'Counter',\n",
              "  'OrderedDict',\n",
              "  'ChainMap'],\n",
              " '_collections_abc': <module '_collections_abc' from 'C:\\\\ProgramData\\\\Anaconda3\\\\lib\\\\_collections_abc.py'>,\n",
              " '_itemgetter': operator.itemgetter,\n",
              " '_eq': <function _operator.eq(a, b, /)>,\n",
              " '_iskeyword': <function frozenset.__contains__>,\n",
              " '_sys': <module 'sys' (built-in)>,\n",
              " '_heapq': <module 'heapq' from 'C:\\\\ProgramData\\\\Anaconda3\\\\lib\\\\heapq.py'>,\n",
              " '_proxy': <function _weakref.proxy>,\n",
              " '_repeat': itertools.repeat,\n",
              " '_chain': itertools.chain,\n",
              " '_starmap': itertools.starmap,\n",
              " '_recursive_repr': <function reprlib.recursive_repr(fillvalue='...')>,\n",
              " 'deque': collections.deque,\n",
              " 'defaultdict': collections.defaultdict,\n",
              " '__getattr__': <function collections.__getattr__(name)>,\n",
              " '_OrderedDictKeysView': collections._OrderedDictKeysView,\n",
              " '_OrderedDictItemsView': collections._OrderedDictItemsView,\n",
              " '_OrderedDictValuesView': collections._OrderedDictValuesView,\n",
              " '_Link': collections._Link,\n",
              " 'OrderedDict': collections.OrderedDict,\n",
              " '_nt_itemgetters': {0: (operator.itemgetter(0), 'Alias for field number 0'),\n",
              "  1: (operator.itemgetter(1), 'Alias for field number 1'),\n",
              "  2: (operator.itemgetter(2), 'Alias for field number 2'),\n",
              "  3: (operator.itemgetter(3), 'Alias for field number 3'),\n",
              "  4: (operator.itemgetter(4), 'Alias for field number 4'),\n",
              "  5: (operator.itemgetter(5), 'Alias for field number 5'),\n",
              "  6: (operator.itemgetter(6), 'Alias for field number 6'),\n",
              "  7: (operator.itemgetter(7), 'Alias for field number 7')},\n",
              " 'namedtuple': <function collections.namedtuple(typename, field_names, *, rename=False, defaults=None, module=None)>,\n",
              " '_count_elements': <function _collections._count_elements>,\n",
              " 'Counter': collections.Counter,\n",
              " 'ChainMap': collections.ChainMap,\n",
              " 'UserDict': collections.UserDict,\n",
              " 'UserList': collections.UserList,\n",
              " 'UserString': collections.UserString,\n",
              " 'abc': <module 'collections.abc' from 'C:\\\\ProgramData\\\\Anaconda3\\\\lib\\\\collections\\\\abc.py'>}"
            ]
          },
          "metadata": {
            "tags": []
          },
          "execution_count": 138
        }
      ]
    },
    {
      "cell_type": "code",
      "metadata": {
        "id": "xW_hRFGOl9sh",
        "colab_type": "code",
        "colab": {}
      },
      "source": [
        "count = c.Counter(name for name,marks in marks)"
      ],
      "execution_count": null,
      "outputs": []
    },
    {
      "cell_type": "code",
      "metadata": {
        "id": "fazW4p1ul9si",
        "colab_type": "code",
        "colab": {},
        "outputId": "22ced502-4170-4958-9949-cf7ac4215854"
      },
      "source": [
        "count # Counter keep count of all items inserted in collection with keys"
      ],
      "execution_count": null,
      "outputs": [
        {
          "output_type": "execute_result",
          "data": {
            "text/plain": [
              "Counter({'Shubham': 1, 'Pankaj': 1, 'JournalDev': 2})"
            ]
          },
          "metadata": {
            "tags": []
          },
          "execution_count": 141
        }
      ]
    },
    {
      "cell_type": "code",
      "metadata": {
        "id": "ql8d7wfkl9sj",
        "colab_type": "code",
        "colab": {}
      },
      "source": [
        "count2 = c.Counter(v for k,v in marks)"
      ],
      "execution_count": null,
      "outputs": []
    },
    {
      "cell_type": "code",
      "metadata": {
        "id": "ALbpgz_Nl9sk",
        "colab_type": "code",
        "colab": {},
        "outputId": "cc22d5e2-1229-4648-8e64-7e6a6eeba79b"
      },
      "source": [
        "count2"
      ],
      "execution_count": null,
      "outputs": [
        {
          "output_type": "execute_result",
          "data": {
            "text/plain": [
              "Counter({89: 1, 92: 1, 99: 1, 98: 1})"
            ]
          },
          "metadata": {
            "tags": []
          },
          "execution_count": 143
        }
      ]
    },
    {
      "cell_type": "markdown",
      "metadata": {
        "id": "EreZMlTbl9sm",
        "colab_type": "text"
      },
      "source": [
        "## Random Module"
      ]
    },
    {
      "cell_type": "code",
      "metadata": {
        "id": "r2eL-vITl9sm",
        "colab_type": "code",
        "colab": {}
      },
      "source": [
        "import random as r"
      ],
      "execution_count": null,
      "outputs": []
    },
    {
      "cell_type": "code",
      "metadata": {
        "id": "aAhqRyyKl9sn",
        "colab_type": "code",
        "colab": {},
        "outputId": "7c7d5dee-993d-4d45-f28a-f8119b593759"
      },
      "source": [
        "r.random()"
      ],
      "execution_count": null,
      "outputs": [
        {
          "output_type": "execute_result",
          "data": {
            "text/plain": [
              "0.3686168127221998"
            ]
          },
          "metadata": {
            "tags": []
          },
          "execution_count": 145
        }
      ]
    },
    {
      "cell_type": "code",
      "metadata": {
        "id": "-MmbNmJfl9sp",
        "colab_type": "code",
        "colab": {},
        "outputId": "6517dc51-5379-4910-f248-eca2b8da67d8"
      },
      "source": [
        "r.randint(1,100)"
      ],
      "execution_count": null,
      "outputs": [
        {
          "output_type": "execute_result",
          "data": {
            "text/plain": [
              "79"
            ]
          },
          "metadata": {
            "tags": []
          },
          "execution_count": 146
        }
      ]
    },
    {
      "cell_type": "code",
      "metadata": {
        "id": "PCr6_Qz1l9sq",
        "colab_type": "code",
        "colab": {},
        "outputId": "bae1990d-7624-414d-eb1a-add0ef21e26b"
      },
      "source": [
        "r.randrange(1,10)"
      ],
      "execution_count": null,
      "outputs": [
        {
          "output_type": "execute_result",
          "data": {
            "text/plain": [
              "8"
            ]
          },
          "metadata": {
            "tags": []
          },
          "execution_count": 148
        }
      ]
    },
    {
      "cell_type": "code",
      "metadata": {
        "id": "doYktyxUl9sr",
        "colab_type": "code",
        "colab": {},
        "outputId": "949feabf-bd91-4e6f-9ba1-288d1c8e2a06"
      },
      "source": [
        "r.randrange(1,100,5)"
      ],
      "execution_count": null,
      "outputs": [
        {
          "output_type": "execute_result",
          "data": {
            "text/plain": [
              "76"
            ]
          },
          "metadata": {
            "tags": []
          },
          "execution_count": 150
        }
      ]
    },
    {
      "cell_type": "code",
      "metadata": {
        "id": "tm_oPy5fl9st",
        "colab_type": "code",
        "colab": {},
        "outputId": "22a0939f-084c-475d-8632-1b302db6209c"
      },
      "source": [
        "r.choice('computer')"
      ],
      "execution_count": null,
      "outputs": [
        {
          "output_type": "execute_result",
          "data": {
            "text/plain": [
              "'r'"
            ]
          },
          "metadata": {
            "tags": []
          },
          "execution_count": 151
        }
      ]
    },
    {
      "cell_type": "code",
      "metadata": {
        "id": "TqOizJVql9sv",
        "colab_type": "code",
        "colab": {},
        "outputId": "3b658a45-f85a-4c4b-c565-c89df4f04573"
      },
      "source": [
        "r.choice([1,4,2,7,5,9,3])"
      ],
      "execution_count": null,
      "outputs": [
        {
          "output_type": "execute_result",
          "data": {
            "text/plain": [
              "9"
            ]
          },
          "metadata": {
            "tags": []
          },
          "execution_count": 152
        }
      ]
    },
    {
      "cell_type": "code",
      "metadata": {
        "id": "KXKPUUaZl9sx",
        "colab_type": "code",
        "colab": {}
      },
      "source": [
        "a = [1,2,3,4,5]\n",
        "r.shuffle(a)"
      ],
      "execution_count": null,
      "outputs": []
    },
    {
      "cell_type": "code",
      "metadata": {
        "id": "3cotXU-Dl9sy",
        "colab_type": "code",
        "colab": {},
        "outputId": "f541216f-e3da-4586-b6e2-c2e76e18852e"
      },
      "source": [
        "a"
      ],
      "execution_count": null,
      "outputs": [
        {
          "output_type": "execute_result",
          "data": {
            "text/plain": [
              "[1, 2, 5, 4, 3]"
            ]
          },
          "metadata": {
            "tags": []
          },
          "execution_count": 157
        }
      ]
    },
    {
      "cell_type": "markdown",
      "metadata": {
        "id": "22q5ka89l9s0",
        "colab_type": "text"
      },
      "source": [
        "## Date Time Module"
      ]
    },
    {
      "cell_type": "code",
      "metadata": {
        "id": "M-nkLs7Zl9s2",
        "colab_type": "code",
        "colab": {}
      },
      "source": [
        "import time as t"
      ],
      "execution_count": null,
      "outputs": []
    },
    {
      "cell_type": "code",
      "metadata": {
        "id": "jobxt4rAl9s3",
        "colab_type": "code",
        "colab": {}
      },
      "source": [
        "import datetime as d"
      ],
      "execution_count": null,
      "outputs": []
    },
    {
      "cell_type": "code",
      "metadata": {
        "id": "3No9uAX2l9s5",
        "colab_type": "code",
        "colab": {},
        "outputId": "70d0bb0c-b9ef-420c-d44e-ef6055fc857f"
      },
      "source": [
        "t.time() # in seconds"
      ],
      "execution_count": null,
      "outputs": [
        {
          "output_type": "execute_result",
          "data": {
            "text/plain": [
              "1585579792.7254963"
            ]
          },
          "metadata": {
            "tags": []
          },
          "execution_count": 170
        }
      ]
    },
    {
      "cell_type": "code",
      "metadata": {
        "id": "ah1cZmM2l9s6",
        "colab_type": "code",
        "colab": {},
        "outputId": "f11005e3-b3fe-4612-b96f-1772073f3b67"
      },
      "source": [
        "print(d.datetime.now())"
      ],
      "execution_count": null,
      "outputs": [
        {
          "output_type": "stream",
          "text": [
            "2020-03-30 20:19:52.857540\n"
          ],
          "name": "stdout"
        }
      ]
    },
    {
      "cell_type": "code",
      "metadata": {
        "id": "B24aUhebl9s8",
        "colab_type": "code",
        "colab": {},
        "outputId": "984c9928-1b3a-4067-d641-6db36140ff21"
      },
      "source": [
        "print(\"Present year: \", d.date.today().strftime(\"%Y\"))\n",
        "print(\"Month of year: \", d.date.today().strftime(\"%B\"))\n",
        "print(\"Week number of the year: \", d.date.today().strftime(\"%W\"))\n",
        "print(\"Weekday of the week: \", d.date.today().strftime(\"%w\"))\n",
        "print(\"Day of year: \", d.date.today().strftime(\"%j\"))\n",
        "print(\"Day of the month : \", d.date.today().strftime(\"%d\"))\n",
        "print(\"Day of week: \", d.date.today().strftime(\"%A\"))"
      ],
      "execution_count": null,
      "outputs": [
        {
          "output_type": "stream",
          "text": [
            "Present year:  2020\n",
            "Month of year:  March\n",
            "Week number of the year:  13\n",
            "Weekday of the week:  1\n",
            "Day of year:  090\n",
            "Day of the month :  30\n",
            "Day of week:  Monday\n"
          ],
          "name": "stdout"
        }
      ]
    },
    {
      "cell_type": "code",
      "metadata": {
        "id": "_sPUKDutl9s9",
        "colab_type": "code",
        "colab": {},
        "outputId": "eae9ed26-520a-4885-90d8-ce606879b051"
      },
      "source": [
        "birthday = d.date(1994,5, 20)  #year, month, day\n",
        "print(birthday.strftime(\"%A\"))"
      ],
      "execution_count": null,
      "outputs": [
        {
          "output_type": "stream",
          "text": [
            "Friday\n"
          ],
          "name": "stdout"
        }
      ]
    }
  ]
}